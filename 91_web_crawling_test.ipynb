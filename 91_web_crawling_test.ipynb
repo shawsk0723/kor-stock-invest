{
 "cells": [
  {
   "cell_type": "code",
   "execution_count": null,
   "id": "7b124f17",
   "metadata": {},
   "outputs": [],
   "source": []
  },
  {
   "cell_type": "markdown",
   "id": "84e51909",
   "metadata": {},
   "source": [
    "https://bigdata-doctrine.tistory.com/3"
   ]
  },
  {
   "cell_type": "code",
   "execution_count": null,
   "id": "15e5ef1f",
   "metadata": {},
   "outputs": [],
   "source": [
    "#리스트에 코스피에 상장된 주식들의 티커 저장하기\n",
    "# 모듈 가져오기\n",
    "!pip install pykrx\n",
    "from pykrx import stock\n",
    "\n",
    "# 오늘날 코스피에 상장되어 있는 주식의 이름과 티커 수집 \n",
    "today = datetime.today().strftime(\"%Y%m%d\")\n",
    "ticker_list = stock.get_market_ticker_list(date = today, market=\"KOSPI\")\n",
    "symbol_list = []\n",
    "for ticker in ticker_list:\n",
    "    symbol = stock.get_market_ticker_name(ticker)\n",
    "    symbol_list.append(symbol)\n",
    "\n",
    "# 코스피 상장 주식의 개수 확인\n",
    "print(len(ticker_list))\n",
    "print(len(symbol_list))"
   ]
  },
  {
   "cell_type": "code",
   "execution_count": null,
   "id": "e3339592",
   "metadata": {},
   "outputs": [],
   "source": []
  },
  {
   "cell_type": "code",
   "execution_count": 1,
   "id": "058f21fe",
   "metadata": {},
   "outputs": [],
   "source": [
    "import requests\n",
    "from bs4 import BeautifulSoup\n"
   ]
  },
  {
   "cell_type": "code",
   "execution_count": 4,
   "id": "a9a4661b",
   "metadata": {},
   "outputs": [],
   "source": [
    "ticker_list = ['005930']\n",
    "symbol_list = ['삼성전자']"
   ]
  },
  {
   "cell_type": "code",
   "execution_count": 5,
   "id": "e3c86c21",
   "metadata": {},
   "outputs": [],
   "source": [
    "# 수집할 증권 데이터의 셀렉터 저장\n",
    "per_selector = \"#_per\"\n",
    "pbr_selector = \"#_pbr\"\n",
    "dividend_yield_selector = \"#_dvr\""
   ]
  },
  {
   "cell_type": "code",
   "execution_count": 6,
   "id": "e96bdbaf",
   "metadata": {},
   "outputs": [],
   "source": [
    "\n",
    "# 크롤링을 사용하여 증권 데이터 수집하기\n",
    "pers = []\n",
    "pbrs = []\n",
    "dividend_yields = []\n",
    "\n",
    "for ticker in ticker_list:\n",
    "    url = f\"https://finance.naver.com/item/main.nhn?code={ticker}\"\n",
    "    html = requests.get(url, headers={'User-agent':'Mozilla/5.0'})\n",
    "    soup = BeautifulSoup(html.text, \"lxml\")\n",
    "    per = soup.select(per_selector)\n",
    "    pbr = soup.select(pbr_selector)\n",
    "    dividend_yield = soup.select(dividend_yield_selector)\n",
    "\n",
    "    if not per:  # 리스트가 비어있을 경우 None으로 변환\n",
    "        per = [None]\n",
    "    for pe in per:\n",
    "        if pe != None:\n",
    "            per_text = pe.text\n",
    "            per_text = per_text.replace(\",\", \"\")  # float변환을 위해 따옴표 제거\n",
    "            pers.append(float(per_text))\n",
    "        else:\n",
    "            per_text = pe\n",
    "            pers.append(per_text)\n",
    "\n",
    "    if not pbr:  # 리스트가 비어있을 경우 None으로 변환\n",
    "        pbr = [None]\n",
    "    for pb in pbr:\n",
    "        if pb != None:\n",
    "            pbr_text = pb.text\n",
    "            pbr_text = pbr_text.replace(\",\", \"\")  # float변환을 위해 따옴표 제거\n",
    "            pbrs.append(float(pbr_text))\n",
    "        else:\n",
    "            pbr_text = pb\n",
    "            pbrs.append(pbr_text)\n",
    "        \n",
    "    if not dividend_yield:  # 리스트가 비어있을 경우 None으로 변환\n",
    "        dividend_yield = [None]\n",
    "    for d in dividend_yield:\n",
    "        if d != None:\n",
    "            dividend_yield_text = d.text\n",
    "            dividend_yield_text = dividend_yield_text.replace(\",\", \"\")  # float변환을 위해 따옴표 제거\n",
    "            dividend_yields.append(float(dividend_yield_text))\n",
    "        else:\n",
    "            dividend_yield_text = d\n",
    "            dividend_yields.append(dividend_yield_text)"
   ]
  },
  {
   "cell_type": "code",
   "execution_count": 7,
   "id": "42fb2a80",
   "metadata": {},
   "outputs": [
    {
     "data": {
      "text/plain": [
       "[10.35]"
      ]
     },
     "execution_count": 7,
     "metadata": {},
     "output_type": "execute_result"
    }
   ],
   "source": [
    "pers"
   ]
  },
  {
   "cell_type": "code",
   "execution_count": 8,
   "id": "6a90c67a",
   "metadata": {},
   "outputs": [
    {
     "data": {
      "text/plain": [
       "[1.29]"
      ]
     },
     "execution_count": 8,
     "metadata": {},
     "output_type": "execute_result"
    }
   ],
   "source": [
    "pbrs"
   ]
  },
  {
   "cell_type": "code",
   "execution_count": 9,
   "id": "7414918c",
   "metadata": {},
   "outputs": [
    {
     "data": {
      "text/plain": [
       "[2.26]"
      ]
     },
     "execution_count": 9,
     "metadata": {},
     "output_type": "execute_result"
    }
   ],
   "source": [
    "dividend_yields"
   ]
  },
  {
   "cell_type": "code",
   "execution_count": null,
   "id": "689a11ac",
   "metadata": {},
   "outputs": [],
   "source": []
  }
 ],
 "metadata": {
  "kernelspec": {
   "display_name": "Python 3 (ipykernel)",
   "language": "python",
   "name": "python3"
  },
  "language_info": {
   "codemirror_mode": {
    "name": "ipython",
    "version": 3
   },
   "file_extension": ".py",
   "mimetype": "text/x-python",
   "name": "python",
   "nbconvert_exporter": "python",
   "pygments_lexer": "ipython3",
   "version": "3.9.12"
  }
 },
 "nbformat": 4,
 "nbformat_minor": 5
}
