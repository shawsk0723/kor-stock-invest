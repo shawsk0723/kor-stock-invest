{
 "cells": [
  {
   "cell_type": "code",
   "execution_count": 1,
   "id": "368c49c4",
   "metadata": {},
   "outputs": [],
   "source": [
    "import numpy as np\n",
    "import pandas as pd\n",
    "from scipy.signal import savgol_filter\n",
    "from pykrx import stock\n",
    "import matplotlib.pyplot as plt\n",
    "plt.rcParams['font.family'] = 'Malgun Gothic'"
   ]
  },
  {
   "cell_type": "code",
   "execution_count": 2,
   "id": "a8180ffd",
   "metadata": {},
   "outputs": [],
   "source": [
    "\"\"\"\n",
    "분석 기간\n",
    "\"\"\"\n",
    "start_date = '20130101'\n",
    "end_date = '20221231'"
   ]
  },
  {
   "cell_type": "code",
   "execution_count": 3,
   "id": "98745d8f",
   "metadata": {},
   "outputs": [],
   "source": [
    "\"\"\"\n",
    "NH 투자증권\n",
    "\"\"\"\n",
    "code = '005940'"
   ]
  },
  {
   "cell_type": "code",
   "execution_count": 34,
   "id": "614902ab",
   "metadata": {},
   "outputs": [],
   "source": [
    "df_annual_f = stock.get_market_fundamental(start_date, end_date, code, freq='y')"
   ]
  },
  {
   "cell_type": "code",
   "execution_count": 35,
   "id": "289c160b",
   "metadata": {},
   "outputs": [
    {
     "data": {
      "text/html": [
       "<div>\n",
       "<style scoped>\n",
       "    .dataframe tbody tr th:only-of-type {\n",
       "        vertical-align: middle;\n",
       "    }\n",
       "\n",
       "    .dataframe tbody tr th {\n",
       "        vertical-align: top;\n",
       "    }\n",
       "\n",
       "    .dataframe thead th {\n",
       "        text-align: right;\n",
       "    }\n",
       "</style>\n",
       "<table border=\"1\" class=\"dataframe\">\n",
       "  <thead>\n",
       "    <tr style=\"text-align: right;\">\n",
       "      <th></th>\n",
       "      <th>BPS</th>\n",
       "      <th>PER</th>\n",
       "      <th>PBR</th>\n",
       "      <th>EPS</th>\n",
       "      <th>DIV</th>\n",
       "      <th>DPS</th>\n",
       "    </tr>\n",
       "    <tr>\n",
       "      <th>날짜</th>\n",
       "      <th></th>\n",
       "      <th></th>\n",
       "      <th></th>\n",
       "      <th></th>\n",
       "      <th></th>\n",
       "      <th></th>\n",
       "    </tr>\n",
       "  </thead>\n",
       "  <tbody>\n",
       "    <tr>\n",
       "      <th>2013-12-31</th>\n",
       "      <td>15772</td>\n",
       "      <td>12.15</td>\n",
       "      <td>0.81</td>\n",
       "      <td>1045</td>\n",
       "      <td>1.81</td>\n",
       "      <td>230</td>\n",
       "    </tr>\n",
       "    <tr>\n",
       "      <th>2014-12-31</th>\n",
       "      <td>15929</td>\n",
       "      <td>22.48</td>\n",
       "      <td>0.60</td>\n",
       "      <td>428</td>\n",
       "      <td>1.04</td>\n",
       "      <td>100</td>\n",
       "    </tr>\n",
       "    <tr>\n",
       "      <th>2015-12-31</th>\n",
       "      <td>15770</td>\n",
       "      <td>145.07</td>\n",
       "      <td>0.65</td>\n",
       "      <td>71</td>\n",
       "      <td>0.49</td>\n",
       "      <td>50</td>\n",
       "    </tr>\n",
       "    <tr>\n",
       "      <th>2016-12-31</th>\n",
       "      <td>14550</td>\n",
       "      <td>24.72</td>\n",
       "      <td>0.66</td>\n",
       "      <td>388</td>\n",
       "      <td>1.67</td>\n",
       "      <td>160</td>\n",
       "    </tr>\n",
       "    <tr>\n",
       "      <th>2017-12-31</th>\n",
       "      <td>15127</td>\n",
       "      <td>13.45</td>\n",
       "      <td>0.64</td>\n",
       "      <td>719</td>\n",
       "      <td>4.14</td>\n",
       "      <td>400</td>\n",
       "    </tr>\n",
       "    <tr>\n",
       "      <th>2018-12-31</th>\n",
       "      <td>15448</td>\n",
       "      <td>17.74</td>\n",
       "      <td>0.91</td>\n",
       "      <td>789</td>\n",
       "      <td>2.86</td>\n",
       "      <td>400</td>\n",
       "    </tr>\n",
       "    <tr>\n",
       "      <th>2019-12-31</th>\n",
       "      <td>16087</td>\n",
       "      <td>10.56</td>\n",
       "      <td>0.77</td>\n",
       "      <td>1170</td>\n",
       "      <td>4.05</td>\n",
       "      <td>500</td>\n",
       "    </tr>\n",
       "    <tr>\n",
       "      <th>2020-12-31</th>\n",
       "      <td>16810</td>\n",
       "      <td>10.39</td>\n",
       "      <td>0.74</td>\n",
       "      <td>1203</td>\n",
       "      <td>4.00</td>\n",
       "      <td>500</td>\n",
       "    </tr>\n",
       "    <tr>\n",
       "      <th>2021-12-31</th>\n",
       "      <td>17934</td>\n",
       "      <td>7.07</td>\n",
       "      <td>0.62</td>\n",
       "      <td>1585</td>\n",
       "      <td>4.46</td>\n",
       "      <td>500</td>\n",
       "    </tr>\n",
       "    <tr>\n",
       "      <th>2022-12-31</th>\n",
       "      <td>19308</td>\n",
       "      <td>6.34</td>\n",
       "      <td>0.63</td>\n",
       "      <td>1923</td>\n",
       "      <td>5.74</td>\n",
       "      <td>700</td>\n",
       "    </tr>\n",
       "  </tbody>\n",
       "</table>\n",
       "</div>"
      ],
      "text/plain": [
       "              BPS     PER   PBR   EPS   DIV  DPS\n",
       "날짜                                              \n",
       "2013-12-31  15772   12.15  0.81  1045  1.81  230\n",
       "2014-12-31  15929   22.48  0.60   428  1.04  100\n",
       "2015-12-31  15770  145.07  0.65    71  0.49   50\n",
       "2016-12-31  14550   24.72  0.66   388  1.67  160\n",
       "2017-12-31  15127   13.45  0.64   719  4.14  400\n",
       "2018-12-31  15448   17.74  0.91   789  2.86  400\n",
       "2019-12-31  16087   10.56  0.77  1170  4.05  500\n",
       "2020-12-31  16810   10.39  0.74  1203  4.00  500\n",
       "2021-12-31  17934    7.07  0.62  1585  4.46  500\n",
       "2022-12-31  19308    6.34  0.63  1923  5.74  700"
      ]
     },
     "execution_count": 35,
     "metadata": {},
     "output_type": "execute_result"
    }
   ],
   "source": [
    "df_annual_f"
   ]
  },
  {
   "cell_type": "code",
   "execution_count": 36,
   "id": "b8f7e0f9",
   "metadata": {},
   "outputs": [
    {
     "data": {
      "image/png": "[encoded data removed]",
      "text/plain": [
       "<Figure size 432x288 with 1 Axes>"
      ]
     },
     "metadata": {
      "needs_background": "light"
     },
     "output_type": "display_data"
    }
   ],
   "source": [
    "df_annual_f.DPS.plot()\n",
    "plt.show()"
   ]
  },
  {
   "cell_type": "code",
   "execution_count": 40,
   "id": "030224c1",
   "metadata": {},
   "outputs": [
    {
     "data": {
      "image/png": "[encoded data removed]",
      "text/plain": [
       "<Figure size 432x288 with 1 Axes>"
      ]
     },
     "metadata": {
      "needs_background": "light"
     },
     "output_type": "display_data"
    }
   ],
   "source": [
    "df_annual_f.DPS.plot(kind='bar')\n",
    "plt.show()"
   ]
  },
  {
   "cell_type": "code",
   "execution_count": 41,
   "id": "f81eb2c0",
   "metadata": {},
   "outputs": [
    {
     "data": {
      "text/plain": [
       "[230, 100, 50, 160, 400, 400, 500, 500, 500, 700]"
      ]
     },
     "execution_count": 41,
     "metadata": {},
     "output_type": "execute_result"
    }
   ],
   "source": [
    "div_history = df_annual_f.DPS.to_list()\n",
    "div_history"
   ]
  },
  {
   "cell_type": "code",
   "execution_count": 42,
   "id": "e0a8fe81",
   "metadata": {},
   "outputs": [
    {
     "data": {
      "text/plain": [
       "[700, 500, 500, 500, 400, 400, 160, 50, 100, 230]"
      ]
     },
     "execution_count": 42,
     "metadata": {},
     "output_type": "execute_result"
    }
   ],
   "source": [
    "div_history.reverse()\n",
    "div_history"
   ]
  },
  {
   "cell_type": "code",
   "execution_count": 43,
   "id": "6dcec7d1",
   "metadata": {},
   "outputs": [
    {
     "data": {
      "text/plain": [
       "[500, 500, 500, 400, 400, 160, 50, 100, 230]"
      ]
     },
     "execution_count": 43,
     "metadata": {},
     "output_type": "execute_result"
    }
   ],
   "source": [
    "div_history[1:]"
   ]
  },
  {
   "cell_type": "code",
   "execution_count": 45,
   "id": "1f9c77b4",
   "metadata": {},
   "outputs": [
    {
     "name": "stdout",
     "output_type": "stream",
     "text": [
      "div_cur = 700, div_before = 500\n",
      "div_cur = 500, div_before = 500\n",
      "div_cur = 500, div_before = 500\n",
      "div_cur = 500, div_before = 400\n",
      "div_cur = 400, div_before = 400\n",
      "div_cur = 400, div_before = 160\n",
      "div_cur = 160, div_before = 50\n",
      "div_cur = 50, div_before = 100\n"
     ]
    },
    {
     "data": {
      "text/plain": [
       "7"
      ]
     },
     "execution_count": 45,
     "metadata": {},
     "output_type": "execute_result"
    }
   ],
   "source": [
    "div_growth_count = 0\n",
    "for div_cur, div_before in zip(div_history, div_history[1:]):\n",
    "    print(f'div_cur = {div_cur}, div_before = {div_before}')\n",
    "    if div_cur >= div_before:\n",
    "        div_growth_count += 1\n",
    "    else:\n",
    "        break\n",
    "div_growth_count        "
   ]
  },
  {
   "cell_type": "code",
   "execution_count": 52,
   "id": "033907c4",
   "metadata": {},
   "outputs": [],
   "source": [
    "def getDivGrowthYears(div_history):\n",
    "    div_history.reverse()\n",
    "    div_growth_count = 0\n",
    "    for div_cur, div_before in zip(div_history, div_history[1:]):\n",
    "        #print(f'div_cur = {div_cur}, div_before = {div_before}')\n",
    "        if div_before == 0:\n",
    "            break;\n",
    "\n",
    "        if div_cur >= div_before:\n",
    "            div_growth_count += 1\n",
    "        else:\n",
    "            break\n",
    "    return div_growth_count     "
   ]
  },
  {
   "cell_type": "code",
   "execution_count": 53,
   "id": "f2189a30",
   "metadata": {},
   "outputs": [
    {
     "data": {
      "text/plain": [
       "7"
      ]
     },
     "execution_count": 53,
     "metadata": {},
     "output_type": "execute_result"
    }
   ],
   "source": [
    "div_growth_count = getDivGrowthYears(df_annual_f.DPS.to_list())\n",
    "div_growth_count"
   ]
  },
  {
   "cell_type": "markdown",
   "id": "1171a2cc",
   "metadata": {},
   "source": [
    "\"\"\"\n",
    "배당 성장 기간 동안 배당 성장률 구하기\n",
    "\"\"\""
   ]
  },
  {
   "cell_type": "code",
   "execution_count": 54,
   "id": "7214790e",
   "metadata": {},
   "outputs": [
    {
     "data": {
      "text/plain": [
       "[700, 500, 500, 500, 400, 400, 160, 50]"
      ]
     },
     "execution_count": 54,
     "metadata": {},
     "output_type": "execute_result"
    }
   ],
   "source": [
    "actual_div_growth_history = div_history[:div_growth_count+1]\n",
    "actual_div_growth_history"
   ]
  },
  {
   "cell_type": "code",
   "execution_count": 55,
   "id": "15740e6f",
   "metadata": {},
   "outputs": [
    {
     "data": {
      "text/plain": [
       "0.4579162495762834"
      ]
     },
     "execution_count": 55,
     "metadata": {},
     "output_type": "execute_result"
    }
   ],
   "source": [
    "cagr = (actual_div_growth_history[0]/actual_div_growth_history[-1]) ** (1/div_growth_count) - 1\n",
    "cagr"
   ]
  },
  {
   "cell_type": "code",
   "execution_count": 56,
   "id": "408e596c",
   "metadata": {},
   "outputs": [],
   "source": [
    "def getCAGR(div_history):\n",
    "    cagr = (actual_div_growth_history[0]/actual_div_growth_history[-1]) ** (1/div_growth_count) - 1\n",
    "    return cagr"
   ]
  },
  {
   "cell_type": "code",
   "execution_count": 57,
   "id": "0c6ed3a4",
   "metadata": {},
   "outputs": [
    {
     "data": {
      "text/plain": [
       "0.4579162495762834"
      ]
     },
     "execution_count": 57,
     "metadata": {},
     "output_type": "execute_result"
    }
   ],
   "source": [
    "cagr = getCAGR(actual_div_growth_history)\n",
    "cagr"
   ]
  },
  {
   "cell_type": "code",
   "execution_count": null,
   "id": "bab48d1f",
   "metadata": {},
   "outputs": [],
   "source": []
  },
  {
   "cell_type": "code",
   "execution_count": null,
   "id": "0dc76bfa",
   "metadata": {},
   "outputs": [],
   "source": [
    "\"\"\"\n",
    "배당 유지/증가 년수 구하기\n",
    "\"\"\"\n",
    "def getDivGrowthCount(div_history):\n",
    "    divs = div_history.copy()\n",
    "    divs.reverse()\n",
    "    for div in divs:"
   ]
  },
  {
   "cell_type": "code",
   "execution_count": null,
   "id": "07ecbd0f",
   "metadata": {},
   "outputs": [],
   "source": []
  },
  {
   "cell_type": "code",
   "execution_count": null,
   "id": "03dfcfb8",
   "metadata": {},
   "outputs": [],
   "source": []
  },
  {
   "cell_type": "markdown",
   "id": "98062b3f",
   "metadata": {},
   "source": [
    "\"\"\"\n",
    "목표 주가 구하기\n",
    "\"\"\""
   ]
  },
  {
   "cell_type": "code",
   "execution_count": 9,
   "id": "118eafe2",
   "metadata": {},
   "outputs": [],
   "source": [
    "df_f = stock.get_market_fundamental(start_date, end_date, code, freq='d')"
   ]
  },
  {
   "cell_type": "code",
   "execution_count": 10,
   "id": "de620bf6",
   "metadata": {},
   "outputs": [
    {
     "data": {
      "text/html": [
       "<div>\n",
       "<style scoped>\n",
       "    .dataframe tbody tr th:only-of-type {\n",
       "        vertical-align: middle;\n",
       "    }\n",
       "\n",
       "    .dataframe tbody tr th {\n",
       "        vertical-align: top;\n",
       "    }\n",
       "\n",
       "    .dataframe thead th {\n",
       "        text-align: right;\n",
       "    }\n",
       "</style>\n",
       "<table border=\"1\" class=\"dataframe\">\n",
       "  <thead>\n",
       "    <tr style=\"text-align: right;\">\n",
       "      <th></th>\n",
       "      <th>BPS</th>\n",
       "      <th>PER</th>\n",
       "      <th>PBR</th>\n",
       "      <th>EPS</th>\n",
       "      <th>DIV</th>\n",
       "      <th>DPS</th>\n",
       "    </tr>\n",
       "    <tr>\n",
       "      <th>날짜</th>\n",
       "      <th></th>\n",
       "      <th></th>\n",
       "      <th></th>\n",
       "      <th></th>\n",
       "      <th></th>\n",
       "      <th></th>\n",
       "    </tr>\n",
       "  </thead>\n",
       "  <tbody>\n",
       "    <tr>\n",
       "      <th>2013-01-02</th>\n",
       "      <td>15772</td>\n",
       "      <td>12.15</td>\n",
       "      <td>0.81</td>\n",
       "      <td>1045</td>\n",
       "      <td>1.81</td>\n",
       "      <td>230</td>\n",
       "    </tr>\n",
       "    <tr>\n",
       "      <th>2013-01-03</th>\n",
       "      <td>15772</td>\n",
       "      <td>12.15</td>\n",
       "      <td>0.81</td>\n",
       "      <td>1045</td>\n",
       "      <td>1.81</td>\n",
       "      <td>230</td>\n",
       "    </tr>\n",
       "    <tr>\n",
       "      <th>2013-01-04</th>\n",
       "      <td>15772</td>\n",
       "      <td>11.91</td>\n",
       "      <td>0.79</td>\n",
       "      <td>1045</td>\n",
       "      <td>1.85</td>\n",
       "      <td>230</td>\n",
       "    </tr>\n",
       "    <tr>\n",
       "      <th>2013-01-07</th>\n",
       "      <td>15772</td>\n",
       "      <td>11.72</td>\n",
       "      <td>0.78</td>\n",
       "      <td>1045</td>\n",
       "      <td>1.88</td>\n",
       "      <td>230</td>\n",
       "    </tr>\n",
       "    <tr>\n",
       "      <th>2013-01-08</th>\n",
       "      <td>15772</td>\n",
       "      <td>11.53</td>\n",
       "      <td>0.76</td>\n",
       "      <td>1045</td>\n",
       "      <td>1.91</td>\n",
       "      <td>230</td>\n",
       "    </tr>\n",
       "    <tr>\n",
       "      <th>...</th>\n",
       "      <td>...</td>\n",
       "      <td>...</td>\n",
       "      <td>...</td>\n",
       "      <td>...</td>\n",
       "      <td>...</td>\n",
       "      <td>...</td>\n",
       "    </tr>\n",
       "    <tr>\n",
       "      <th>2022-12-23</th>\n",
       "      <td>21630</td>\n",
       "      <td>3.15</td>\n",
       "      <td>0.45</td>\n",
       "      <td>3071</td>\n",
       "      <td>10.85</td>\n",
       "      <td>1050</td>\n",
       "    </tr>\n",
       "    <tr>\n",
       "      <th>2022-12-26</th>\n",
       "      <td>21630</td>\n",
       "      <td>3.18</td>\n",
       "      <td>0.45</td>\n",
       "      <td>3071</td>\n",
       "      <td>10.74</td>\n",
       "      <td>1050</td>\n",
       "    </tr>\n",
       "    <tr>\n",
       "      <th>2022-12-27</th>\n",
       "      <td>21630</td>\n",
       "      <td>3.16</td>\n",
       "      <td>0.45</td>\n",
       "      <td>3071</td>\n",
       "      <td>10.84</td>\n",
       "      <td>1050</td>\n",
       "    </tr>\n",
       "    <tr>\n",
       "      <th>2022-12-28</th>\n",
       "      <td>21630</td>\n",
       "      <td>2.92</td>\n",
       "      <td>0.42</td>\n",
       "      <td>3071</td>\n",
       "      <td>11.69</td>\n",
       "      <td>1050</td>\n",
       "    </tr>\n",
       "    <tr>\n",
       "      <th>2022-12-29</th>\n",
       "      <td>21630</td>\n",
       "      <td>2.86</td>\n",
       "      <td>0.41</td>\n",
       "      <td>3071</td>\n",
       "      <td>11.97</td>\n",
       "      <td>1050</td>\n",
       "    </tr>\n",
       "  </tbody>\n",
       "</table>\n",
       "<p>2461 rows × 6 columns</p>\n",
       "</div>"
      ],
      "text/plain": [
       "              BPS    PER   PBR   EPS    DIV   DPS\n",
       "날짜                                               \n",
       "2013-01-02  15772  12.15  0.81  1045   1.81   230\n",
       "2013-01-03  15772  12.15  0.81  1045   1.81   230\n",
       "2013-01-04  15772  11.91  0.79  1045   1.85   230\n",
       "2013-01-07  15772  11.72  0.78  1045   1.88   230\n",
       "2013-01-08  15772  11.53  0.76  1045   1.91   230\n",
       "...           ...    ...   ...   ...    ...   ...\n",
       "2022-12-23  21630   3.15  0.45  3071  10.85  1050\n",
       "2022-12-26  21630   3.18  0.45  3071  10.74  1050\n",
       "2022-12-27  21630   3.16  0.45  3071  10.84  1050\n",
       "2022-12-28  21630   2.92  0.42  3071  11.69  1050\n",
       "2022-12-29  21630   2.86  0.41  3071  11.97  1050\n",
       "\n",
       "[2461 rows x 6 columns]"
      ]
     },
     "execution_count": 10,
     "metadata": {},
     "output_type": "execute_result"
    }
   ],
   "source": [
    "df_f"
   ]
  },
  {
   "cell_type": "code",
   "execution_count": 12,
   "id": "e8f9f044",
   "metadata": {},
   "outputs": [],
   "source": [
    "div_yields = savgol_filter(df_f.DIV, 51, 3)"
   ]
  },
  {
   "cell_type": "code",
   "execution_count": 13,
   "id": "4f05be60",
   "metadata": {},
   "outputs": [
    {
     "data": {
      "image/png": "[encoded data removed]",
      "text/plain": [
       "<Figure size 432x288 with 1 Axes>"
      ]
     },
     "metadata": {
      "needs_background": "light"
     },
     "output_type": "display_data"
    }
   ],
   "source": [
    "plt.plot(df_f.index.to_list(), div_yields)\n",
    "plt.show()"
   ]
  },
  {
   "cell_type": "code",
   "execution_count": null,
   "id": "1f67dd44",
   "metadata": {},
   "outputs": [],
   "source": []
  },
  {
   "cell_type": "code",
   "execution_count": 14,
   "id": "9506fb18",
   "metadata": {},
   "outputs": [
    {
     "data": {
      "text/html": [
       "<div>\n",
       "<style scoped>\n",
       "    .dataframe tbody tr th:only-of-type {\n",
       "        vertical-align: middle;\n",
       "    }\n",
       "\n",
       "    .dataframe tbody tr th {\n",
       "        vertical-align: top;\n",
       "    }\n",
       "\n",
       "    .dataframe thead th {\n",
       "        text-align: right;\n",
       "    }\n",
       "</style>\n",
       "<table border=\"1\" class=\"dataframe\">\n",
       "  <thead>\n",
       "    <tr style=\"text-align: right;\">\n",
       "      <th></th>\n",
       "      <th>시가</th>\n",
       "      <th>고가</th>\n",
       "      <th>저가</th>\n",
       "      <th>종가</th>\n",
       "      <th>거래량</th>\n",
       "      <th>거래대금</th>\n",
       "      <th>등락률</th>\n",
       "    </tr>\n",
       "    <tr>\n",
       "      <th>날짜</th>\n",
       "      <th></th>\n",
       "      <th></th>\n",
       "      <th></th>\n",
       "      <th></th>\n",
       "      <th></th>\n",
       "      <th></th>\n",
       "      <th></th>\n",
       "    </tr>\n",
       "  </thead>\n",
       "  <tbody>\n",
       "    <tr>\n",
       "      <th>2013-01-02</th>\n",
       "      <td>12100</td>\n",
       "      <td>12800</td>\n",
       "      <td>12050</td>\n",
       "      <td>12700</td>\n",
       "      <td>4009057</td>\n",
       "      <td>50156042300</td>\n",
       "      <td>7.17</td>\n",
       "    </tr>\n",
       "    <tr>\n",
       "      <th>2013-01-03</th>\n",
       "      <td>12800</td>\n",
       "      <td>12900</td>\n",
       "      <td>12600</td>\n",
       "      <td>12700</td>\n",
       "      <td>1687420</td>\n",
       "      <td>21450723850</td>\n",
       "      <td>0.00</td>\n",
       "    </tr>\n",
       "    <tr>\n",
       "      <th>2013-01-04</th>\n",
       "      <td>12700</td>\n",
       "      <td>12700</td>\n",
       "      <td>12300</td>\n",
       "      <td>12450</td>\n",
       "      <td>1374673</td>\n",
       "      <td>17084729850</td>\n",
       "      <td>-1.97</td>\n",
       "    </tr>\n",
       "    <tr>\n",
       "      <th>2013-01-07</th>\n",
       "      <td>12500</td>\n",
       "      <td>12500</td>\n",
       "      <td>12100</td>\n",
       "      <td>12250</td>\n",
       "      <td>1293984</td>\n",
       "      <td>15829874500</td>\n",
       "      <td>-1.61</td>\n",
       "    </tr>\n",
       "    <tr>\n",
       "      <th>2013-01-08</th>\n",
       "      <td>12100</td>\n",
       "      <td>12300</td>\n",
       "      <td>12000</td>\n",
       "      <td>12050</td>\n",
       "      <td>1050809</td>\n",
       "      <td>12723014300</td>\n",
       "      <td>-1.63</td>\n",
       "    </tr>\n",
       "    <tr>\n",
       "      <th>...</th>\n",
       "      <td>...</td>\n",
       "      <td>...</td>\n",
       "      <td>...</td>\n",
       "      <td>...</td>\n",
       "      <td>...</td>\n",
       "      <td>...</td>\n",
       "      <td>...</td>\n",
       "    </tr>\n",
       "    <tr>\n",
       "      <th>2022-12-23</th>\n",
       "      <td>9650</td>\n",
       "      <td>9720</td>\n",
       "      <td>9630</td>\n",
       "      <td>9680</td>\n",
       "      <td>463661</td>\n",
       "      <td>4485345840</td>\n",
       "      <td>0.00</td>\n",
       "    </tr>\n",
       "    <tr>\n",
       "      <th>2022-12-26</th>\n",
       "      <td>9680</td>\n",
       "      <td>9790</td>\n",
       "      <td>9660</td>\n",
       "      <td>9780</td>\n",
       "      <td>671634</td>\n",
       "      <td>6534508850</td>\n",
       "      <td>1.03</td>\n",
       "    </tr>\n",
       "    <tr>\n",
       "      <th>2022-12-27</th>\n",
       "      <td>9790</td>\n",
       "      <td>9820</td>\n",
       "      <td>9680</td>\n",
       "      <td>9690</td>\n",
       "      <td>1231087</td>\n",
       "      <td>11998072860</td>\n",
       "      <td>-0.92</td>\n",
       "    </tr>\n",
       "    <tr>\n",
       "      <th>2022-12-28</th>\n",
       "      <td>9230</td>\n",
       "      <td>9240</td>\n",
       "      <td>8980</td>\n",
       "      <td>8980</td>\n",
       "      <td>1515265</td>\n",
       "      <td>13675194820</td>\n",
       "      <td>-7.33</td>\n",
       "    </tr>\n",
       "    <tr>\n",
       "      <th>2022-12-29</th>\n",
       "      <td>8940</td>\n",
       "      <td>8950</td>\n",
       "      <td>8770</td>\n",
       "      <td>8770</td>\n",
       "      <td>604563</td>\n",
       "      <td>5339139640</td>\n",
       "      <td>-2.34</td>\n",
       "    </tr>\n",
       "  </tbody>\n",
       "</table>\n",
       "<p>2461 rows × 7 columns</p>\n",
       "</div>"
      ],
      "text/plain": [
       "               시가     고가     저가     종가      거래량         거래대금   등락률\n",
       "날짜                                                                \n",
       "2013-01-02  12100  12800  12050  12700  4009057  50156042300  7.17\n",
       "2013-01-03  12800  12900  12600  12700  1687420  21450723850  0.00\n",
       "2013-01-04  12700  12700  12300  12450  1374673  17084729850 -1.97\n",
       "2013-01-07  12500  12500  12100  12250  1293984  15829874500 -1.61\n",
       "2013-01-08  12100  12300  12000  12050  1050809  12723014300 -1.63\n",
       "...           ...    ...    ...    ...      ...          ...   ...\n",
       "2022-12-23   9650   9720   9630   9680   463661   4485345840  0.00\n",
       "2022-12-26   9680   9790   9660   9780   671634   6534508850  1.03\n",
       "2022-12-27   9790   9820   9680   9690  1231087  11998072860 -0.92\n",
       "2022-12-28   9230   9240   8980   8980  1515265  13675194820 -7.33\n",
       "2022-12-29   8940   8950   8770   8770   604563   5339139640 -2.34\n",
       "\n",
       "[2461 rows x 7 columns]"
      ]
     },
     "execution_count": 14,
     "metadata": {},
     "output_type": "execute_result"
    }
   ],
   "source": [
    "df_p = stock.get_market_ohlcv(start_date, end_date, code)\n",
    "df_p"
   ]
  },
  {
   "cell_type": "code",
   "execution_count": 15,
   "id": "2dbb43f7",
   "metadata": {},
   "outputs": [
    {
     "data": {
      "image/png": "[encoded data removed]",
      "text/plain": [
       "<Figure size 432x288 with 1 Axes>"
      ]
     },
     "metadata": {
      "needs_background": "light"
     },
     "output_type": "display_data"
    }
   ],
   "source": [
    "df_p.종가.plot()\n",
    "plt.show()"
   ]
  },
  {
   "cell_type": "markdown",
   "id": "feae2445",
   "metadata": {},
   "source": [
    "\"\"\" 로우 패스 필터 \"\"\""
   ]
  },
  {
   "cell_type": "code",
   "execution_count": 18,
   "id": "4e29e96e",
   "metadata": {},
   "outputs": [],
   "source": [
    "div_yields = savgol_filter(df_f.DIV, 51, 3)"
   ]
  },
  {
   "cell_type": "code",
   "execution_count": 19,
   "id": "1f5743c2",
   "metadata": {},
   "outputs": [],
   "source": [
    "close_prices = savgol_filter(df_p.종가, 51, 3)"
   ]
  },
  {
   "cell_type": "code",
   "execution_count": 62,
   "id": "b7001b43",
   "metadata": {},
   "outputs": [
    {
     "data": {
      "image/png": "[encoded data removed]",
      "text/plain": [
       "<Figure size 432x288 with 2 Axes>"
      ]
     },
     "metadata": {
      "needs_background": "light"
     },
     "output_type": "display_data"
    }
   ],
   "source": [
    "\"\"\"\n",
    "주가 배당률 그리기\n",
    "\"\"\"\n",
    "fig, ax1 = plt.subplots()\n",
    "\n",
    "color = 'tab:red'\n",
    "ax1.set_xlabel('year')\n",
    "ax1.set_ylabel('price', color=color)\n",
    "ax1.plot(close_prices, color=color)\n",
    "\n",
    "ax2 = ax1.twinx()\n",
    "\n",
    "color = 'tab:blue'\n",
    "ax2.set_ylabel('dividend yield', color=color)\n",
    "ax2.plot(div_yields, color=color)\n",
    "plt.title('[NH투자증권] 주가 vs. 배당률')\n",
    "plt.show()"
   ]
  },
  {
   "cell_type": "code",
   "execution_count": 21,
   "id": "104d0a22",
   "metadata": {},
   "outputs": [
    {
     "data": {
      "text/plain": [
       "array([[ 1.        , -0.19978161],\n",
       "       [-0.19978161,  1.        ]])"
      ]
     },
     "execution_count": 21,
     "metadata": {},
     "output_type": "execute_result"
    }
   ],
   "source": [
    "np.corrcoef(div_yields, close_prices)"
   ]
  },
  {
   "cell_type": "markdown",
   "id": "96df1135",
   "metadata": {},
   "source": [
    "\"\"\"\n",
    "매수점수 계산\n",
    "\"\"\""
   ]
  },
  {
   "cell_type": "code",
   "execution_count": 22,
   "id": "68139270",
   "metadata": {},
   "outputs": [
    {
     "data": {
      "text/html": [
       "<div>\n",
       "<style scoped>\n",
       "    .dataframe tbody tr th:only-of-type {\n",
       "        vertical-align: middle;\n",
       "    }\n",
       "\n",
       "    .dataframe tbody tr th {\n",
       "        vertical-align: top;\n",
       "    }\n",
       "\n",
       "    .dataframe thead th {\n",
       "        text-align: right;\n",
       "    }\n",
       "</style>\n",
       "<table border=\"1\" class=\"dataframe\">\n",
       "  <thead>\n",
       "    <tr style=\"text-align: right;\">\n",
       "      <th></th>\n",
       "      <th>BPS</th>\n",
       "      <th>PER</th>\n",
       "      <th>PBR</th>\n",
       "      <th>EPS</th>\n",
       "      <th>DIV</th>\n",
       "      <th>DPS</th>\n",
       "    </tr>\n",
       "    <tr>\n",
       "      <th>날짜</th>\n",
       "      <th></th>\n",
       "      <th></th>\n",
       "      <th></th>\n",
       "      <th></th>\n",
       "      <th></th>\n",
       "      <th></th>\n",
       "    </tr>\n",
       "  </thead>\n",
       "  <tbody>\n",
       "    <tr>\n",
       "      <th>2023-02-15</th>\n",
       "      <td>21630</td>\n",
       "      <td>3.08</td>\n",
       "      <td>0.44</td>\n",
       "      <td>3071</td>\n",
       "      <td>11.1</td>\n",
       "      <td>1050</td>\n",
       "    </tr>\n",
       "  </tbody>\n",
       "</table>\n",
       "</div>"
      ],
      "text/plain": [
       "              BPS   PER   PBR   EPS   DIV   DPS\n",
       "날짜                                             \n",
       "2023-02-15  21630  3.08  0.44  3071  11.1  1050"
      ]
     },
     "execution_count": 22,
     "metadata": {},
     "output_type": "execute_result"
    }
   ],
   "source": [
    "df_cur_f = stock.get_market_fundamental('20230215', '20230215', code)\n",
    "df_cur_f"
   ]
  },
  {
   "cell_type": "code",
   "execution_count": 23,
   "id": "23eb4216",
   "metadata": {},
   "outputs": [
    {
     "data": {
      "text/plain": [
       "11.1"
      ]
     },
     "execution_count": 23,
     "metadata": {},
     "output_type": "execute_result"
    }
   ],
   "source": [
    "cur_div = df_cur_f.DIV[0]\n",
    "cur_div"
   ]
  },
  {
   "cell_type": "code",
   "execution_count": 25,
   "id": "76819ead",
   "metadata": {},
   "outputs": [],
   "source": [
    "def get_percentage(input, min, max):\n",
    "    return round((input - min) / (max - min) * 100)\n",
    "\n",
    "def calculate_buy_score(current_div_yield, div_min, div_max):\n",
    "    buy_score = get_percentage(current_div_yield, div_min, div_max)\n",
    "    return buy_score"
   ]
  },
  {
   "cell_type": "code",
   "execution_count": 26,
   "id": "cedf033a",
   "metadata": {},
   "outputs": [
    {
     "data": {
      "text/plain": [
       "94"
      ]
     },
     "execution_count": 26,
     "metadata": {},
     "output_type": "execute_result"
    }
   ],
   "source": [
    "calculate_buy_score(cur_div, min(div_yields), max(div_yields))"
   ]
  },
  {
   "cell_type": "code",
   "execution_count": null,
   "id": "e8c43bcd",
   "metadata": {},
   "outputs": [],
   "source": []
  },
  {
   "cell_type": "code",
   "execution_count": null,
   "id": "2d8b8774",
   "metadata": {},
   "outputs": [],
   "source": []
  },
  {
   "cell_type": "code",
   "execution_count": null,
   "id": "9998fb4e",
   "metadata": {},
   "outputs": [],
   "source": []
  },
  {
   "cell_type": "code",
   "execution_count": 27,
   "id": "8c43a100",
   "metadata": {},
   "outputs": [
    {
     "data": {
      "text/plain": [
       "0.30000001192092896"
      ]
     },
     "execution_count": 27,
     "metadata": {},
     "output_type": "execute_result"
    }
   ],
   "source": [
    "div_min = min(df_f.DIV)\n",
    "div_min"
   ]
  },
  {
   "cell_type": "code",
   "execution_count": 28,
   "id": "dcb4ecdc",
   "metadata": {},
   "outputs": [
    {
     "data": {
      "text/plain": [
       "11.989999771118164"
      ]
     },
     "execution_count": 28,
     "metadata": {},
     "output_type": "execute_result"
    }
   ],
   "source": [
    "div_max = max(df_f.DIV)\n",
    "div_max"
   ]
  },
  {
   "cell_type": "code",
   "execution_count": 29,
   "id": "b2150b93",
   "metadata": {},
   "outputs": [
    {
     "data": {
      "text/html": [
       "<div>\n",
       "<style scoped>\n",
       "    .dataframe tbody tr th:only-of-type {\n",
       "        vertical-align: middle;\n",
       "    }\n",
       "\n",
       "    .dataframe tbody tr th {\n",
       "        vertical-align: top;\n",
       "    }\n",
       "\n",
       "    .dataframe thead th {\n",
       "        text-align: right;\n",
       "    }\n",
       "</style>\n",
       "<table border=\"1\" class=\"dataframe\">\n",
       "  <thead>\n",
       "    <tr style=\"text-align: right;\">\n",
       "      <th></th>\n",
       "      <th>BPS</th>\n",
       "      <th>PER</th>\n",
       "      <th>PBR</th>\n",
       "      <th>EPS</th>\n",
       "      <th>DIV</th>\n",
       "      <th>DPS</th>\n",
       "    </tr>\n",
       "    <tr>\n",
       "      <th>날짜</th>\n",
       "      <th></th>\n",
       "      <th></th>\n",
       "      <th></th>\n",
       "      <th></th>\n",
       "      <th></th>\n",
       "      <th></th>\n",
       "    </tr>\n",
       "  </thead>\n",
       "  <tbody>\n",
       "    <tr>\n",
       "      <th>2023-02-15</th>\n",
       "      <td>21630</td>\n",
       "      <td>3.08</td>\n",
       "      <td>0.44</td>\n",
       "      <td>3071</td>\n",
       "      <td>11.1</td>\n",
       "      <td>1050</td>\n",
       "    </tr>\n",
       "  </tbody>\n",
       "</table>\n",
       "</div>"
      ],
      "text/plain": [
       "              BPS   PER   PBR   EPS   DIV   DPS\n",
       "날짜                                             \n",
       "2023-02-15  21630  3.08  0.44  3071  11.1  1050"
      ]
     },
     "execution_count": 29,
     "metadata": {},
     "output_type": "execute_result"
    }
   ],
   "source": [
    "df_cur_f = stock.get_market_fundamental('20230215', '20230215', code)\n",
    "df_cur_f"
   ]
  },
  {
   "cell_type": "code",
   "execution_count": 30,
   "id": "88c9aef2",
   "metadata": {},
   "outputs": [
    {
     "data": {
      "text/plain": [
       "1050"
      ]
     },
     "execution_count": 30,
     "metadata": {},
     "output_type": "execute_result"
    }
   ],
   "source": [
    "cur_dps = df_cur_f.DPS[0]\n",
    "cur_dps"
   ]
  },
  {
   "cell_type": "code",
   "execution_count": 31,
   "id": "98a7d330",
   "metadata": {},
   "outputs": [
    {
     "data": {
      "text/plain": [
       "349999.9860922501"
      ]
     },
     "execution_count": 31,
     "metadata": {},
     "output_type": "execute_result"
    }
   ],
   "source": [
    "target_price = cur_dps/div_min * 100\n",
    "target_price"
   ]
  },
  {
   "cell_type": "code",
   "execution_count": 59,
   "id": "4db2e4cf",
   "metadata": {},
   "outputs": [
    {
     "data": {
      "text/plain": [
       "8757.297915294947"
      ]
     },
     "execution_count": 59,
     "metadata": {},
     "output_type": "execute_result"
    }
   ],
   "source": [
    "buy_price = cur_dps/div_max * 100\n",
    "buy_price"
   ]
  },
  {
   "cell_type": "code",
   "execution_count": 32,
   "id": "fef5b613",
   "metadata": {},
   "outputs": [
    {
     "data": {
      "text/plain": [
       "92"
      ]
     },
     "execution_count": 32,
     "metadata": {},
     "output_type": "execute_result"
    }
   ],
   "source": [
    "calculate_buy_score(df_cur_f.DIV[0], div_min, div_max)"
   ]
  },
  {
   "cell_type": "markdown",
   "id": "a8ea324e",
   "metadata": {},
   "source": [
    "\"\"\"\n",
    "로우 패스 필터\n",
    "\"\"\""
   ]
  },
  {
   "cell_type": "code",
   "execution_count": 15,
   "id": "5d06b667",
   "metadata": {},
   "outputs": [],
   "source": [
    "div_yields = savgol_filter(df_f.DIV, 51, 3)"
   ]
  },
  {
   "cell_type": "code",
   "execution_count": 41,
   "id": "e65afdba",
   "metadata": {},
   "outputs": [
    {
     "data": {
      "text/plain": [
       "2.0901673"
      ]
     },
     "execution_count": 41,
     "metadata": {},
     "output_type": "execute_result"
    }
   ],
   "source": [
    "min(div_yields)"
   ]
  },
  {
   "cell_type": "code",
   "execution_count": null,
   "id": "97f0dd1d",
   "metadata": {},
   "outputs": [],
   "source": [
    "\"\"\"\n",
    "주가 배당률 그리기\n",
    "\"\"\"\n",
    "fig, ax1 = plt.subplots()\n",
    "\n",
    "color = 'tab:red'\n",
    "ax1.set_xlabel('year')\n",
    "ax1.set_ylabel('price', color=color)\n",
    "ax1.plot(df_p['종가'], color=color)\n",
    "\n",
    "ax2 = ax1.twinx()\n",
    "\n",
    "color = 'tab:blue'\n",
    "ax2.set_ylabel('dividend yield', color=color)\n",
    "ax2.plot(df_f['DIV'], color=color)\n",
    "plt.show()"
   ]
  },
  {
   "cell_type": "code",
   "execution_count": null,
   "id": "31d75650",
   "metadata": {},
   "outputs": [],
   "source": []
  },
  {
   "cell_type": "code",
   "execution_count": 16,
   "id": "be247a17",
   "metadata": {},
   "outputs": [
    {
     "data": {
      "text/html": [
       "<div>\n",
       "<style scoped>\n",
       "    .dataframe tbody tr th:only-of-type {\n",
       "        vertical-align: middle;\n",
       "    }\n",
       "\n",
       "    .dataframe tbody tr th {\n",
       "        vertical-align: top;\n",
       "    }\n",
       "\n",
       "    .dataframe thead th {\n",
       "        text-align: right;\n",
       "    }\n",
       "</style>\n",
       "<table border=\"1\" class=\"dataframe\">\n",
       "  <thead>\n",
       "    <tr style=\"text-align: right;\">\n",
       "      <th></th>\n",
       "      <th>BPS</th>\n",
       "      <th>PER</th>\n",
       "      <th>PBR</th>\n",
       "      <th>EPS</th>\n",
       "      <th>DIV</th>\n",
       "      <th>DPS</th>\n",
       "    </tr>\n",
       "    <tr>\n",
       "      <th>날짜</th>\n",
       "      <th></th>\n",
       "      <th></th>\n",
       "      <th></th>\n",
       "      <th></th>\n",
       "      <th></th>\n",
       "      <th></th>\n",
       "    </tr>\n",
       "  </thead>\n",
       "  <tbody>\n",
       "    <tr>\n",
       "      <th>2023-02-14</th>\n",
       "      <td>666803</td>\n",
       "      <td>3.52</td>\n",
       "      <td>0.46</td>\n",
       "      <td>87330</td>\n",
       "      <td>5.54</td>\n",
       "      <td>17000</td>\n",
       "    </tr>\n",
       "  </tbody>\n",
       "</table>\n",
       "</div>"
      ],
      "text/plain": [
       "               BPS   PER   PBR    EPS   DIV    DPS\n",
       "날짜                                                \n",
       "2023-02-14  666803  3.52  0.46  87330  5.54  17000"
      ]
     },
     "execution_count": 16,
     "metadata": {},
     "output_type": "execute_result"
    }
   ],
   "source": [
    "df_cur_f = stock.get_market_fundamental('20230214', '20230214', code)\n",
    "df_cur_f"
   ]
  },
  {
   "cell_type": "code",
   "execution_count": 17,
   "id": "b62031a1",
   "metadata": {},
   "outputs": [
    {
     "data": {
      "text/html": [
       "<div>\n",
       "<style scoped>\n",
       "    .dataframe tbody tr th:only-of-type {\n",
       "        vertical-align: middle;\n",
       "    }\n",
       "\n",
       "    .dataframe tbody tr th {\n",
       "        vertical-align: top;\n",
       "    }\n",
       "\n",
       "    .dataframe thead th {\n",
       "        text-align: right;\n",
       "    }\n",
       "</style>\n",
       "<table border=\"1\" class=\"dataframe\">\n",
       "  <thead>\n",
       "    <tr style=\"text-align: right;\">\n",
       "      <th></th>\n",
       "      <th>시가</th>\n",
       "      <th>고가</th>\n",
       "      <th>저가</th>\n",
       "      <th>종가</th>\n",
       "      <th>거래량</th>\n",
       "    </tr>\n",
       "    <tr>\n",
       "      <th>날짜</th>\n",
       "      <th></th>\n",
       "      <th></th>\n",
       "      <th></th>\n",
       "      <th></th>\n",
       "      <th></th>\n",
       "    </tr>\n",
       "  </thead>\n",
       "  <tbody>\n",
       "    <tr>\n",
       "      <th>2023-02-14</th>\n",
       "      <td>306500</td>\n",
       "      <td>313000</td>\n",
       "      <td>304500</td>\n",
       "      <td>307000</td>\n",
       "      <td>495815</td>\n",
       "    </tr>\n",
       "  </tbody>\n",
       "</table>\n",
       "</div>"
      ],
      "text/plain": [
       "                시가      고가      저가      종가     거래량\n",
       "날짜                                                \n",
       "2023-02-14  306500  313000  304500  307000  495815"
      ]
     },
     "execution_count": 17,
     "metadata": {},
     "output_type": "execute_result"
    }
   ],
   "source": [
    "df_cur_p = stock.get_market_ohlcv('20230214', '20230214', code)\n",
    "df_cur_p"
   ]
  },
  {
   "cell_type": "code",
   "execution_count": 18,
   "id": "ec92fa4e",
   "metadata": {},
   "outputs": [
    {
     "data": {
      "text/plain": [
       "307000"
      ]
     },
     "execution_count": 18,
     "metadata": {},
     "output_type": "execute_result"
    }
   ],
   "source": [
    "cur_price = df_cur_p.종가[0]\n",
    "cur_price"
   ]
  },
  {
   "cell_type": "code",
   "execution_count": null,
   "id": "00ab4027",
   "metadata": {},
   "outputs": [],
   "source": []
  },
  {
   "cell_type": "code",
   "execution_count": 19,
   "id": "85448387",
   "metadata": {},
   "outputs": [
    {
     "data": {
      "text/plain": [
       "2.0901673"
      ]
     },
     "execution_count": 19,
     "metadata": {},
     "output_type": "execute_result"
    }
   ],
   "source": [
    "div_min = min(div_yields)\n",
    "div_min"
   ]
  },
  {
   "cell_type": "code",
   "execution_count": 20,
   "id": "4e55df3f",
   "metadata": {},
   "outputs": [
    {
     "data": {
      "text/plain": [
       "7.4456363"
      ]
     },
     "execution_count": 20,
     "metadata": {},
     "output_type": "execute_result"
    }
   ],
   "source": [
    "div_max = max(div_yields)\n",
    "div_max"
   ]
  },
  {
   "cell_type": "code",
   "execution_count": 54,
   "id": "5883c75a",
   "metadata": {},
   "outputs": [
    {
     "data": {
      "text/plain": [
       "17000"
      ]
     },
     "execution_count": 54,
     "metadata": {},
     "output_type": "execute_result"
    }
   ],
   "source": [
    "cur_dps = df_cur_f.DPS[0]\n",
    "cur_dps"
   ]
  },
  {
   "cell_type": "code",
   "execution_count": 55,
   "id": "9e2fb7bd",
   "metadata": {},
   "outputs": [
    {
     "data": {
      "text/plain": [
       "871794.8504767087"
      ]
     },
     "execution_count": 55,
     "metadata": {},
     "output_type": "execute_result"
    }
   ],
   "source": [
    "target_price = cur_dps/div_min * 100\n",
    "target_price"
   ]
  },
  {
   "cell_type": "code",
   "execution_count": 23,
   "id": "667d7a4e",
   "metadata": {},
   "outputs": [
    {
     "data": {
      "text/plain": [
       "228321.65550373876"
      ]
     },
     "execution_count": 23,
     "metadata": {},
     "output_type": "execute_result"
    }
   ],
   "source": [
    "buy_price = cur_div/div_max * 100\n",
    "buy_price"
   ]
  },
  {
   "cell_type": "code",
   "execution_count": 29,
   "id": "376114de",
   "metadata": {},
   "outputs": [],
   "source": []
  },
  {
   "cell_type": "code",
   "execution_count": 25,
   "id": "bcaf568c",
   "metadata": {},
   "outputs": [
    {
     "data": {
      "text/plain": [
       "64"
      ]
     },
     "execution_count": 25,
     "metadata": {},
     "output_type": "execute_result"
    }
   ],
   "source": [
    "calculate_buy_score(df_cur_f.DIV[0], div_min, div_max)"
   ]
  },
  {
   "cell_type": "code",
   "execution_count": null,
   "id": "6db4d56a",
   "metadata": {},
   "outputs": [],
   "source": []
  }
 ],
 "metadata": {
  "kernelspec": {
   "display_name": "Python 3 (ipykernel)",
   "language": "python",
   "name": "python3"
  },
  "language_info": {
   "codemirror_mode": {
    "name": "ipython",
    "version": 3
   },
   "file_extension": ".py",
   "mimetype": "text/x-python",
   "name": "python",
   "nbconvert_exporter": "python",
   "pygments_lexer": "ipython3",
   "version": "3.9.12"
  }
 },
 "nbformat": 4,
 "nbformat_minor": 5
}
