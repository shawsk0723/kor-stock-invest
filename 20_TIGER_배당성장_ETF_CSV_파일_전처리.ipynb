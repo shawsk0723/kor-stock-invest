{
 "cells": [
  {
   "cell_type": "markdown",
   "id": "48f5bb6d",
   "metadata": {},
   "source": [
    "TIGER 배당성장 ETF CSV 파일을 xlsx 파일로 저장"
   ]
  },
  {
   "cell_type": "code",
   "execution_count": null,
   "id": "d9cd363f",
   "metadata": {},
   "outputs": [],
   "source": [
    "import pandas as pd\n",
    "\n",
    "def convertTigerEtfCsvToXlsx(csvFilePath):\n",
    "    try:\n",
    "        df = pd.read_csv(csvFilePath, encoding='EUC-KR')\n",
    "\n",
    "        \"\"\" No 컬럼 삭제 \"\"\"\n",
    "        df = df.drop('No', axis=1)\n",
    "\n",
    "        \"\"\" 종목코드가 0인 행 삭제 \"\"\"\n",
    "        df = df[df.종목코드 != 0]\n",
    "\n",
    "        \"\"\" 정수형 종목코드를 6자리 스트링으로 변환 \"\"\"\n",
    "        tickers = df.종목코드.to_list()\n",
    "        tickers_new = []\n",
    "        for ticker in tickers:\n",
    "            \"\"\" 앞에 빈 자리는 0으로 채워서 6자리로 만든다. \"\"\"\n",
    "            tickers_new.append(str(ticker).zfill(6))\n",
    "        df.종목코드 = tickers_new\n",
    "\n",
    "        df.to_excel(csvFilePath.replace('.csv', '.xlsx'), index=False)\n",
    "    except Exception as e:\n",
    "        raise e"
   ]
  },
  {
   "cell_type": "code",
   "execution_count": null,
   "id": "b2d13df9",
   "metadata": {},
   "outputs": [],
   "source": [
    "\"\"\"\n",
    "파일 변환\n",
    "\"\"\"\n",
    "csvFilePath = './data/PDF_DATA.csv'\n",
    "\n",
    "try:\n",
    "    convertTigerEtfCsvToXlsx(csvFilePath)\n",
    "except Exception as e:\n",
    "    print(e)"
   ]
  },
  {
   "cell_type": "code",
   "execution_count": null,
   "id": "e1d03bb3",
   "metadata": {},
   "outputs": [],
   "source": []
  },
  {
   "cell_type": "code",
   "execution_count": null,
   "id": "cdbda818",
   "metadata": {},
   "outputs": [],
   "source": []
  },
  {
   "cell_type": "markdown",
   "id": "861da344",
   "metadata": {},
   "source": [
    "\"\"\"FIN\"\"\""
   ]
  },
  {
   "cell_type": "code",
   "execution_count": null,
   "id": "92198992",
   "metadata": {},
   "outputs": [],
   "source": [
    "import kodivstock.tigercsvtoxlsx as tigercsvtoxlsx"
   ]
  },
  {
   "cell_type": "code",
   "execution_count": null,
   "id": "8d9554a2",
   "metadata": {},
   "outputs": [],
   "source": [
    "tigercsvtoxlsx.convertTigerEtfCsvToXlsx('./data/PDF_DATA.csv')"
   ]
  },
  {
   "cell_type": "code",
   "execution_count": null,
   "id": "8a0508e1",
   "metadata": {},
   "outputs": [],
   "source": []
  },
  {
   "cell_type": "code",
   "execution_count": null,
   "id": "95b578d6",
   "metadata": {},
   "outputs": [],
   "source": [
    "%pip install chardet "
   ]
  },
  {
   "cell_type": "code",
   "execution_count": null,
   "id": "a51f653b",
   "metadata": {},
   "outputs": [],
   "source": []
  },
  {
   "cell_type": "code",
   "execution_count": null,
   "id": "3443a96b",
   "metadata": {},
   "outputs": [],
   "source": []
  },
  {
   "cell_type": "code",
   "execution_count": null,
   "id": "762e2157",
   "metadata": {},
   "outputs": [],
   "source": [
    "\"\"\"\n",
    "csv 파일 안의 문자 인코딩 방식 확인하기\n",
    "\"\"\"\n",
    "import chardet\n",
    "\n",
    "with open('PDF_DATA.csv', 'rb') as rawdata:\n",
    "    result = chardet.detect(rawdata.read(10000))\n",
    "\n",
    "# check what the character encoding might be\n",
    "print(result)"
   ]
  },
  {
   "cell_type": "code",
   "execution_count": null,
   "id": "840e3e93",
   "metadata": {},
   "outputs": [],
   "source": [
    "df = pd.read_csv('PDF_DATA.csv', encoding='EUC-KR')\n",
    "df.head(3)"
   ]
  },
  {
   "cell_type": "code",
   "execution_count": null,
   "id": "85431ce5",
   "metadata": {},
   "outputs": [],
   "source": [
    "df.tail(3)"
   ]
  },
  {
   "cell_type": "code",
   "execution_count": null,
   "id": "251aa95f",
   "metadata": {},
   "outputs": [],
   "source": [
    "df = df[df.종목코드 != 0]\n",
    "df.tail(3)"
   ]
  },
  {
   "cell_type": "code",
   "execution_count": null,
   "id": "6babbf8a",
   "metadata": {
    "scrolled": true
   },
   "outputs": [],
   "source": [
    "df.info()"
   ]
  },
  {
   "cell_type": "code",
   "execution_count": null,
   "id": "3e2508d6",
   "metadata": {
    "scrolled": true
   },
   "outputs": [],
   "source": [
    "tickers = df.종목코드.to_list()\n",
    "tickers"
   ]
  },
  {
   "cell_type": "code",
   "execution_count": null,
   "id": "02e44f8c",
   "metadata": {},
   "outputs": [],
   "source": []
  },
  {
   "cell_type": "code",
   "execution_count": null,
   "id": "75bd8138",
   "metadata": {
    "scrolled": true
   },
   "outputs": [],
   "source": [
    "\"\"\"\n",
    "정수형 종목코드를 6자리 스트링으로 변환\n",
    "앞에 빈 자리는 0으로 채워서 6자리로 만든다.\n",
    "\"\"\"\n",
    "tickers_new = []\n",
    "for ticker in tickers:\n",
    "    if ticker > 0:\n",
    "        tickers_new.append(str(ticker).zfill(6))\n",
    "tickers_new"
   ]
  },
  {
   "cell_type": "code",
   "execution_count": null,
   "id": "ac7605bf",
   "metadata": {
    "scrolled": true
   },
   "outputs": [],
   "source": [
    "df.종목코드 = tickers_new\n",
    "df"
   ]
  },
  {
   "cell_type": "code",
   "execution_count": null,
   "id": "04d8bdc5",
   "metadata": {},
   "outputs": [],
   "source": [
    "df = df.drop('No', axis=1)\n",
    "df.head(3)"
   ]
  },
  {
   "cell_type": "code",
   "execution_count": null,
   "id": "e541cec7",
   "metadata": {},
   "outputs": [],
   "source": [
    "df.info()"
   ]
  },
  {
   "cell_type": "code",
   "execution_count": null,
   "id": "b41c4dc4",
   "metadata": {},
   "outputs": [],
   "source": [
    "#df.to_csv('PDF_DATA.csv', index=False, encoding=\"utf-8-sig\")\n",
    "df.to_excel('PDF_DATA.xlsx', index=False, encoding=\"utf-8-sig\")"
   ]
  },
  {
   "cell_type": "code",
   "execution_count": null,
   "id": "dca4463d",
   "metadata": {},
   "outputs": [],
   "source": []
  },
  {
   "cell_type": "code",
   "execution_count": null,
   "id": "5f24a53b",
   "metadata": {},
   "outputs": [],
   "source": [
    "from datetime import datetime, timedelta\n",
    "def getLatestBusinessDay():\n",
    "    yesterday = datetime.now() - timedelta(1)\n",
    "    yesterday = datetime.strftime(yesterday, '%Y%m%d')\n",
    "    return stock.get_nearest_business_day_in_a_week(yesterday)"
   ]
  },
  {
   "cell_type": "code",
   "execution_count": null,
   "id": "2fd9662b",
   "metadata": {},
   "outputs": [],
   "source": [
    "latest_business_day = getLatestBusinessDay()\n",
    "latest_business_day"
   ]
  },
  {
   "cell_type": "code",
   "execution_count": null,
   "id": "b9de8e94",
   "metadata": {},
   "outputs": [],
   "source": []
  },
  {
   "cell_type": "code",
   "execution_count": null,
   "id": "1843a17f",
   "metadata": {},
   "outputs": [],
   "source": [
    "\"\"\"\n",
    "타이거 배당성장 ETF 50개 Fundamental 정보 수집\n",
    "\"\"\"\n",
    "\n",
    "tickers = ['005490', '011780'] # TEST ONLY\n",
    "df_tiger_div_growth_50 = None\n",
    "#start_time = time.time()\n",
    "for idx, ticker in enumerate(tickers):\n",
    "    print(f'{idx+1:03d}: {ticker}')\n",
    "    df_stock_fundamental = stock.get_market_fundamental(latest_business_day, latest_business_day, ticker)\n",
    "    display(df_stock_fundamental)\n",
    "    df_stock_fundamental.index.name = None\n",
    "    df_stock_fundamental.index = [ticker]\n",
    "    if df_tiger_div_growth_50 is None:\n",
    "        df_tiger_div_growth_50 = df_stock_fundamental\n",
    "    else:\n",
    "        df_tiger_div_growth_50 = pd.concat([df_tiger_div_growth_50, df_stock_fundamental])\n",
    "    time.sleep(1)\n",
    "#end_time = time.time()"
   ]
  },
  {
   "cell_type": "code",
   "execution_count": null,
   "id": "bb5db8b8",
   "metadata": {},
   "outputs": [],
   "source": [
    "df_tiger_div_growth_50"
   ]
  },
  {
   "cell_type": "code",
   "execution_count": null,
   "id": "e40b13c9",
   "metadata": {},
   "outputs": [],
   "source": [
    "df_tiger_div_growth_50.index.name = None"
   ]
  },
  {
   "cell_type": "code",
   "execution_count": null,
   "id": "4adcdf9c",
   "metadata": {},
   "outputs": [],
   "source": [
    "df_tiger_div_growth_50"
   ]
  },
  {
   "cell_type": "code",
   "execution_count": null,
   "id": "2060638d",
   "metadata": {},
   "outputs": [],
   "source": []
  },
  {
   "cell_type": "code",
   "execution_count": null,
   "id": "5b971c73",
   "metadata": {},
   "outputs": [],
   "source": []
  },
  {
   "cell_type": "code",
   "execution_count": null,
   "id": "cebe07ec",
   "metadata": {},
   "outputs": [],
   "source": []
  },
  {
   "cell_type": "code",
   "execution_count": null,
   "id": "bc8366c8",
   "metadata": {},
   "outputs": [],
   "source": [
    "df = pd.read_excel('PDF_DATA.xls')\n",
    "df"
   ]
  },
  {
   "cell_type": "code",
   "execution_count": null,
   "id": "e09eeb61",
   "metadata": {},
   "outputs": [],
   "source": []
  }
 ],
 "metadata": {
  "kernelspec": {
   "display_name": "Python 3 (ipykernel)",
   "language": "python",
   "name": "python3"
  },
  "language_info": {
   "codemirror_mode": {
    "name": "ipython",
    "version": 3
   },
   "file_extension": ".py",
   "mimetype": "text/x-python",
   "name": "python",
   "nbconvert_exporter": "python",
   "pygments_lexer": "ipython3",
   "version": "3.9.12"
  }
 },
 "nbformat": 4,
 "nbformat_minor": 5
}
