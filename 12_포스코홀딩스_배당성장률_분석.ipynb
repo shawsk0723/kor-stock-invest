{
 "cells": [
  {
   "cell_type": "code",
   "execution_count": 1,
   "id": "368c49c4",
   "metadata": {},
   "outputs": [],
   "source": [
    "import numpy as np\n",
    "import pandas as pd\n",
    "from scipy.signal import savgol_filter\n",
    "from pykrx import stock\n",
    "import matplotlib.pyplot as plt\n",
    "plt.rcParams['font.family'] = 'Malgun Gothic'"
   ]
  },
  {
   "cell_type": "code",
   "execution_count": 2,
   "id": "a8180ffd",
   "metadata": {},
   "outputs": [],
   "source": [
    "\"\"\"\n",
    "분석 기간\n",
    "\"\"\"\n",
    "start_date = '20160101'\n",
    "end_date = '20221231'"
   ]
  },
  {
   "cell_type": "code",
   "execution_count": 3,
   "id": "98745d8f",
   "metadata": {},
   "outputs": [],
   "source": [
    "\"\"\"\n",
    "POSCO홀딩스 티커\n",
    "\"\"\"\n",
    "code = '005490'"
   ]
  },
  {
   "cell_type": "code",
   "execution_count": 4,
   "id": "614902ab",
   "metadata": {},
   "outputs": [],
   "source": [
    "df_f = stock.get_market_fundamental(start_date, end_date, code, freq='y')"
   ]
  },
  {
   "cell_type": "code",
   "execution_count": 5,
   "id": "289c160b",
   "metadata": {},
   "outputs": [
    {
     "data": {
      "text/html": [
       "<div>\n",
       "<style scoped>\n",
       "    .dataframe tbody tr th:only-of-type {\n",
       "        vertical-align: middle;\n",
       "    }\n",
       "\n",
       "    .dataframe tbody tr th {\n",
       "        vertical-align: top;\n",
       "    }\n",
       "\n",
       "    .dataframe thead th {\n",
       "        text-align: right;\n",
       "    }\n",
       "</style>\n",
       "<table border=\"1\" class=\"dataframe\">\n",
       "  <thead>\n",
       "    <tr style=\"text-align: right;\">\n",
       "      <th></th>\n",
       "      <th>BPS</th>\n",
       "      <th>PER</th>\n",
       "      <th>PBR</th>\n",
       "      <th>EPS</th>\n",
       "      <th>DIV</th>\n",
       "      <th>DPS</th>\n",
       "    </tr>\n",
       "    <tr>\n",
       "      <th>날짜</th>\n",
       "      <th></th>\n",
       "      <th></th>\n",
       "      <th></th>\n",
       "      <th></th>\n",
       "      <th></th>\n",
       "      <th></th>\n",
       "    </tr>\n",
       "  </thead>\n",
       "  <tbody>\n",
       "    <tr>\n",
       "      <th>2016-12-31</th>\n",
       "      <td>476991</td>\n",
       "      <td>22.07</td>\n",
       "      <td>0.34</td>\n",
       "      <td>7432</td>\n",
       "      <td>4.88</td>\n",
       "      <td>8000</td>\n",
       "    </tr>\n",
       "    <tr>\n",
       "      <th>2017-12-31</th>\n",
       "      <td>472954</td>\n",
       "      <td>141.19</td>\n",
       "      <td>0.55</td>\n",
       "      <td>1845</td>\n",
       "      <td>3.07</td>\n",
       "      <td>8000</td>\n",
       "    </tr>\n",
       "    <tr>\n",
       "      <th>2018-12-31</th>\n",
       "      <td>486007</td>\n",
       "      <td>20.39</td>\n",
       "      <td>0.70</td>\n",
       "      <td>16627</td>\n",
       "      <td>2.36</td>\n",
       "      <td>8000</td>\n",
       "    </tr>\n",
       "    <tr>\n",
       "      <th>2019-12-31</th>\n",
       "      <td>501600</td>\n",
       "      <td>6.88</td>\n",
       "      <td>0.47</td>\n",
       "      <td>34464</td>\n",
       "      <td>3.38</td>\n",
       "      <td>8000</td>\n",
       "    </tr>\n",
       "    <tr>\n",
       "      <th>2020-12-31</th>\n",
       "      <td>497452</td>\n",
       "      <td>11.29</td>\n",
       "      <td>0.47</td>\n",
       "      <td>20911</td>\n",
       "      <td>4.24</td>\n",
       "      <td>10000</td>\n",
       "    </tr>\n",
       "    <tr>\n",
       "      <th>2021-12-31</th>\n",
       "      <td>510076</td>\n",
       "      <td>11.96</td>\n",
       "      <td>0.54</td>\n",
       "      <td>22823</td>\n",
       "      <td>3.66</td>\n",
       "      <td>10000</td>\n",
       "    </tr>\n",
       "    <tr>\n",
       "      <th>2022-12-31</th>\n",
       "      <td>508464</td>\n",
       "      <td>13.89</td>\n",
       "      <td>0.55</td>\n",
       "      <td>20165</td>\n",
       "      <td>2.86</td>\n",
       "      <td>8000</td>\n",
       "    </tr>\n",
       "  </tbody>\n",
       "</table>\n",
       "</div>"
      ],
      "text/plain": [
       "               BPS     PER   PBR    EPS   DIV    DPS\n",
       "날짜                                                  \n",
       "2016-12-31  476991   22.07  0.34   7432  4.88   8000\n",
       "2017-12-31  472954  141.19  0.55   1845  3.07   8000\n",
       "2018-12-31  486007   20.39  0.70  16627  2.36   8000\n",
       "2019-12-31  501600    6.88  0.47  34464  3.38   8000\n",
       "2020-12-31  497452   11.29  0.47  20911  4.24  10000\n",
       "2021-12-31  510076   11.96  0.54  22823  3.66  10000\n",
       "2022-12-31  508464   13.89  0.55  20165  2.86   8000"
      ]
     },
     "execution_count": 5,
     "metadata": {},
     "output_type": "execute_result"
    }
   ],
   "source": [
    "df_f"
   ]
  },
  {
   "cell_type": "code",
   "execution_count": null,
   "id": "b8f7e0f9",
   "metadata": {},
   "outputs": [],
   "source": [
    "df_f = df_f.DPS"
   ]
  },
  {
   "cell_type": "code",
   "execution_count": null,
   "id": "0dc76bfa",
   "metadata": {},
   "outputs": [],
   "source": []
  },
  {
   "cell_type": "code",
   "execution_count": 6,
   "id": "118eafe2",
   "metadata": {},
   "outputs": [],
   "source": [
    "df_f = stock.get_market_fundamental(start_date, end_date, code, freq='d')"
   ]
  },
  {
   "cell_type": "code",
   "execution_count": 7,
   "id": "de620bf6",
   "metadata": {},
   "outputs": [
    {
     "data": {
      "text/html": [
       "<div>\n",
       "<style scoped>\n",
       "    .dataframe tbody tr th:only-of-type {\n",
       "        vertical-align: middle;\n",
       "    }\n",
       "\n",
       "    .dataframe tbody tr th {\n",
       "        vertical-align: top;\n",
       "    }\n",
       "\n",
       "    .dataframe thead th {\n",
       "        text-align: right;\n",
       "    }\n",
       "</style>\n",
       "<table border=\"1\" class=\"dataframe\">\n",
       "  <thead>\n",
       "    <tr style=\"text-align: right;\">\n",
       "      <th></th>\n",
       "      <th>BPS</th>\n",
       "      <th>PER</th>\n",
       "      <th>PBR</th>\n",
       "      <th>EPS</th>\n",
       "      <th>DIV</th>\n",
       "      <th>DPS</th>\n",
       "    </tr>\n",
       "    <tr>\n",
       "      <th>날짜</th>\n",
       "      <th></th>\n",
       "      <th></th>\n",
       "      <th></th>\n",
       "      <th></th>\n",
       "      <th></th>\n",
       "      <th></th>\n",
       "    </tr>\n",
       "  </thead>\n",
       "  <tbody>\n",
       "    <tr>\n",
       "      <th>2016-01-04</th>\n",
       "      <td>476991</td>\n",
       "      <td>22.07</td>\n",
       "      <td>0.34</td>\n",
       "      <td>7432</td>\n",
       "      <td>4.88</td>\n",
       "      <td>8000</td>\n",
       "    </tr>\n",
       "    <tr>\n",
       "      <th>2016-01-05</th>\n",
       "      <td>476991</td>\n",
       "      <td>22.74</td>\n",
       "      <td>0.35</td>\n",
       "      <td>7432</td>\n",
       "      <td>4.73</td>\n",
       "      <td>8000</td>\n",
       "    </tr>\n",
       "    <tr>\n",
       "      <th>2016-01-06</th>\n",
       "      <td>476991</td>\n",
       "      <td>22.67</td>\n",
       "      <td>0.35</td>\n",
       "      <td>7432</td>\n",
       "      <td>4.75</td>\n",
       "      <td>8000</td>\n",
       "    </tr>\n",
       "    <tr>\n",
       "      <th>2016-01-07</th>\n",
       "      <td>476991</td>\n",
       "      <td>22.07</td>\n",
       "      <td>0.34</td>\n",
       "      <td>7432</td>\n",
       "      <td>4.88</td>\n",
       "      <td>8000</td>\n",
       "    </tr>\n",
       "    <tr>\n",
       "      <th>2016-01-08</th>\n",
       "      <td>476991</td>\n",
       "      <td>22.20</td>\n",
       "      <td>0.35</td>\n",
       "      <td>7432</td>\n",
       "      <td>4.85</td>\n",
       "      <td>8000</td>\n",
       "    </tr>\n",
       "    <tr>\n",
       "      <th>...</th>\n",
       "      <td>...</td>\n",
       "      <td>...</td>\n",
       "      <td>...</td>\n",
       "      <td>...</td>\n",
       "      <td>...</td>\n",
       "      <td>...</td>\n",
       "    </tr>\n",
       "    <tr>\n",
       "      <th>2022-12-23</th>\n",
       "      <td>666803</td>\n",
       "      <td>3.30</td>\n",
       "      <td>0.43</td>\n",
       "      <td>87330</td>\n",
       "      <td>5.89</td>\n",
       "      <td>17000</td>\n",
       "    </tr>\n",
       "    <tr>\n",
       "      <th>2022-12-26</th>\n",
       "      <td>666803</td>\n",
       "      <td>3.34</td>\n",
       "      <td>0.44</td>\n",
       "      <td>87330</td>\n",
       "      <td>5.82</td>\n",
       "      <td>17000</td>\n",
       "    </tr>\n",
       "    <tr>\n",
       "      <th>2022-12-27</th>\n",
       "      <td>666803</td>\n",
       "      <td>3.34</td>\n",
       "      <td>0.44</td>\n",
       "      <td>87330</td>\n",
       "      <td>5.82</td>\n",
       "      <td>17000</td>\n",
       "    </tr>\n",
       "    <tr>\n",
       "      <th>2022-12-28</th>\n",
       "      <td>666803</td>\n",
       "      <td>3.33</td>\n",
       "      <td>0.44</td>\n",
       "      <td>87330</td>\n",
       "      <td>5.84</td>\n",
       "      <td>17000</td>\n",
       "    </tr>\n",
       "    <tr>\n",
       "      <th>2022-12-29</th>\n",
       "      <td>666803</td>\n",
       "      <td>3.17</td>\n",
       "      <td>0.41</td>\n",
       "      <td>87330</td>\n",
       "      <td>6.15</td>\n",
       "      <td>17000</td>\n",
       "    </tr>\n",
       "  </tbody>\n",
       "</table>\n",
       "<p>1721 rows × 6 columns</p>\n",
       "</div>"
      ],
      "text/plain": [
       "               BPS    PER   PBR    EPS   DIV    DPS\n",
       "날짜                                                 \n",
       "2016-01-04  476991  22.07  0.34   7432  4.88   8000\n",
       "2016-01-05  476991  22.74  0.35   7432  4.73   8000\n",
       "2016-01-06  476991  22.67  0.35   7432  4.75   8000\n",
       "2016-01-07  476991  22.07  0.34   7432  4.88   8000\n",
       "2016-01-08  476991  22.20  0.35   7432  4.85   8000\n",
       "...            ...    ...   ...    ...   ...    ...\n",
       "2022-12-23  666803   3.30  0.43  87330  5.89  17000\n",
       "2022-12-26  666803   3.34  0.44  87330  5.82  17000\n",
       "2022-12-27  666803   3.34  0.44  87330  5.82  17000\n",
       "2022-12-28  666803   3.33  0.44  87330  5.84  17000\n",
       "2022-12-29  666803   3.17  0.41  87330  6.15  17000\n",
       "\n",
       "[1721 rows x 6 columns]"
      ]
     },
     "execution_count": 7,
     "metadata": {},
     "output_type": "execute_result"
    }
   ],
   "source": [
    "df_f"
   ]
  },
  {
   "cell_type": "code",
   "execution_count": 8,
   "id": "4132ddfc",
   "metadata": {},
   "outputs": [
    {
     "data": {
      "image/png": "[encoded data removed]",
      "text/plain": [
       "<Figure size 432x288 with 1 Axes>"
      ]
     },
     "metadata": {
      "needs_background": "light"
     },
     "output_type": "display_data"
    }
   ],
   "source": [
    "df_f.DIV.plot()\n",
    "plt.show()"
   ]
  },
  {
   "cell_type": "code",
   "execution_count": 9,
   "id": "e8f9f044",
   "metadata": {},
   "outputs": [],
   "source": [
    "div_yields = savgol_filter(df_f.DIV, 51, 3)"
   ]
  },
  {
   "cell_type": "code",
   "execution_count": 10,
   "id": "4f05be60",
   "metadata": {},
   "outputs": [
    {
     "data": {
      "image/png": "[encoded data removed]",
      "text/plain": [
       "<Figure size 432x288 with 1 Axes>"
      ]
     },
     "metadata": {
      "needs_background": "light"
     },
     "output_type": "display_data"
    }
   ],
   "source": [
    "plt.plot(df_f.index.to_list(), div_yields)\n",
    "plt.show()"
   ]
  },
  {
   "cell_type": "code",
   "execution_count": null,
   "id": "1f67dd44",
   "metadata": {},
   "outputs": [],
   "source": []
  },
  {
   "cell_type": "code",
   "execution_count": 11,
   "id": "9506fb18",
   "metadata": {},
   "outputs": [
    {
     "data": {
      "text/html": [
       "<div>\n",
       "<style scoped>\n",
       "    .dataframe tbody tr th:only-of-type {\n",
       "        vertical-align: middle;\n",
       "    }\n",
       "\n",
       "    .dataframe tbody tr th {\n",
       "        vertical-align: top;\n",
       "    }\n",
       "\n",
       "    .dataframe thead th {\n",
       "        text-align: right;\n",
       "    }\n",
       "</style>\n",
       "<table border=\"1\" class=\"dataframe\">\n",
       "  <thead>\n",
       "    <tr style=\"text-align: right;\">\n",
       "      <th></th>\n",
       "      <th>시가</th>\n",
       "      <th>고가</th>\n",
       "      <th>저가</th>\n",
       "      <th>종가</th>\n",
       "      <th>거래량</th>\n",
       "    </tr>\n",
       "    <tr>\n",
       "      <th>날짜</th>\n",
       "      <th></th>\n",
       "      <th></th>\n",
       "      <th></th>\n",
       "      <th></th>\n",
       "      <th></th>\n",
       "    </tr>\n",
       "  </thead>\n",
       "  <tbody>\n",
       "    <tr>\n",
       "      <th>2016-01-04</th>\n",
       "      <td>167000</td>\n",
       "      <td>169000</td>\n",
       "      <td>164000</td>\n",
       "      <td>164000</td>\n",
       "      <td>284021</td>\n",
       "    </tr>\n",
       "    <tr>\n",
       "      <th>2016-01-05</th>\n",
       "      <td>165000</td>\n",
       "      <td>169000</td>\n",
       "      <td>165000</td>\n",
       "      <td>169000</td>\n",
       "      <td>305792</td>\n",
       "    </tr>\n",
       "    <tr>\n",
       "      <th>2016-01-06</th>\n",
       "      <td>169500</td>\n",
       "      <td>171000</td>\n",
       "      <td>167500</td>\n",
       "      <td>168500</td>\n",
       "      <td>292226</td>\n",
       "    </tr>\n",
       "    <tr>\n",
       "      <th>2016-01-07</th>\n",
       "      <td>167000</td>\n",
       "      <td>168500</td>\n",
       "      <td>164000</td>\n",
       "      <td>164000</td>\n",
       "      <td>312956</td>\n",
       "    </tr>\n",
       "    <tr>\n",
       "      <th>2016-01-08</th>\n",
       "      <td>161000</td>\n",
       "      <td>166000</td>\n",
       "      <td>160500</td>\n",
       "      <td>165000</td>\n",
       "      <td>323501</td>\n",
       "    </tr>\n",
       "    <tr>\n",
       "      <th>...</th>\n",
       "      <td>...</td>\n",
       "      <td>...</td>\n",
       "      <td>...</td>\n",
       "      <td>...</td>\n",
       "      <td>...</td>\n",
       "    </tr>\n",
       "    <tr>\n",
       "      <th>2022-12-23</th>\n",
       "      <td>285000</td>\n",
       "      <td>289500</td>\n",
       "      <td>283500</td>\n",
       "      <td>288500</td>\n",
       "      <td>341122</td>\n",
       "    </tr>\n",
       "    <tr>\n",
       "      <th>2022-12-26</th>\n",
       "      <td>289500</td>\n",
       "      <td>293500</td>\n",
       "      <td>289000</td>\n",
       "      <td>292000</td>\n",
       "      <td>331276</td>\n",
       "    </tr>\n",
       "    <tr>\n",
       "      <th>2022-12-27</th>\n",
       "      <td>293000</td>\n",
       "      <td>294500</td>\n",
       "      <td>290500</td>\n",
       "      <td>292000</td>\n",
       "      <td>424295</td>\n",
       "    </tr>\n",
       "    <tr>\n",
       "      <th>2022-12-28</th>\n",
       "      <td>290500</td>\n",
       "      <td>295000</td>\n",
       "      <td>288500</td>\n",
       "      <td>291000</td>\n",
       "      <td>413622</td>\n",
       "    </tr>\n",
       "    <tr>\n",
       "      <th>2022-12-29</th>\n",
       "      <td>288500</td>\n",
       "      <td>289000</td>\n",
       "      <td>276000</td>\n",
       "      <td>276500</td>\n",
       "      <td>606222</td>\n",
       "    </tr>\n",
       "  </tbody>\n",
       "</table>\n",
       "<p>1721 rows × 5 columns</p>\n",
       "</div>"
      ],
      "text/plain": [
       "                시가      고가      저가      종가     거래량\n",
       "날짜                                                \n",
       "2016-01-04  167000  169000  164000  164000  284021\n",
       "2016-01-05  165000  169000  165000  169000  305792\n",
       "2016-01-06  169500  171000  167500  168500  292226\n",
       "2016-01-07  167000  168500  164000  164000  312956\n",
       "2016-01-08  161000  166000  160500  165000  323501\n",
       "...            ...     ...     ...     ...     ...\n",
       "2022-12-23  285000  289500  283500  288500  341122\n",
       "2022-12-26  289500  293500  289000  292000  331276\n",
       "2022-12-27  293000  294500  290500  292000  424295\n",
       "2022-12-28  290500  295000  288500  291000  413622\n",
       "2022-12-29  288500  289000  276000  276500  606222\n",
       "\n",
       "[1721 rows x 5 columns]"
      ]
     },
     "execution_count": 11,
     "metadata": {},
     "output_type": "execute_result"
    }
   ],
   "source": [
    "df_p = stock.get_market_ohlcv(start_date, end_date, code)\n",
    "df_p"
   ]
  },
  {
   "cell_type": "code",
   "execution_count": 12,
   "id": "2dbb43f7",
   "metadata": {},
   "outputs": [
    {
     "data": {
      "image/png": "[encoded data removed]",
      "text/plain": [
       "<Figure size 432x288 with 1 Axes>"
      ]
     },
     "metadata": {
      "needs_background": "light"
     },
     "output_type": "display_data"
    }
   ],
   "source": [
    "df_p.종가.plot()\n",
    "plt.show()"
   ]
  },
  {
   "cell_type": "code",
   "execution_count": 13,
   "id": "db096919",
   "metadata": {},
   "outputs": [
    {
     "data": {
      "image/png": "[encoded data removed]",
      "text/plain": [
       "<Figure size 432x288 with 2 Axes>"
      ]
     },
     "metadata": {
      "needs_background": "light"
     },
     "output_type": "display_data"
    }
   ],
   "source": [
    "\"\"\"\n",
    "주가 배당률 그리기\n",
    "\"\"\"\n",
    "fig, ax1 = plt.subplots()\n",
    "\n",
    "color = 'tab:red'\n",
    "ax1.set_xlabel('year')\n",
    "ax1.set_ylabel('price', color=color)\n",
    "ax1.plot(df_p['종가'], color=color)\n",
    "\n",
    "ax2 = ax1.twinx()\n",
    "\n",
    "color = 'tab:blue'\n",
    "ax2.set_ylabel('dividend yield', color=color)\n",
    "ax2.plot(df_f['DIV'], color=color)\n",
    "plt.show()"
   ]
  },
  {
   "cell_type": "code",
   "execution_count": 14,
   "id": "37f8374a",
   "metadata": {},
   "outputs": [
    {
     "data": {
      "text/plain": [
       "array([[ 1.        , -0.68484004],\n",
       "       [-0.68484004,  1.        ]])"
      ]
     },
     "execution_count": 14,
     "metadata": {},
     "output_type": "execute_result"
    }
   ],
   "source": [
    "np.corrcoef(df_p['종가'], df_f['DIV'])"
   ]
  },
  {
   "cell_type": "code",
   "execution_count": null,
   "id": "e67ca9a8",
   "metadata": {},
   "outputs": [],
   "source": []
  },
  {
   "cell_type": "markdown",
   "id": "feae2445",
   "metadata": {},
   "source": [
    "\"\"\" 로우 패스 필터 \"\"\""
   ]
  },
  {
   "cell_type": "code",
   "execution_count": 44,
   "id": "4e29e96e",
   "metadata": {},
   "outputs": [],
   "source": [
    "div_yields = savgol_filter(df_f.DIV, 51, 3)"
   ]
  },
  {
   "cell_type": "code",
   "execution_count": 46,
   "id": "1f5743c2",
   "metadata": {},
   "outputs": [],
   "source": [
    "close_prices = savgol_filter(df_p.종가, 51, 3)"
   ]
  },
  {
   "cell_type": "code",
   "execution_count": 47,
   "id": "b7001b43",
   "metadata": {},
   "outputs": [
    {
     "data": {
      "image/png": "[encoded data removed]",
      "text/plain": [
       "<Figure size 432x288 with 2 Axes>"
      ]
     },
     "metadata": {
      "needs_background": "light"
     },
     "output_type": "display_data"
    }
   ],
   "source": [
    "\"\"\"\n",
    "주가 배당률 그리기\n",
    "\"\"\"\n",
    "fig, ax1 = plt.subplots()\n",
    "\n",
    "color = 'tab:red'\n",
    "ax1.set_xlabel('year')\n",
    "ax1.set_ylabel('price', color=color)\n",
    "ax1.plot(close_prices, color=color)\n",
    "\n",
    "ax2 = ax1.twinx()\n",
    "\n",
    "color = 'tab:blue'\n",
    "ax2.set_ylabel('dividend yield', color=color)\n",
    "ax2.plot(div_yields, color=color)\n",
    "plt.show()"
   ]
  },
  {
   "cell_type": "code",
   "execution_count": 52,
   "id": "104d0a22",
   "metadata": {},
   "outputs": [
    {
     "data": {
      "text/plain": [
       "array([[ 1.        , -0.68625992],\n",
       "       [-0.68625992,  1.        ]])"
      ]
     },
     "execution_count": 52,
     "metadata": {},
     "output_type": "execute_result"
    }
   ],
   "source": [
    "np.corrcoef(div_yields, close_prices)"
   ]
  },
  {
   "cell_type": "markdown",
   "id": "96df1135",
   "metadata": {},
   "source": [
    "\"\"\"\n",
    "매수점수 계산\n",
    "\"\"\""
   ]
  },
  {
   "cell_type": "code",
   "execution_count": 49,
   "id": "68139270",
   "metadata": {},
   "outputs": [
    {
     "data": {
      "text/html": [
       "<div>\n",
       "<style scoped>\n",
       "    .dataframe tbody tr th:only-of-type {\n",
       "        vertical-align: middle;\n",
       "    }\n",
       "\n",
       "    .dataframe tbody tr th {\n",
       "        vertical-align: top;\n",
       "    }\n",
       "\n",
       "    .dataframe thead th {\n",
       "        text-align: right;\n",
       "    }\n",
       "</style>\n",
       "<table border=\"1\" class=\"dataframe\">\n",
       "  <thead>\n",
       "    <tr style=\"text-align: right;\">\n",
       "      <th></th>\n",
       "      <th>BPS</th>\n",
       "      <th>PER</th>\n",
       "      <th>PBR</th>\n",
       "      <th>EPS</th>\n",
       "      <th>DIV</th>\n",
       "      <th>DPS</th>\n",
       "    </tr>\n",
       "    <tr>\n",
       "      <th>날짜</th>\n",
       "      <th></th>\n",
       "      <th></th>\n",
       "      <th></th>\n",
       "      <th></th>\n",
       "      <th></th>\n",
       "      <th></th>\n",
       "    </tr>\n",
       "  </thead>\n",
       "  <tbody>\n",
       "    <tr>\n",
       "      <th>2023-02-15</th>\n",
       "      <td>666803</td>\n",
       "      <td>3.73</td>\n",
       "      <td>0.49</td>\n",
       "      <td>87330</td>\n",
       "      <td>5.22</td>\n",
       "      <td>17000</td>\n",
       "    </tr>\n",
       "  </tbody>\n",
       "</table>\n",
       "</div>"
      ],
      "text/plain": [
       "               BPS   PER   PBR    EPS   DIV    DPS\n",
       "날짜                                                \n",
       "2023-02-15  666803  3.73  0.49  87330  5.22  17000"
      ]
     },
     "execution_count": 49,
     "metadata": {},
     "output_type": "execute_result"
    }
   ],
   "source": [
    "df_cur_f = stock.get_market_fundamental('20230215', '20230215', code)\n",
    "df_cur_f"
   ]
  },
  {
   "cell_type": "code",
   "execution_count": 50,
   "id": "23eb4216",
   "metadata": {},
   "outputs": [
    {
     "data": {
      "text/plain": [
       "5.22"
      ]
     },
     "execution_count": 50,
     "metadata": {},
     "output_type": "execute_result"
    }
   ],
   "source": [
    "cur_div = df_cur_f.DIV[0]\n",
    "cur_div"
   ]
  },
  {
   "cell_type": "code",
   "execution_count": 51,
   "id": "cedf033a",
   "metadata": {},
   "outputs": [
    {
     "data": {
      "text/plain": [
       "58"
      ]
     },
     "execution_count": 51,
     "metadata": {},
     "output_type": "execute_result"
    }
   ],
   "source": [
    "calculate_buy_score(cur_div, min(div_yields), max(div_yields))"
   ]
  },
  {
   "cell_type": "code",
   "execution_count": null,
   "id": "e8c43bcd",
   "metadata": {},
   "outputs": [],
   "source": []
  },
  {
   "cell_type": "code",
   "execution_count": null,
   "id": "2d8b8774",
   "metadata": {},
   "outputs": [],
   "source": []
  },
  {
   "cell_type": "code",
   "execution_count": null,
   "id": "9998fb4e",
   "metadata": {},
   "outputs": [],
   "source": []
  },
  {
   "cell_type": "code",
   "execution_count": 26,
   "id": "8c43a100",
   "metadata": {},
   "outputs": [
    {
     "data": {
      "text/plain": [
       "1.9500000476837158"
      ]
     },
     "execution_count": 26,
     "metadata": {},
     "output_type": "execute_result"
    }
   ],
   "source": [
    "div_min = min(df_f.DIV)\n",
    "div_min"
   ]
  },
  {
   "cell_type": "code",
   "execution_count": 28,
   "id": "dcb4ecdc",
   "metadata": {},
   "outputs": [
    {
     "data": {
      "text/plain": [
       "8.0600004196167"
      ]
     },
     "execution_count": 28,
     "metadata": {},
     "output_type": "execute_result"
    }
   ],
   "source": [
    "div_max = max(df_f.DIV)\n",
    "div_max"
   ]
  },
  {
   "cell_type": "code",
   "execution_count": 30,
   "id": "b2150b93",
   "metadata": {},
   "outputs": [
    {
     "data": {
      "text/html": [
       "<div>\n",
       "<style scoped>\n",
       "    .dataframe tbody tr th:only-of-type {\n",
       "        vertical-align: middle;\n",
       "    }\n",
       "\n",
       "    .dataframe tbody tr th {\n",
       "        vertical-align: top;\n",
       "    }\n",
       "\n",
       "    .dataframe thead th {\n",
       "        text-align: right;\n",
       "    }\n",
       "</style>\n",
       "<table border=\"1\" class=\"dataframe\">\n",
       "  <thead>\n",
       "    <tr style=\"text-align: right;\">\n",
       "      <th></th>\n",
       "      <th>BPS</th>\n",
       "      <th>PER</th>\n",
       "      <th>PBR</th>\n",
       "      <th>EPS</th>\n",
       "      <th>DIV</th>\n",
       "      <th>DPS</th>\n",
       "    </tr>\n",
       "    <tr>\n",
       "      <th>날짜</th>\n",
       "      <th></th>\n",
       "      <th></th>\n",
       "      <th></th>\n",
       "      <th></th>\n",
       "      <th></th>\n",
       "      <th></th>\n",
       "    </tr>\n",
       "  </thead>\n",
       "  <tbody>\n",
       "    <tr>\n",
       "      <th>2023-02-15</th>\n",
       "      <td>666803</td>\n",
       "      <td>3.73</td>\n",
       "      <td>0.49</td>\n",
       "      <td>87330</td>\n",
       "      <td>5.22</td>\n",
       "      <td>17000</td>\n",
       "    </tr>\n",
       "  </tbody>\n",
       "</table>\n",
       "</div>"
      ],
      "text/plain": [
       "               BPS   PER   PBR    EPS   DIV    DPS\n",
       "날짜                                                \n",
       "2023-02-15  666803  3.73  0.49  87330  5.22  17000"
      ]
     },
     "execution_count": 30,
     "metadata": {},
     "output_type": "execute_result"
    }
   ],
   "source": [
    "df_cur_f = stock.get_market_fundamental('20230215', '20230215', code)\n",
    "df_cur_f"
   ]
  },
  {
   "cell_type": "code",
   "execution_count": 42,
   "id": "88c9aef2",
   "metadata": {},
   "outputs": [
    {
     "data": {
      "text/plain": [
       "17000"
      ]
     },
     "execution_count": 42,
     "metadata": {},
     "output_type": "execute_result"
    }
   ],
   "source": [
    "cur_dps = df_cur_f.DPS[0]\n",
    "cur_dps"
   ]
  },
  {
   "cell_type": "code",
   "execution_count": 43,
   "id": "98a7d330",
   "metadata": {},
   "outputs": [
    {
     "data": {
      "text/plain": [
       "871794.8504767087"
      ]
     },
     "execution_count": 43,
     "metadata": {},
     "output_type": "execute_result"
    }
   ],
   "source": [
    "target_price = cur_dps/div_min * 100\n",
    "target_price"
   ]
  },
  {
   "cell_type": "code",
   "execution_count": null,
   "id": "fef5b613",
   "metadata": {},
   "outputs": [],
   "source": [
    "calculate_buy_score(df_cur_f.DIV[0], div_min, div_max)\n"
   ]
  },
  {
   "cell_type": "markdown",
   "id": "a8ea324e",
   "metadata": {},
   "source": [
    "\"\"\"\n",
    "로우 패스 필터\n",
    "\"\"\""
   ]
  },
  {
   "cell_type": "code",
   "execution_count": 15,
   "id": "5d06b667",
   "metadata": {},
   "outputs": [],
   "source": [
    "div_yields = savgol_filter(df_f.DIV, 51, 3)"
   ]
  },
  {
   "cell_type": "code",
   "execution_count": 41,
   "id": "e65afdba",
   "metadata": {},
   "outputs": [
    {
     "data": {
      "text/plain": [
       "2.0901673"
      ]
     },
     "execution_count": 41,
     "metadata": {},
     "output_type": "execute_result"
    }
   ],
   "source": [
    "min(div_yields)"
   ]
  },
  {
   "cell_type": "code",
   "execution_count": null,
   "id": "97f0dd1d",
   "metadata": {},
   "outputs": [],
   "source": [
    "\"\"\"\n",
    "주가 배당률 그리기\n",
    "\"\"\"\n",
    "fig, ax1 = plt.subplots()\n",
    "\n",
    "color = 'tab:red'\n",
    "ax1.set_xlabel('year')\n",
    "ax1.set_ylabel('price', color=color)\n",
    "ax1.plot(df_p['종가'], color=color)\n",
    "\n",
    "ax2 = ax1.twinx()\n",
    "\n",
    "color = 'tab:blue'\n",
    "ax2.set_ylabel('dividend yield', color=color)\n",
    "ax2.plot(df_f['DIV'], color=color)\n",
    "plt.show()"
   ]
  },
  {
   "cell_type": "code",
   "execution_count": null,
   "id": "31d75650",
   "metadata": {},
   "outputs": [],
   "source": []
  },
  {
   "cell_type": "code",
   "execution_count": 16,
   "id": "be247a17",
   "metadata": {},
   "outputs": [
    {
     "data": {
      "text/html": [
       "<div>\n",
       "<style scoped>\n",
       "    .dataframe tbody tr th:only-of-type {\n",
       "        vertical-align: middle;\n",
       "    }\n",
       "\n",
       "    .dataframe tbody tr th {\n",
       "        vertical-align: top;\n",
       "    }\n",
       "\n",
       "    .dataframe thead th {\n",
       "        text-align: right;\n",
       "    }\n",
       "</style>\n",
       "<table border=\"1\" class=\"dataframe\">\n",
       "  <thead>\n",
       "    <tr style=\"text-align: right;\">\n",
       "      <th></th>\n",
       "      <th>BPS</th>\n",
       "      <th>PER</th>\n",
       "      <th>PBR</th>\n",
       "      <th>EPS</th>\n",
       "      <th>DIV</th>\n",
       "      <th>DPS</th>\n",
       "    </tr>\n",
       "    <tr>\n",
       "      <th>날짜</th>\n",
       "      <th></th>\n",
       "      <th></th>\n",
       "      <th></th>\n",
       "      <th></th>\n",
       "      <th></th>\n",
       "      <th></th>\n",
       "    </tr>\n",
       "  </thead>\n",
       "  <tbody>\n",
       "    <tr>\n",
       "      <th>2023-02-14</th>\n",
       "      <td>666803</td>\n",
       "      <td>3.52</td>\n",
       "      <td>0.46</td>\n",
       "      <td>87330</td>\n",
       "      <td>5.54</td>\n",
       "      <td>17000</td>\n",
       "    </tr>\n",
       "  </tbody>\n",
       "</table>\n",
       "</div>"
      ],
      "text/plain": [
       "               BPS   PER   PBR    EPS   DIV    DPS\n",
       "날짜                                                \n",
       "2023-02-14  666803  3.52  0.46  87330  5.54  17000"
      ]
     },
     "execution_count": 16,
     "metadata": {},
     "output_type": "execute_result"
    }
   ],
   "source": [
    "df_cur_f = stock.get_market_fundamental('20230214', '20230214', code)\n",
    "df_cur_f"
   ]
  },
  {
   "cell_type": "code",
   "execution_count": 17,
   "id": "b62031a1",
   "metadata": {},
   "outputs": [
    {
     "data": {
      "text/html": [
       "<div>\n",
       "<style scoped>\n",
       "    .dataframe tbody tr th:only-of-type {\n",
       "        vertical-align: middle;\n",
       "    }\n",
       "\n",
       "    .dataframe tbody tr th {\n",
       "        vertical-align: top;\n",
       "    }\n",
       "\n",
       "    .dataframe thead th {\n",
       "        text-align: right;\n",
       "    }\n",
       "</style>\n",
       "<table border=\"1\" class=\"dataframe\">\n",
       "  <thead>\n",
       "    <tr style=\"text-align: right;\">\n",
       "      <th></th>\n",
       "      <th>시가</th>\n",
       "      <th>고가</th>\n",
       "      <th>저가</th>\n",
       "      <th>종가</th>\n",
       "      <th>거래량</th>\n",
       "    </tr>\n",
       "    <tr>\n",
       "      <th>날짜</th>\n",
       "      <th></th>\n",
       "      <th></th>\n",
       "      <th></th>\n",
       "      <th></th>\n",
       "      <th></th>\n",
       "    </tr>\n",
       "  </thead>\n",
       "  <tbody>\n",
       "    <tr>\n",
       "      <th>2023-02-14</th>\n",
       "      <td>306500</td>\n",
       "      <td>313000</td>\n",
       "      <td>304500</td>\n",
       "      <td>307000</td>\n",
       "      <td>495815</td>\n",
       "    </tr>\n",
       "  </tbody>\n",
       "</table>\n",
       "</div>"
      ],
      "text/plain": [
       "                시가      고가      저가      종가     거래량\n",
       "날짜                                                \n",
       "2023-02-14  306500  313000  304500  307000  495815"
      ]
     },
     "execution_count": 17,
     "metadata": {},
     "output_type": "execute_result"
    }
   ],
   "source": [
    "df_cur_p = stock.get_market_ohlcv('20230214', '20230214', code)\n",
    "df_cur_p"
   ]
  },
  {
   "cell_type": "code",
   "execution_count": 18,
   "id": "ec92fa4e",
   "metadata": {},
   "outputs": [
    {
     "data": {
      "text/plain": [
       "307000"
      ]
     },
     "execution_count": 18,
     "metadata": {},
     "output_type": "execute_result"
    }
   ],
   "source": [
    "cur_price = df_cur_p.종가[0]\n",
    "cur_price"
   ]
  },
  {
   "cell_type": "code",
   "execution_count": null,
   "id": "00ab4027",
   "metadata": {},
   "outputs": [],
   "source": []
  },
  {
   "cell_type": "code",
   "execution_count": 19,
   "id": "85448387",
   "metadata": {},
   "outputs": [
    {
     "data": {
      "text/plain": [
       "2.0901673"
      ]
     },
     "execution_count": 19,
     "metadata": {},
     "output_type": "execute_result"
    }
   ],
   "source": [
    "div_min = min(div_yields)\n",
    "div_min"
   ]
  },
  {
   "cell_type": "code",
   "execution_count": 20,
   "id": "4e55df3f",
   "metadata": {},
   "outputs": [
    {
     "data": {
      "text/plain": [
       "7.4456363"
      ]
     },
     "execution_count": 20,
     "metadata": {},
     "output_type": "execute_result"
    }
   ],
   "source": [
    "div_max = max(div_yields)\n",
    "div_max"
   ]
  },
  {
   "cell_type": "code",
   "execution_count": 54,
   "id": "5883c75a",
   "metadata": {},
   "outputs": [
    {
     "data": {
      "text/plain": [
       "17000"
      ]
     },
     "execution_count": 54,
     "metadata": {},
     "output_type": "execute_result"
    }
   ],
   "source": [
    "cur_dps = df_cur_f.DPS[0]\n",
    "cur_dps"
   ]
  },
  {
   "cell_type": "code",
   "execution_count": 55,
   "id": "9e2fb7bd",
   "metadata": {},
   "outputs": [
    {
     "data": {
      "text/plain": [
       "871794.8504767087"
      ]
     },
     "execution_count": 55,
     "metadata": {},
     "output_type": "execute_result"
    }
   ],
   "source": [
    "target_price = cur_dps/div_min * 100\n",
    "target_price"
   ]
  },
  {
   "cell_type": "code",
   "execution_count": 23,
   "id": "667d7a4e",
   "metadata": {},
   "outputs": [
    {
     "data": {
      "text/plain": [
       "228321.65550373876"
      ]
     },
     "execution_count": 23,
     "metadata": {},
     "output_type": "execute_result"
    }
   ],
   "source": [
    "buy_price = cur_div/div_max * 100\n",
    "buy_price"
   ]
  },
  {
   "cell_type": "code",
   "execution_count": 29,
   "id": "376114de",
   "metadata": {},
   "outputs": [],
   "source": [
    "def get_percentage(input, min, max):\n",
    "    return round((input - min) / (max - min) * 100)\n",
    "\n",
    "def calculate_buy_score(current_div_yield, div_min, div_max):\n",
    "    buy_score = get_percentage(current_div_yield, div_min, div_max)\n",
    "    return buy_score"
   ]
  },
  {
   "cell_type": "code",
   "execution_count": 25,
   "id": "bcaf568c",
   "metadata": {},
   "outputs": [
    {
     "data": {
      "text/plain": [
       "64"
      ]
     },
     "execution_count": 25,
     "metadata": {},
     "output_type": "execute_result"
    }
   ],
   "source": [
    "calculate_buy_score(df_cur_f.DIV[0], div_min, div_max)"
   ]
  },
  {
   "cell_type": "code",
   "execution_count": null,
   "id": "6db4d56a",
   "metadata": {},
   "outputs": [],
   "source": []
  }
 ],
 "metadata": {
  "kernelspec": {
   "display_name": "Python 3 (ipykernel)",
   "language": "python",
   "name": "python3"
  },
  "language_info": {
   "codemirror_mode": {
    "name": "ipython",
    "version": 3
   },
   "file_extension": ".py",
   "mimetype": "text/x-python",
   "name": "python",
   "nbconvert_exporter": "python",
   "pygments_lexer": "ipython3",
   "version": "3.9.12"
  }
 },
 "nbformat": 4,
 "nbformat_minor": 5
}
