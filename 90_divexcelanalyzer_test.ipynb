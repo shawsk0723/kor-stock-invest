{
 "cells": [
  {
   "cell_type": "code",
   "execution_count": 1,
   "id": "393998b6",
   "metadata": {},
   "outputs": [],
   "source": [
    "import kodivstock.divexcelanalyzer as dea"
   ]
  },
  {
   "cell_type": "code",
   "execution_count": 2,
   "id": "400f8338",
   "metadata": {},
   "outputs": [],
   "source": [
    "divExcelAnalyzer = dea.DivExcelAnalyzer('./data/tiger_divgrowth50_dps_data_2012_2021.xlsx')"
   ]
  },
  {
   "cell_type": "code",
   "execution_count": 3,
   "id": "bddfa303",
   "metadata": {},
   "outputs": [
    {
     "data": {
      "text/plain": [
       "['005490', '011780', '005940']"
      ]
     },
     "execution_count": 3,
     "metadata": {},
     "output_type": "execute_result"
    }
   ],
   "source": [
    "tickers = divExcelAnalyzer.getTickers()\n",
    "tickers[:3]"
   ]
  },
  {
   "cell_type": "code",
   "execution_count": 4,
   "id": "9b0e8299",
   "metadata": {},
   "outputs": [
    {
     "data": {
      "text/plain": [
       "[1, 6, 8]"
      ]
     },
     "execution_count": 4,
     "metadata": {},
     "output_type": "execute_result"
    }
   ],
   "source": [
    "divGrowthYears = divExcelAnalyzer.getDivGrowthYears(tickers)\n",
    "divGrowthYears[:3]"
   ]
  },
  {
   "cell_type": "code",
   "execution_count": 7,
   "id": "0cdf6b5d",
   "metadata": {},
   "outputs": [
    {
     "data": {
      "text/plain": [
       "[0.11369318488611313, 0.3112975467471719, 0.3083507510954202]"
      ]
     },
     "execution_count": 7,
     "metadata": {},
     "output_type": "execute_result"
    }
   ],
   "source": [
    "divGrowthRatesFor7Years = divExcelAnalyzer.getDivGrowthRates(tickers, 7)\n",
    "divGrowthRatesFor7Years[:3]"
   ]
  },
  {
   "cell_type": "code",
   "execution_count": 8,
   "id": "d966b348",
   "metadata": {},
   "outputs": [
    {
     "data": {
      "text/plain": [
       "[0.19348319192733698, 0.9493451588085773, 0.28057916498749425]"
      ]
     },
     "execution_count": 8,
     "metadata": {},
     "output_type": "execute_result"
    }
   ],
   "source": [
    "divGrowthRatesFor3Years = divExcelAnalyzer.getDivGrowthRates(tickers, 3)\n",
    "divGrowthRatesFor3Years[:3]"
   ]
  },
  {
   "cell_type": "code",
   "execution_count": null,
   "id": "26615ef9",
   "metadata": {},
   "outputs": [],
   "source": []
  }
 ],
 "metadata": {
  "kernelspec": {
   "display_name": "Python 3 (ipykernel)",
   "language": "python",
   "name": "python3"
  },
  "language_info": {
   "codemirror_mode": {
    "name": "ipython",
    "version": 3
   },
   "file_extension": ".py",
   "mimetype": "text/x-python",
   "name": "python",
   "nbconvert_exporter": "python",
   "pygments_lexer": "ipython3",
   "version": "3.9.12"
  }
 },
 "nbformat": 4,
 "nbformat_minor": 5
}
