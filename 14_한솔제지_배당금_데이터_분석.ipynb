{
 "cells": [
  {
   "cell_type": "code",
   "execution_count": 1,
   "id": "368c49c4",
   "metadata": {},
   "outputs": [],
   "source": [
    "import numpy as np\n",
    "import pandas as pd\n",
    "from scipy.signal import savgol_filter\n",
    "from pykrx import stock\n",
    "import matplotlib.pyplot as plt\n",
    "import time\n",
    "plt.rcParams['font.family'] = 'Malgun Gothic'"
   ]
  },
  {
   "cell_type": "code",
   "execution_count": 2,
   "id": "a8180ffd",
   "metadata": {},
   "outputs": [],
   "source": [
    "\"\"\"\n",
    "분석 기간\n",
    "\"\"\"\n",
    "start_year = '2012'\n",
    "end_year = '2021'"
   ]
  },
  {
   "cell_type": "code",
   "execution_count": 4,
   "id": "98745d8f",
   "metadata": {},
   "outputs": [],
   "source": [
    "\"\"\"\n",
    "한솔제지\n",
    "\"\"\"\n",
    "code = '213500'"
   ]
  },
  {
   "cell_type": "code",
   "execution_count": 6,
   "id": "1132daaf",
   "metadata": {
    "scrolled": true
   },
   "outputs": [
    {
     "name": "stdout",
     "output_type": "stream",
     "text": [
      "2013\n",
      "20130531\n"
     ]
    },
    {
     "data": {
      "text/html": [
       "<div>\n",
       "<style scoped>\n",
       "    .dataframe tbody tr th:only-of-type {\n",
       "        vertical-align: middle;\n",
       "    }\n",
       "\n",
       "    .dataframe tbody tr th {\n",
       "        vertical-align: top;\n",
       "    }\n",
       "\n",
       "    .dataframe thead th {\n",
       "        text-align: right;\n",
       "    }\n",
       "</style>\n",
       "<table border=\"1\" class=\"dataframe\">\n",
       "  <thead>\n",
       "    <tr style=\"text-align: right;\">\n",
       "      <th></th>\n",
       "    </tr>\n",
       "  </thead>\n",
       "  <tbody>\n",
       "  </tbody>\n",
       "</table>\n",
       "</div>"
      ],
      "text/plain": [
       "Empty DataFrame\n",
       "Columns: []\n",
       "Index: []"
      ]
     },
     "metadata": {},
     "output_type": "display_data"
    },
    {
     "name": "stdout",
     "output_type": "stream",
     "text": [
      "'DataFrame' object has no attribute 'DPS'\n",
      "2014\n",
      "20140530\n"
     ]
    },
    {
     "data": {
      "text/html": [
       "<div>\n",
       "<style scoped>\n",
       "    .dataframe tbody tr th:only-of-type {\n",
       "        vertical-align: middle;\n",
       "    }\n",
       "\n",
       "    .dataframe tbody tr th {\n",
       "        vertical-align: top;\n",
       "    }\n",
       "\n",
       "    .dataframe thead th {\n",
       "        text-align: right;\n",
       "    }\n",
       "</style>\n",
       "<table border=\"1\" class=\"dataframe\">\n",
       "  <thead>\n",
       "    <tr style=\"text-align: right;\">\n",
       "      <th></th>\n",
       "    </tr>\n",
       "  </thead>\n",
       "  <tbody>\n",
       "  </tbody>\n",
       "</table>\n",
       "</div>"
      ],
      "text/plain": [
       "Empty DataFrame\n",
       "Columns: []\n",
       "Index: []"
      ]
     },
     "metadata": {},
     "output_type": "display_data"
    },
    {
     "name": "stdout",
     "output_type": "stream",
     "text": [
      "'DataFrame' object has no attribute 'DPS'\n",
      "2015\n",
      "20150529\n"
     ]
    },
    {
     "data": {
      "text/html": [
       "<div>\n",
       "<style scoped>\n",
       "    .dataframe tbody tr th:only-of-type {\n",
       "        vertical-align: middle;\n",
       "    }\n",
       "\n",
       "    .dataframe tbody tr th {\n",
       "        vertical-align: top;\n",
       "    }\n",
       "\n",
       "    .dataframe thead th {\n",
       "        text-align: right;\n",
       "    }\n",
       "</style>\n",
       "<table border=\"1\" class=\"dataframe\">\n",
       "  <thead>\n",
       "    <tr style=\"text-align: right;\">\n",
       "      <th></th>\n",
       "      <th>BPS</th>\n",
       "      <th>PER</th>\n",
       "      <th>PBR</th>\n",
       "      <th>EPS</th>\n",
       "      <th>DIV</th>\n",
       "      <th>DPS</th>\n",
       "    </tr>\n",
       "    <tr>\n",
       "      <th>날짜</th>\n",
       "      <th></th>\n",
       "      <th></th>\n",
       "      <th></th>\n",
       "      <th></th>\n",
       "      <th></th>\n",
       "      <th></th>\n",
       "    </tr>\n",
       "  </thead>\n",
       "  <tbody>\n",
       "    <tr>\n",
       "      <th>2015-05-29</th>\n",
       "      <td>0</td>\n",
       "      <td>0.0</td>\n",
       "      <td>0.0</td>\n",
       "      <td>0</td>\n",
       "      <td>0.0</td>\n",
       "      <td>0</td>\n",
       "    </tr>\n",
       "  </tbody>\n",
       "</table>\n",
       "</div>"
      ],
      "text/plain": [
       "            BPS  PER  PBR  EPS  DIV  DPS\n",
       "날짜                                      \n",
       "2015-05-29    0  0.0  0.0    0  0.0    0"
      ]
     },
     "metadata": {},
     "output_type": "display_data"
    },
    {
     "name": "stdout",
     "output_type": "stream",
     "text": [
      "2016\n",
      "20160531\n"
     ]
    },
    {
     "data": {
      "text/html": [
       "<div>\n",
       "<style scoped>\n",
       "    .dataframe tbody tr th:only-of-type {\n",
       "        vertical-align: middle;\n",
       "    }\n",
       "\n",
       "    .dataframe tbody tr th {\n",
       "        vertical-align: top;\n",
       "    }\n",
       "\n",
       "    .dataframe thead th {\n",
       "        text-align: right;\n",
       "    }\n",
       "</style>\n",
       "<table border=\"1\" class=\"dataframe\">\n",
       "  <thead>\n",
       "    <tr style=\"text-align: right;\">\n",
       "      <th></th>\n",
       "      <th>BPS</th>\n",
       "      <th>PER</th>\n",
       "      <th>PBR</th>\n",
       "      <th>EPS</th>\n",
       "      <th>DIV</th>\n",
       "      <th>DPS</th>\n",
       "    </tr>\n",
       "    <tr>\n",
       "      <th>날짜</th>\n",
       "      <th></th>\n",
       "      <th></th>\n",
       "      <th></th>\n",
       "      <th></th>\n",
       "      <th></th>\n",
       "      <th></th>\n",
       "    </tr>\n",
       "  </thead>\n",
       "  <tbody>\n",
       "    <tr>\n",
       "      <th>2016-05-31</th>\n",
       "      <td>20212</td>\n",
       "      <td>16.78</td>\n",
       "      <td>1.21</td>\n",
       "      <td>1457</td>\n",
       "      <td>2.04</td>\n",
       "      <td>500</td>\n",
       "    </tr>\n",
       "  </tbody>\n",
       "</table>\n",
       "</div>"
      ],
      "text/plain": [
       "              BPS    PER   PBR   EPS   DIV  DPS\n",
       "날짜                                             \n",
       "2016-05-31  20212  16.78  1.21  1457  2.04  500"
      ]
     },
     "metadata": {},
     "output_type": "display_data"
    },
    {
     "name": "stdout",
     "output_type": "stream",
     "text": [
      "2017\n",
      "20170531\n"
     ]
    },
    {
     "data": {
      "text/html": [
       "<div>\n",
       "<style scoped>\n",
       "    .dataframe tbody tr th:only-of-type {\n",
       "        vertical-align: middle;\n",
       "    }\n",
       "\n",
       "    .dataframe tbody tr th {\n",
       "        vertical-align: top;\n",
       "    }\n",
       "\n",
       "    .dataframe thead th {\n",
       "        text-align: right;\n",
       "    }\n",
       "</style>\n",
       "<table border=\"1\" class=\"dataframe\">\n",
       "  <thead>\n",
       "    <tr style=\"text-align: right;\">\n",
       "      <th></th>\n",
       "      <th>BPS</th>\n",
       "      <th>PER</th>\n",
       "      <th>PBR</th>\n",
       "      <th>EPS</th>\n",
       "      <th>DIV</th>\n",
       "      <th>DPS</th>\n",
       "    </tr>\n",
       "    <tr>\n",
       "      <th>날짜</th>\n",
       "      <th></th>\n",
       "      <th></th>\n",
       "      <th></th>\n",
       "      <th></th>\n",
       "      <th></th>\n",
       "      <th></th>\n",
       "    </tr>\n",
       "  </thead>\n",
       "  <tbody>\n",
       "    <tr>\n",
       "      <th>2017-05-31</th>\n",
       "      <td>21417</td>\n",
       "      <td>8.23</td>\n",
       "      <td>0.91</td>\n",
       "      <td>2370</td>\n",
       "      <td>3.59</td>\n",
       "      <td>700</td>\n",
       "    </tr>\n",
       "  </tbody>\n",
       "</table>\n",
       "</div>"
      ],
      "text/plain": [
       "              BPS   PER   PBR   EPS   DIV  DPS\n",
       "날짜                                            \n",
       "2017-05-31  21417  8.23  0.91  2370  3.59  700"
      ]
     },
     "metadata": {},
     "output_type": "display_data"
    },
    {
     "name": "stdout",
     "output_type": "stream",
     "text": [
      "2018\n",
      "20180531\n"
     ]
    },
    {
     "data": {
      "text/html": [
       "<div>\n",
       "<style scoped>\n",
       "    .dataframe tbody tr th:only-of-type {\n",
       "        vertical-align: middle;\n",
       "    }\n",
       "\n",
       "    .dataframe tbody tr th {\n",
       "        vertical-align: top;\n",
       "    }\n",
       "\n",
       "    .dataframe thead th {\n",
       "        text-align: right;\n",
       "    }\n",
       "</style>\n",
       "<table border=\"1\" class=\"dataframe\">\n",
       "  <thead>\n",
       "    <tr style=\"text-align: right;\">\n",
       "      <th></th>\n",
       "      <th>BPS</th>\n",
       "      <th>PER</th>\n",
       "      <th>PBR</th>\n",
       "      <th>EPS</th>\n",
       "      <th>DIV</th>\n",
       "      <th>DPS</th>\n",
       "    </tr>\n",
       "    <tr>\n",
       "      <th>날짜</th>\n",
       "      <th></th>\n",
       "      <th></th>\n",
       "      <th></th>\n",
       "      <th></th>\n",
       "      <th></th>\n",
       "      <th></th>\n",
       "    </tr>\n",
       "  </thead>\n",
       "  <tbody>\n",
       "    <tr>\n",
       "      <th>2018-05-31</th>\n",
       "      <td>21976</td>\n",
       "      <td>10.23</td>\n",
       "      <td>0.84</td>\n",
       "      <td>1813</td>\n",
       "      <td>3.23</td>\n",
       "      <td>600</td>\n",
       "    </tr>\n",
       "  </tbody>\n",
       "</table>\n",
       "</div>"
      ],
      "text/plain": [
       "              BPS    PER   PBR   EPS   DIV  DPS\n",
       "날짜                                             \n",
       "2018-05-31  21976  10.23  0.84  1813  3.23  600"
      ]
     },
     "metadata": {},
     "output_type": "display_data"
    },
    {
     "name": "stdout",
     "output_type": "stream",
     "text": [
      "2019\n",
      "20190531\n"
     ]
    },
    {
     "data": {
      "text/html": [
       "<div>\n",
       "<style scoped>\n",
       "    .dataframe tbody tr th:only-of-type {\n",
       "        vertical-align: middle;\n",
       "    }\n",
       "\n",
       "    .dataframe tbody tr th {\n",
       "        vertical-align: top;\n",
       "    }\n",
       "\n",
       "    .dataframe thead th {\n",
       "        text-align: right;\n",
       "    }\n",
       "</style>\n",
       "<table border=\"1\" class=\"dataframe\">\n",
       "  <thead>\n",
       "    <tr style=\"text-align: right;\">\n",
       "      <th></th>\n",
       "      <th>BPS</th>\n",
       "      <th>PER</th>\n",
       "      <th>PBR</th>\n",
       "      <th>EPS</th>\n",
       "      <th>DIV</th>\n",
       "      <th>DPS</th>\n",
       "    </tr>\n",
       "    <tr>\n",
       "      <th>날짜</th>\n",
       "      <th></th>\n",
       "      <th></th>\n",
       "      <th></th>\n",
       "      <th></th>\n",
       "      <th></th>\n",
       "      <th></th>\n",
       "    </tr>\n",
       "  </thead>\n",
       "  <tbody>\n",
       "    <tr>\n",
       "      <th>2019-05-31</th>\n",
       "      <td>23790</td>\n",
       "      <td>8.61</td>\n",
       "      <td>0.58</td>\n",
       "      <td>1602</td>\n",
       "      <td>4.35</td>\n",
       "      <td>600</td>\n",
       "    </tr>\n",
       "  </tbody>\n",
       "</table>\n",
       "</div>"
      ],
      "text/plain": [
       "              BPS   PER   PBR   EPS   DIV  DPS\n",
       "날짜                                            \n",
       "2019-05-31  23790  8.61  0.58  1602  4.35  600"
      ]
     },
     "metadata": {},
     "output_type": "display_data"
    },
    {
     "name": "stdout",
     "output_type": "stream",
     "text": [
      "2020\n",
      "20200529\n"
     ]
    },
    {
     "data": {
      "text/html": [
       "<div>\n",
       "<style scoped>\n",
       "    .dataframe tbody tr th:only-of-type {\n",
       "        vertical-align: middle;\n",
       "    }\n",
       "\n",
       "    .dataframe tbody tr th {\n",
       "        vertical-align: top;\n",
       "    }\n",
       "\n",
       "    .dataframe thead th {\n",
       "        text-align: right;\n",
       "    }\n",
       "</style>\n",
       "<table border=\"1\" class=\"dataframe\">\n",
       "  <thead>\n",
       "    <tr style=\"text-align: right;\">\n",
       "      <th></th>\n",
       "      <th>BPS</th>\n",
       "      <th>PER</th>\n",
       "      <th>PBR</th>\n",
       "      <th>EPS</th>\n",
       "      <th>DIV</th>\n",
       "      <th>DPS</th>\n",
       "    </tr>\n",
       "    <tr>\n",
       "      <th>날짜</th>\n",
       "      <th></th>\n",
       "      <th></th>\n",
       "      <th></th>\n",
       "      <th></th>\n",
       "      <th></th>\n",
       "      <th></th>\n",
       "    </tr>\n",
       "  </thead>\n",
       "  <tbody>\n",
       "    <tr>\n",
       "      <th>2020-05-29</th>\n",
       "      <td>24810</td>\n",
       "      <td>8.59</td>\n",
       "      <td>0.58</td>\n",
       "      <td>1683</td>\n",
       "      <td>4.15</td>\n",
       "      <td>600</td>\n",
       "    </tr>\n",
       "  </tbody>\n",
       "</table>\n",
       "</div>"
      ],
      "text/plain": [
       "              BPS   PER   PBR   EPS   DIV  DPS\n",
       "날짜                                            \n",
       "2020-05-29  24810  8.59  0.58  1683  4.15  600"
      ]
     },
     "metadata": {},
     "output_type": "display_data"
    },
    {
     "name": "stdout",
     "output_type": "stream",
     "text": [
      "2021\n",
      "20210531\n"
     ]
    },
    {
     "data": {
      "text/html": [
       "<div>\n",
       "<style scoped>\n",
       "    .dataframe tbody tr th:only-of-type {\n",
       "        vertical-align: middle;\n",
       "    }\n",
       "\n",
       "    .dataframe tbody tr th {\n",
       "        vertical-align: top;\n",
       "    }\n",
       "\n",
       "    .dataframe thead th {\n",
       "        text-align: right;\n",
       "    }\n",
       "</style>\n",
       "<table border=\"1\" class=\"dataframe\">\n",
       "  <thead>\n",
       "    <tr style=\"text-align: right;\">\n",
       "      <th></th>\n",
       "      <th>BPS</th>\n",
       "      <th>PER</th>\n",
       "      <th>PBR</th>\n",
       "      <th>EPS</th>\n",
       "      <th>DIV</th>\n",
       "      <th>DPS</th>\n",
       "    </tr>\n",
       "    <tr>\n",
       "      <th>날짜</th>\n",
       "      <th></th>\n",
       "      <th></th>\n",
       "      <th></th>\n",
       "      <th></th>\n",
       "      <th></th>\n",
       "      <th></th>\n",
       "    </tr>\n",
       "  </thead>\n",
       "  <tbody>\n",
       "    <tr>\n",
       "      <th>2021-05-31</th>\n",
       "      <td>26670</td>\n",
       "      <td>6.38</td>\n",
       "      <td>0.6</td>\n",
       "      <td>2493</td>\n",
       "      <td>4.4</td>\n",
       "      <td>700</td>\n",
       "    </tr>\n",
       "  </tbody>\n",
       "</table>\n",
       "</div>"
      ],
      "text/plain": [
       "              BPS   PER  PBR   EPS  DIV  DPS\n",
       "날짜                                          \n",
       "2021-05-31  26670  6.38  0.6  2493  4.4  700"
      ]
     },
     "metadata": {},
     "output_type": "display_data"
    },
    {
     "name": "stdout",
     "output_type": "stream",
     "text": [
      "2022\n",
      "20220531\n"
     ]
    },
    {
     "data": {
      "text/html": [
       "<div>\n",
       "<style scoped>\n",
       "    .dataframe tbody tr th:only-of-type {\n",
       "        vertical-align: middle;\n",
       "    }\n",
       "\n",
       "    .dataframe tbody tr th {\n",
       "        vertical-align: top;\n",
       "    }\n",
       "\n",
       "    .dataframe thead th {\n",
       "        text-align: right;\n",
       "    }\n",
       "</style>\n",
       "<table border=\"1\" class=\"dataframe\">\n",
       "  <thead>\n",
       "    <tr style=\"text-align: right;\">\n",
       "      <th></th>\n",
       "      <th>BPS</th>\n",
       "      <th>PER</th>\n",
       "      <th>PBR</th>\n",
       "      <th>EPS</th>\n",
       "      <th>DIV</th>\n",
       "      <th>DPS</th>\n",
       "    </tr>\n",
       "    <tr>\n",
       "      <th>날짜</th>\n",
       "      <th></th>\n",
       "      <th></th>\n",
       "      <th></th>\n",
       "      <th></th>\n",
       "      <th></th>\n",
       "      <th></th>\n",
       "    </tr>\n",
       "  </thead>\n",
       "  <tbody>\n",
       "    <tr>\n",
       "      <th>2022-05-31</th>\n",
       "      <td>28568</td>\n",
       "      <td>25.22</td>\n",
       "      <td>0.51</td>\n",
       "      <td>575</td>\n",
       "      <td>4.14</td>\n",
       "      <td>600</td>\n",
       "    </tr>\n",
       "  </tbody>\n",
       "</table>\n",
       "</div>"
      ],
      "text/plain": [
       "              BPS    PER   PBR  EPS   DIV  DPS\n",
       "날짜                                            \n",
       "2022-05-31  28568  25.22  0.51  575  4.14  600"
      ]
     },
     "metadata": {},
     "output_type": "display_data"
    }
   ],
   "source": [
    "\"\"\"\n",
    "매년 5월 31에 제일 가까운 영업일의 배당금 가져 오기\n",
    "\"\"\"\n",
    "dps_list = []\n",
    "for year in range(int(start_year)+1, int(end_year)+2):\n",
    "    try:\n",
    "        print(year)\n",
    "        last_business_day_of_may = stock.get_nearest_business_day_in_a_week(str(year)+'0531')\n",
    "        print(last_business_day_of_may)\n",
    "        df_annual_f = stock.get_market_fundamental(last_business_day_of_may, last_business_day_of_may, code)\n",
    "        display(df_annual_f)\n",
    "        dps_list.append(df_annual_f.DPS.values[0])\n",
    "        time.sleep(1)\n",
    "    except Exception as e:\n",
    "        print(str(e))\n",
    "        dps_list.append(0)\n",
    "        "
   ]
  },
  {
   "cell_type": "code",
   "execution_count": 7,
   "id": "262b32c5",
   "metadata": {},
   "outputs": [
    {
     "data": {
      "image/png": "[encoded data removed]",
      "text/plain": [
       "<Figure size 432x288 with 1 Axes>"
      ]
     },
     "metadata": {
      "needs_background": "light"
     },
     "output_type": "display_data"
    }
   ],
   "source": [
    "name = stock.get_market_ticker_name(code)\n",
    "\n",
    "plt.title(f'{name} - 연도별 배당금')\n",
    "plt.bar(range(int(start_year), int(end_year)+1), dps_list)\n",
    "plt.show()"
   ]
  },
  {
   "cell_type": "markdown",
   "id": "dc176343",
   "metadata": {},
   "source": [
    "배당 성장 연수와 배당 성장률 구하기"
   ]
  },
  {
   "cell_type": "code",
   "execution_count": 8,
   "id": "f81eb2c0",
   "metadata": {},
   "outputs": [],
   "source": [
    "def getActualDivGrowth(divs):\n",
    "    div_history = divs.copy()\n",
    "    div_history.reverse()\n",
    "    div_growth_list = []\n",
    "    for div_cur, div_before in zip(div_history, div_history[1:]):\n",
    "        print(f'div_cur = {div_cur}, div_before = {div_before}')\n",
    "        if div_before == 0:\n",
    "            #print('div_before is 0')\n",
    "            break;\n",
    "\n",
    "        if div_cur >= div_before:\n",
    "            div_growth_list.append(div_cur)\n",
    "        else:\n",
    "            #print('div_before is more than div cur')\n",
    "            div_growth_list.append(div_cur)            \n",
    "            break\n",
    "\n",
    "    div_growth_list.reverse()\n",
    "    return len(div_growth_list) - 1, div_growth_list"
   ]
  },
  {
   "cell_type": "code",
   "execution_count": 9,
   "id": "033907c4",
   "metadata": {},
   "outputs": [
    {
     "name": "stdout",
     "output_type": "stream",
     "text": [
      "div_cur = 600, div_before = 700\n"
     ]
    },
    {
     "data": {
      "text/plain": [
       "(0, [600])"
      ]
     },
     "execution_count": 9,
     "metadata": {},
     "output_type": "execute_result"
    }
   ],
   "source": [
    "actual_div_growth_cnt, actual_div_growth_list = getActualDivGrowth(dps_list)\n",
    "actual_div_growth_cnt, actual_div_growth_list"
   ]
  },
  {
   "cell_type": "code",
   "execution_count": 10,
   "id": "62b2bae4",
   "metadata": {},
   "outputs": [],
   "source": [
    "def getCAGR(div_history):\n",
    "    cagr = (div_history[-1]/div_history[0]) ** (1/len(div_history)) - 1\n",
    "    return cagr"
   ]
  },
  {
   "cell_type": "code",
   "execution_count": 11,
   "id": "6ce9ad01",
   "metadata": {},
   "outputs": [
    {
     "data": {
      "text/plain": [
       "0.0"
      ]
     },
     "execution_count": 11,
     "metadata": {},
     "output_type": "execute_result"
    }
   ],
   "source": [
    "cagr = getCAGR(actual_div_growth_list)\n",
    "cagr"
   ]
  },
  {
   "cell_type": "code",
   "execution_count": null,
   "id": "07ecbd0f",
   "metadata": {},
   "outputs": [],
   "source": []
  },
  {
   "cell_type": "code",
   "execution_count": null,
   "id": "03dfcfb8",
   "metadata": {},
   "outputs": [],
   "source": []
  },
  {
   "cell_type": "markdown",
   "id": "98062b3f",
   "metadata": {},
   "source": [
    "\"\"\"\n",
    "목표 주가 구하기\n",
    "\"\"\""
   ]
  },
  {
   "cell_type": "code",
   "execution_count": 12,
   "id": "118eafe2",
   "metadata": {},
   "outputs": [],
   "source": [
    "start_date = '20150501'\n",
    "end_date = '20230222'\n",
    "df_f = stock.get_market_fundamental(start_date, end_date, code, freq='d')"
   ]
  },
  {
   "cell_type": "code",
   "execution_count": 13,
   "id": "de620bf6",
   "metadata": {},
   "outputs": [
    {
     "data": {
      "text/html": [
       "<div>\n",
       "<style scoped>\n",
       "    .dataframe tbody tr th:only-of-type {\n",
       "        vertical-align: middle;\n",
       "    }\n",
       "\n",
       "    .dataframe tbody tr th {\n",
       "        vertical-align: top;\n",
       "    }\n",
       "\n",
       "    .dataframe thead th {\n",
       "        text-align: right;\n",
       "    }\n",
       "</style>\n",
       "<table border=\"1\" class=\"dataframe\">\n",
       "  <thead>\n",
       "    <tr style=\"text-align: right;\">\n",
       "      <th></th>\n",
       "      <th>BPS</th>\n",
       "      <th>PER</th>\n",
       "      <th>PBR</th>\n",
       "      <th>EPS</th>\n",
       "      <th>DIV</th>\n",
       "      <th>DPS</th>\n",
       "    </tr>\n",
       "    <tr>\n",
       "      <th>날짜</th>\n",
       "      <th></th>\n",
       "      <th></th>\n",
       "      <th></th>\n",
       "      <th></th>\n",
       "      <th></th>\n",
       "      <th></th>\n",
       "    </tr>\n",
       "  </thead>\n",
       "  <tbody>\n",
       "    <tr>\n",
       "      <th>2015-05-04</th>\n",
       "      <td>0</td>\n",
       "      <td>0.00</td>\n",
       "      <td>0.00</td>\n",
       "      <td>0</td>\n",
       "      <td>0.00</td>\n",
       "      <td>0</td>\n",
       "    </tr>\n",
       "    <tr>\n",
       "      <th>2015-05-06</th>\n",
       "      <td>0</td>\n",
       "      <td>0.00</td>\n",
       "      <td>0.00</td>\n",
       "      <td>0</td>\n",
       "      <td>0.00</td>\n",
       "      <td>0</td>\n",
       "    </tr>\n",
       "    <tr>\n",
       "      <th>2015-05-07</th>\n",
       "      <td>0</td>\n",
       "      <td>0.00</td>\n",
       "      <td>0.00</td>\n",
       "      <td>0</td>\n",
       "      <td>0.00</td>\n",
       "      <td>0</td>\n",
       "    </tr>\n",
       "    <tr>\n",
       "      <th>2015-05-08</th>\n",
       "      <td>0</td>\n",
       "      <td>0.00</td>\n",
       "      <td>0.00</td>\n",
       "      <td>0</td>\n",
       "      <td>0.00</td>\n",
       "      <td>0</td>\n",
       "    </tr>\n",
       "    <tr>\n",
       "      <th>2015-05-11</th>\n",
       "      <td>0</td>\n",
       "      <td>0.00</td>\n",
       "      <td>0.00</td>\n",
       "      <td>0</td>\n",
       "      <td>0.00</td>\n",
       "      <td>0</td>\n",
       "    </tr>\n",
       "    <tr>\n",
       "      <th>...</th>\n",
       "      <td>...</td>\n",
       "      <td>...</td>\n",
       "      <td>...</td>\n",
       "      <td>...</td>\n",
       "      <td>...</td>\n",
       "      <td>...</td>\n",
       "    </tr>\n",
       "    <tr>\n",
       "      <th>2023-02-16</th>\n",
       "      <td>28568</td>\n",
       "      <td>21.83</td>\n",
       "      <td>0.44</td>\n",
       "      <td>575</td>\n",
       "      <td>4.78</td>\n",
       "      <td>600</td>\n",
       "    </tr>\n",
       "    <tr>\n",
       "      <th>2023-02-17</th>\n",
       "      <td>28568</td>\n",
       "      <td>21.84</td>\n",
       "      <td>0.44</td>\n",
       "      <td>575</td>\n",
       "      <td>4.78</td>\n",
       "      <td>600</td>\n",
       "    </tr>\n",
       "    <tr>\n",
       "      <th>2023-02-20</th>\n",
       "      <td>28568</td>\n",
       "      <td>22.00</td>\n",
       "      <td>0.44</td>\n",
       "      <td>575</td>\n",
       "      <td>4.74</td>\n",
       "      <td>600</td>\n",
       "    </tr>\n",
       "    <tr>\n",
       "      <th>2023-02-21</th>\n",
       "      <td>28568</td>\n",
       "      <td>21.98</td>\n",
       "      <td>0.44</td>\n",
       "      <td>575</td>\n",
       "      <td>4.75</td>\n",
       "      <td>600</td>\n",
       "    </tr>\n",
       "    <tr>\n",
       "      <th>2023-02-22</th>\n",
       "      <td>28568</td>\n",
       "      <td>21.86</td>\n",
       "      <td>0.44</td>\n",
       "      <td>575</td>\n",
       "      <td>4.77</td>\n",
       "      <td>600</td>\n",
       "    </tr>\n",
       "  </tbody>\n",
       "</table>\n",
       "<p>1923 rows × 6 columns</p>\n",
       "</div>"
      ],
      "text/plain": [
       "              BPS    PER   PBR  EPS   DIV  DPS\n",
       "날짜                                            \n",
       "2015-05-04      0   0.00  0.00    0  0.00    0\n",
       "2015-05-06      0   0.00  0.00    0  0.00    0\n",
       "2015-05-07      0   0.00  0.00    0  0.00    0\n",
       "2015-05-08      0   0.00  0.00    0  0.00    0\n",
       "2015-05-11      0   0.00  0.00    0  0.00    0\n",
       "...           ...    ...   ...  ...   ...  ...\n",
       "2023-02-16  28568  21.83  0.44  575  4.78  600\n",
       "2023-02-17  28568  21.84  0.44  575  4.78  600\n",
       "2023-02-20  28568  22.00  0.44  575  4.74  600\n",
       "2023-02-21  28568  21.98  0.44  575  4.75  600\n",
       "2023-02-22  28568  21.86  0.44  575  4.77  600\n",
       "\n",
       "[1923 rows x 6 columns]"
      ]
     },
     "execution_count": 13,
     "metadata": {},
     "output_type": "execute_result"
    }
   ],
   "source": [
    "df_f"
   ]
  },
  {
   "cell_type": "code",
   "execution_count": 14,
   "id": "b33ab9d2",
   "metadata": {},
   "outputs": [
    {
     "name": "stdout",
     "output_type": "stream",
     "text": [
      "div_cur = 600, div_before = 600\n",
      "div_cur = 600, div_before = 600\n",
      "div_cur = 600, div_before = 600\n",
      "div_cur = 600, div_before = 600\n",
      "div_cur = 600, div_before = 600\n",
      "div_cur = 600, div_before = 600\n",
      "div_cur = 600, div_before = 600\n",
      "div_cur = 600, div_before = 600\n",
      "div_cur = 600, div_before = 600\n",
      "div_cur = 600, div_before = 600\n",
      "div_cur = 600, div_before = 600\n",
      "div_cur = 600, div_before = 600\n",
      "div_cur = 600, div_before = 600\n",
      "div_cur = 600, div_before = 600\n",
      "div_cur = 600, div_before = 600\n",
      "div_cur = 600, div_before = 600\n",
      "div_cur = 600, div_before = 600\n",
      "div_cur = 600, div_before = 600\n",
      "div_cur = 600, div_before = 600\n",
      "div_cur = 600, div_before = 600\n",
      "div_cur = 600, div_before = 600\n",
      "div_cur = 600, div_before = 600\n",
      "div_cur = 600, div_before = 600\n",
      "div_cur = 600, div_before = 600\n",
      "div_cur = 600, div_before = 600\n",
      "div_cur = 600, div_before = 600\n",
      "div_cur = 600, div_before = 600\n",
      "div_cur = 600, div_before = 600\n",
      "div_cur = 600, div_before = 600\n",
      "div_cur = 600, div_before = 600\n",
      "div_cur = 600, div_before = 600\n",
      "div_cur = 600, div_before = 600\n",
      "div_cur = 600, div_before = 600\n",
      "div_cur = 600, div_before = 600\n",
      "div_cur = 600, div_before = 600\n",
      "div_cur = 600, div_before = 600\n",
      "div_cur = 600, div_before = 600\n",
      "div_cur = 600, div_before = 600\n",
      "div_cur = 600, div_before = 600\n",
      "div_cur = 600, div_before = 600\n",
      "div_cur = 600, div_before = 600\n",
      "div_cur = 600, div_before = 600\n",
      "div_cur = 600, div_before = 600\n",
      "div_cur = 600, div_before = 600\n",
      "div_cur = 600, div_before = 600\n",
      "div_cur = 600, div_before = 600\n",
      "div_cur = 600, div_before = 600\n",
      "div_cur = 600, div_before = 600\n",
      "div_cur = 600, div_before = 600\n",
      "div_cur = 600, div_before = 600\n",
      "div_cur = 600, div_before = 600\n",
      "div_cur = 600, div_before = 600\n",
      "div_cur = 600, div_before = 600\n",
      "div_cur = 600, div_before = 600\n",
      "div_cur = 600, div_before = 600\n",
      "div_cur = 600, div_before = 600\n",
      "div_cur = 600, div_before = 600\n",
      "div_cur = 600, div_before = 600\n",
      "div_cur = 600, div_before = 600\n",
      "div_cur = 600, div_before = 600\n",
      "div_cur = 600, div_before = 600\n",
      "div_cur = 600, div_before = 600\n",
      "div_cur = 600, div_before = 600\n",
      "div_cur = 600, div_before = 600\n",
      "div_cur = 600, div_before = 600\n",
      "div_cur = 600, div_before = 600\n",
      "div_cur = 600, div_before = 600\n",
      "div_cur = 600, div_before = 600\n",
      "div_cur = 600, div_before = 600\n",
      "div_cur = 600, div_before = 600\n",
      "div_cur = 600, div_before = 600\n",
      "div_cur = 600, div_before = 600\n",
      "div_cur = 600, div_before = 600\n",
      "div_cur = 600, div_before = 600\n",
      "div_cur = 600, div_before = 600\n",
      "div_cur = 600, div_before = 600\n",
      "div_cur = 600, div_before = 600\n",
      "div_cur = 600, div_before = 600\n",
      "div_cur = 600, div_before = 600\n",
      "div_cur = 600, div_before = 600\n",
      "div_cur = 600, div_before = 600\n",
      "div_cur = 600, div_before = 600\n",
      "div_cur = 600, div_before = 600\n",
      "div_cur = 600, div_before = 600\n",
      "div_cur = 600, div_before = 600\n",
      "div_cur = 600, div_before = 600\n",
      "div_cur = 600, div_before = 600\n",
      "div_cur = 600, div_before = 600\n",
      "div_cur = 600, div_before = 600\n",
      "div_cur = 600, div_before = 600\n",
      "div_cur = 600, div_before = 600\n",
      "div_cur = 600, div_before = 600\n",
      "div_cur = 600, div_before = 600\n",
      "div_cur = 600, div_before = 600\n",
      "div_cur = 600, div_before = 600\n",
      "div_cur = 600, div_before = 600\n",
      "div_cur = 600, div_before = 600\n",
      "div_cur = 600, div_before = 600\n",
      "div_cur = 600, div_before = 600\n",
      "div_cur = 600, div_before = 600\n",
      "div_cur = 600, div_before = 600\n",
      "div_cur = 600, div_before = 600\n",
      "div_cur = 600, div_before = 600\n",
      "div_cur = 600, div_before = 600\n",
      "div_cur = 600, div_before = 600\n",
      "div_cur = 600, div_before = 600\n",
      "div_cur = 600, div_before = 600\n",
      "div_cur = 600, div_before = 600\n",
      "div_cur = 600, div_before = 600\n",
      "div_cur = 600, div_before = 600\n",
      "div_cur = 600, div_before = 600\n",
      "div_cur = 600, div_before = 600\n",
      "div_cur = 600, div_before = 600\n",
      "div_cur = 600, div_before = 600\n",
      "div_cur = 600, div_before = 600\n",
      "div_cur = 600, div_before = 600\n",
      "div_cur = 600, div_before = 600\n",
      "div_cur = 600, div_before = 600\n",
      "div_cur = 600, div_before = 600\n",
      "div_cur = 600, div_before = 600\n",
      "div_cur = 600, div_before = 600\n",
      "div_cur = 600, div_before = 600\n",
      "div_cur = 600, div_before = 600\n",
      "div_cur = 600, div_before = 600\n",
      "div_cur = 600, div_before = 600\n",
      "div_cur = 600, div_before = 600\n",
      "div_cur = 600, div_before = 600\n",
      "div_cur = 600, div_before = 600\n",
      "div_cur = 600, div_before = 600\n",
      "div_cur = 600, div_before = 600\n",
      "div_cur = 600, div_before = 600\n",
      "div_cur = 600, div_before = 600\n",
      "div_cur = 600, div_before = 600\n",
      "div_cur = 600, div_before = 600\n",
      "div_cur = 600, div_before = 600\n",
      "div_cur = 600, div_before = 600\n",
      "div_cur = 600, div_before = 600\n",
      "div_cur = 600, div_before = 600\n",
      "div_cur = 600, div_before = 600\n",
      "div_cur = 600, div_before = 600\n",
      "div_cur = 600, div_before = 600\n",
      "div_cur = 600, div_before = 600\n",
      "div_cur = 600, div_before = 600\n",
      "div_cur = 600, div_before = 600\n",
      "div_cur = 600, div_before = 600\n",
      "div_cur = 600, div_before = 600\n",
      "div_cur = 600, div_before = 600\n",
      "div_cur = 600, div_before = 600\n",
      "div_cur = 600, div_before = 600\n",
      "div_cur = 600, div_before = 600\n",
      "div_cur = 600, div_before = 600\n",
      "div_cur = 600, div_before = 600\n",
      "div_cur = 600, div_before = 600\n",
      "div_cur = 600, div_before = 600\n",
      "div_cur = 600, div_before = 600\n",
      "div_cur = 600, div_before = 600\n",
      "div_cur = 600, div_before = 600\n",
      "div_cur = 600, div_before = 600\n",
      "div_cur = 600, div_before = 600\n",
      "div_cur = 600, div_before = 600\n",
      "div_cur = 600, div_before = 600\n",
      "div_cur = 600, div_before = 600\n",
      "div_cur = 600, div_before = 600\n",
      "div_cur = 600, div_before = 600\n",
      "div_cur = 600, div_before = 600\n",
      "div_cur = 600, div_before = 600\n",
      "div_cur = 600, div_before = 600\n",
      "div_cur = 600, div_before = 600\n",
      "div_cur = 600, div_before = 600\n",
      "div_cur = 600, div_before = 600\n",
      "div_cur = 600, div_before = 600\n",
      "div_cur = 600, div_before = 600\n",
      "div_cur = 600, div_before = 600\n",
      "div_cur = 600, div_before = 600\n",
      "div_cur = 600, div_before = 600\n",
      "div_cur = 600, div_before = 600\n",
      "div_cur = 600, div_before = 600\n",
      "div_cur = 600, div_before = 600\n",
      "div_cur = 600, div_before = 600\n",
      "div_cur = 600, div_before = 600\n",
      "div_cur = 600, div_before = 600\n",
      "div_cur = 600, div_before = 600\n",
      "div_cur = 600, div_before = 600\n",
      "div_cur = 600, div_before = 600\n",
      "div_cur = 600, div_before = 600\n",
      "div_cur = 600, div_before = 600\n",
      "div_cur = 600, div_before = 600\n",
      "div_cur = 600, div_before = 600\n",
      "div_cur = 600, div_before = 600\n",
      "div_cur = 600, div_before = 600\n",
      "div_cur = 600, div_before = 600\n",
      "div_cur = 600, div_before = 600\n",
      "div_cur = 600, div_before = 600\n",
      "div_cur = 600, div_before = 600\n",
      "div_cur = 600, div_before = 600\n",
      "div_cur = 600, div_before = 600\n",
      "div_cur = 600, div_before = 600\n",
      "div_cur = 600, div_before = 600\n",
      "div_cur = 600, div_before = 600\n",
      "div_cur = 600, div_before = 600\n",
      "div_cur = 600, div_before = 600\n",
      "div_cur = 600, div_before = 700\n"
     ]
    },
    {
     "data": {
      "text/plain": [
       "(201,\n",
       " [600,\n",
       "  600,\n",
       "  600,\n",
       "  600,\n",
       "  600,\n",
       "  600,\n",
       "  600,\n",
       "  600,\n",
       "  600,\n",
       "  600,\n",
       "  600,\n",
       "  600,\n",
       "  600,\n",
       "  600,\n",
       "  600,\n",
       "  600,\n",
       "  600,\n",
       "  600,\n",
       "  600,\n",
       "  600,\n",
       "  600,\n",
       "  600,\n",
       "  600,\n",
       "  600,\n",
       "  600,\n",
       "  600,\n",
       "  600,\n",
       "  600,\n",
       "  600,\n",
       "  600,\n",
       "  600,\n",
       "  600,\n",
       "  600,\n",
       "  600,\n",
       "  600,\n",
       "  600,\n",
       "  600,\n",
       "  600,\n",
       "  600,\n",
       "  600,\n",
       "  600,\n",
       "  600,\n",
       "  600,\n",
       "  600,\n",
       "  600,\n",
       "  600,\n",
       "  600,\n",
       "  600,\n",
       "  600,\n",
       "  600,\n",
       "  600,\n",
       "  600,\n",
       "  600,\n",
       "  600,\n",
       "  600,\n",
       "  600,\n",
       "  600,\n",
       "  600,\n",
       "  600,\n",
       "  600,\n",
       "  600,\n",
       "  600,\n",
       "  600,\n",
       "  600,\n",
       "  600,\n",
       "  600,\n",
       "  600,\n",
       "  600,\n",
       "  600,\n",
       "  600,\n",
       "  600,\n",
       "  600,\n",
       "  600,\n",
       "  600,\n",
       "  600,\n",
       "  600,\n",
       "  600,\n",
       "  600,\n",
       "  600,\n",
       "  600,\n",
       "  600,\n",
       "  600,\n",
       "  600,\n",
       "  600,\n",
       "  600,\n",
       "  600,\n",
       "  600,\n",
       "  600,\n",
       "  600,\n",
       "  600,\n",
       "  600,\n",
       "  600,\n",
       "  600,\n",
       "  600,\n",
       "  600,\n",
       "  600,\n",
       "  600,\n",
       "  600,\n",
       "  600,\n",
       "  600,\n",
       "  600,\n",
       "  600,\n",
       "  600,\n",
       "  600,\n",
       "  600,\n",
       "  600,\n",
       "  600,\n",
       "  600,\n",
       "  600,\n",
       "  600,\n",
       "  600,\n",
       "  600,\n",
       "  600,\n",
       "  600,\n",
       "  600,\n",
       "  600,\n",
       "  600,\n",
       "  600,\n",
       "  600,\n",
       "  600,\n",
       "  600,\n",
       "  600,\n",
       "  600,\n",
       "  600,\n",
       "  600,\n",
       "  600,\n",
       "  600,\n",
       "  600,\n",
       "  600,\n",
       "  600,\n",
       "  600,\n",
       "  600,\n",
       "  600,\n",
       "  600,\n",
       "  600,\n",
       "  600,\n",
       "  600,\n",
       "  600,\n",
       "  600,\n",
       "  600,\n",
       "  600,\n",
       "  600,\n",
       "  600,\n",
       "  600,\n",
       "  600,\n",
       "  600,\n",
       "  600,\n",
       "  600,\n",
       "  600,\n",
       "  600,\n",
       "  600,\n",
       "  600,\n",
       "  600,\n",
       "  600,\n",
       "  600,\n",
       "  600,\n",
       "  600,\n",
       "  600,\n",
       "  600,\n",
       "  600,\n",
       "  600,\n",
       "  600,\n",
       "  600,\n",
       "  600,\n",
       "  600,\n",
       "  600,\n",
       "  600,\n",
       "  600,\n",
       "  600,\n",
       "  600,\n",
       "  600,\n",
       "  600,\n",
       "  600,\n",
       "  600,\n",
       "  600,\n",
       "  600,\n",
       "  600,\n",
       "  600,\n",
       "  600,\n",
       "  600,\n",
       "  600,\n",
       "  600,\n",
       "  600,\n",
       "  600,\n",
       "  600,\n",
       "  600,\n",
       "  600,\n",
       "  600,\n",
       "  600,\n",
       "  600,\n",
       "  600,\n",
       "  600,\n",
       "  600,\n",
       "  600,\n",
       "  600,\n",
       "  600,\n",
       "  600,\n",
       "  600,\n",
       "  600,\n",
       "  600,\n",
       "  600,\n",
       "  600])"
      ]
     },
     "execution_count": 14,
     "metadata": {},
     "output_type": "execute_result"
    }
   ],
   "source": [
    "actual_div_growth_cnt, actual_div_growth_list = getActualDivGrowth(df_f.DPS.to_list())\n",
    "actual_div_growth_cnt, actual_div_growth_list"
   ]
  },
  {
   "cell_type": "code",
   "execution_count": 15,
   "id": "f75f9772",
   "metadata": {},
   "outputs": [
    {
     "data": {
      "image/png": "[encoded data removed]",
      "text/plain": [
       "<Figure size 432x288 with 1 Axes>"
      ]
     },
     "metadata": {
      "needs_background": "light"
     },
     "output_type": "display_data"
    }
   ],
   "source": [
    "plt.plot(actual_div_growth_list)\n",
    "plt.show()"
   ]
  },
  {
   "cell_type": "code",
   "execution_count": null,
   "id": "03728c54",
   "metadata": {},
   "outputs": [],
   "source": []
  },
  {
   "cell_type": "code",
   "execution_count": null,
   "id": "e8f9f044",
   "metadata": {},
   "outputs": [],
   "source": []
  },
  {
   "cell_type": "code",
   "execution_count": 16,
   "id": "4f05be60",
   "metadata": {},
   "outputs": [
    {
     "data": {
      "image/png": "[encoded data removed]",
      "text/plain": [
       "<Figure size 432x288 with 1 Axes>"
      ]
     },
     "metadata": {
      "needs_background": "light"
     },
     "output_type": "display_data"
    }
   ],
   "source": [
    "div_yields = savgol_filter(df_f.DIV, 51, 3)\n",
    "\n",
    "plt.title(f'{name} - 시가배당률')\n",
    "plt.plot(df_f.index.to_list(), div_yields)\n",
    "plt.show()"
   ]
  },
  {
   "cell_type": "code",
   "execution_count": null,
   "id": "1f67dd44",
   "metadata": {},
   "outputs": [],
   "source": []
  },
  {
   "cell_type": "code",
   "execution_count": 17,
   "id": "9506fb18",
   "metadata": {},
   "outputs": [
    {
     "data": {
      "text/html": [
       "<div>\n",
       "<style scoped>\n",
       "    .dataframe tbody tr th:only-of-type {\n",
       "        vertical-align: middle;\n",
       "    }\n",
       "\n",
       "    .dataframe tbody tr th {\n",
       "        vertical-align: top;\n",
       "    }\n",
       "\n",
       "    .dataframe thead th {\n",
       "        text-align: right;\n",
       "    }\n",
       "</style>\n",
       "<table border=\"1\" class=\"dataframe\">\n",
       "  <thead>\n",
       "    <tr style=\"text-align: right;\">\n",
       "      <th></th>\n",
       "      <th>시가</th>\n",
       "      <th>고가</th>\n",
       "      <th>저가</th>\n",
       "      <th>종가</th>\n",
       "      <th>거래량</th>\n",
       "    </tr>\n",
       "    <tr>\n",
       "      <th>날짜</th>\n",
       "      <th></th>\n",
       "      <th></th>\n",
       "      <th></th>\n",
       "      <th></th>\n",
       "      <th></th>\n",
       "    </tr>\n",
       "  </thead>\n",
       "  <tbody>\n",
       "    <tr>\n",
       "      <th>2015-05-04</th>\n",
       "      <td>23198</td>\n",
       "      <td>23198</td>\n",
       "      <td>22088</td>\n",
       "      <td>22571</td>\n",
       "      <td>148401</td>\n",
       "    </tr>\n",
       "    <tr>\n",
       "      <th>2015-05-06</th>\n",
       "      <td>22571</td>\n",
       "      <td>22571</td>\n",
       "      <td>21896</td>\n",
       "      <td>22089</td>\n",
       "      <td>146525</td>\n",
       "    </tr>\n",
       "    <tr>\n",
       "      <th>2015-05-07</th>\n",
       "      <td>21896</td>\n",
       "      <td>22426</td>\n",
       "      <td>21510</td>\n",
       "      <td>22427</td>\n",
       "      <td>80906</td>\n",
       "    </tr>\n",
       "    <tr>\n",
       "      <th>2015-05-08</th>\n",
       "      <td>22474</td>\n",
       "      <td>22860</td>\n",
       "      <td>21992</td>\n",
       "      <td>22427</td>\n",
       "      <td>155341</td>\n",
       "    </tr>\n",
       "    <tr>\n",
       "      <th>2015-05-11</th>\n",
       "      <td>22571</td>\n",
       "      <td>22764</td>\n",
       "      <td>22330</td>\n",
       "      <td>22716</td>\n",
       "      <td>93507</td>\n",
       "    </tr>\n",
       "    <tr>\n",
       "      <th>...</th>\n",
       "      <td>...</td>\n",
       "      <td>...</td>\n",
       "      <td>...</td>\n",
       "      <td>...</td>\n",
       "      <td>...</td>\n",
       "    </tr>\n",
       "    <tr>\n",
       "      <th>2023-02-16</th>\n",
       "      <td>12490</td>\n",
       "      <td>12620</td>\n",
       "      <td>12410</td>\n",
       "      <td>12550</td>\n",
       "      <td>124230</td>\n",
       "    </tr>\n",
       "    <tr>\n",
       "      <th>2023-02-17</th>\n",
       "      <td>12500</td>\n",
       "      <td>12640</td>\n",
       "      <td>12430</td>\n",
       "      <td>12560</td>\n",
       "      <td>46509</td>\n",
       "    </tr>\n",
       "    <tr>\n",
       "      <th>2023-02-20</th>\n",
       "      <td>12560</td>\n",
       "      <td>12680</td>\n",
       "      <td>12520</td>\n",
       "      <td>12650</td>\n",
       "      <td>61562</td>\n",
       "    </tr>\n",
       "    <tr>\n",
       "      <th>2023-02-21</th>\n",
       "      <td>12620</td>\n",
       "      <td>12740</td>\n",
       "      <td>12600</td>\n",
       "      <td>12640</td>\n",
       "      <td>56136</td>\n",
       "    </tr>\n",
       "    <tr>\n",
       "      <th>2023-02-22</th>\n",
       "      <td>12620</td>\n",
       "      <td>12650</td>\n",
       "      <td>12540</td>\n",
       "      <td>12570</td>\n",
       "      <td>78331</td>\n",
       "    </tr>\n",
       "  </tbody>\n",
       "</table>\n",
       "<p>1923 rows × 5 columns</p>\n",
       "</div>"
      ],
      "text/plain": [
       "               시가     고가     저가     종가     거래량\n",
       "날짜                                            \n",
       "2015-05-04  23198  23198  22088  22571  148401\n",
       "2015-05-06  22571  22571  21896  22089  146525\n",
       "2015-05-07  21896  22426  21510  22427   80906\n",
       "2015-05-08  22474  22860  21992  22427  155341\n",
       "2015-05-11  22571  22764  22330  22716   93507\n",
       "...           ...    ...    ...    ...     ...\n",
       "2023-02-16  12490  12620  12410  12550  124230\n",
       "2023-02-17  12500  12640  12430  12560   46509\n",
       "2023-02-20  12560  12680  12520  12650   61562\n",
       "2023-02-21  12620  12740  12600  12640   56136\n",
       "2023-02-22  12620  12650  12540  12570   78331\n",
       "\n",
       "[1923 rows x 5 columns]"
      ]
     },
     "execution_count": 17,
     "metadata": {},
     "output_type": "execute_result"
    }
   ],
   "source": [
    "df_p = stock.get_market_ohlcv(start_date, end_date, code)\n",
    "df_p"
   ]
  },
  {
   "cell_type": "code",
   "execution_count": 18,
   "id": "2dbb43f7",
   "metadata": {},
   "outputs": [
    {
     "data": {
      "image/png": "[encoded data removed]",
      "text/plain": [
       "<Figure size 432x288 with 1 Axes>"
      ]
     },
     "metadata": {
      "needs_background": "light"
     },
     "output_type": "display_data"
    }
   ],
   "source": [
    "close_prices = savgol_filter(df_p.종가, 51, 3)\n",
    "\n",
    "plt.title(f'{name} - 주가')\n",
    "plt.plot(df_f.index.to_list(), close_prices)\n",
    "plt.show()"
   ]
  },
  {
   "cell_type": "code",
   "execution_count": 54,
   "id": "1f5743c2",
   "metadata": {},
   "outputs": [],
   "source": []
  },
  {
   "cell_type": "code",
   "execution_count": 53,
   "id": "b7001b43",
   "metadata": {},
   "outputs": [
    {
     "data": {
      "image/png": "[encoded data removed]",
      "text/plain": [
       "<Figure size 432x288 with 2 Axes>"
      ]
     },
     "metadata": {
      "needs_background": "light"
     },
     "output_type": "display_data"
    }
   ],
   "source": [
    "\"\"\"\n",
    "주가 배당률 그리기\n",
    "\"\"\"\n",
    "fig, ax1 = plt.subplots()\n",
    "\n",
    "color = 'tab:red'\n",
    "ax1.set_xlabel('year')\n",
    "ax1.set_ylabel('price', color=color)\n",
    "ax1.plot(close_prices[div_yields > 0], color=color)\n",
    "ax1.set_xticks([])\n",
    "\n",
    "ax2 = ax1.twinx()\n",
    "\n",
    "color = 'tab:blue'\n",
    "ax2.set_ylabel('dividend yield', color=color)\n",
    "ax2.plot(div_yields[div_yields > 0], color=color)\n",
    "plt.title(f'[{name}] 주가 vs. 배당률')\n",
    "plt.show()"
   ]
  },
  {
   "cell_type": "code",
   "execution_count": 20,
   "id": "104d0a22",
   "metadata": {},
   "outputs": [
    {
     "data": {
      "text/plain": [
       "array([[ 1.        , -0.82027897],\n",
       "       [-0.82027897,  1.        ]])"
      ]
     },
     "execution_count": 20,
     "metadata": {},
     "output_type": "execute_result"
    }
   ],
   "source": [
    "np.corrcoef(div_yields, close_prices)"
   ]
  },
  {
   "cell_type": "markdown",
   "id": "96df1135",
   "metadata": {},
   "source": [
    "\"\"\"\n",
    "매수점수 계산\n",
    "\"\"\""
   ]
  },
  {
   "cell_type": "code",
   "execution_count": 21,
   "id": "68139270",
   "metadata": {},
   "outputs": [
    {
     "data": {
      "text/html": [
       "<div>\n",
       "<style scoped>\n",
       "    .dataframe tbody tr th:only-of-type {\n",
       "        vertical-align: middle;\n",
       "    }\n",
       "\n",
       "    .dataframe tbody tr th {\n",
       "        vertical-align: top;\n",
       "    }\n",
       "\n",
       "    .dataframe thead th {\n",
       "        text-align: right;\n",
       "    }\n",
       "</style>\n",
       "<table border=\"1\" class=\"dataframe\">\n",
       "  <thead>\n",
       "    <tr style=\"text-align: right;\">\n",
       "      <th></th>\n",
       "      <th>BPS</th>\n",
       "      <th>PER</th>\n",
       "      <th>PBR</th>\n",
       "      <th>EPS</th>\n",
       "      <th>DIV</th>\n",
       "      <th>DPS</th>\n",
       "    </tr>\n",
       "    <tr>\n",
       "      <th>날짜</th>\n",
       "      <th></th>\n",
       "      <th></th>\n",
       "      <th></th>\n",
       "      <th></th>\n",
       "      <th></th>\n",
       "      <th></th>\n",
       "    </tr>\n",
       "  </thead>\n",
       "  <tbody>\n",
       "    <tr>\n",
       "      <th>2023-02-22</th>\n",
       "      <td>28568</td>\n",
       "      <td>21.86</td>\n",
       "      <td>0.44</td>\n",
       "      <td>575</td>\n",
       "      <td>4.77</td>\n",
       "      <td>600</td>\n",
       "    </tr>\n",
       "  </tbody>\n",
       "</table>\n",
       "</div>"
      ],
      "text/plain": [
       "              BPS    PER   PBR  EPS   DIV  DPS\n",
       "날짜                                            \n",
       "2023-02-22  28568  21.86  0.44  575  4.77  600"
      ]
     },
     "execution_count": 21,
     "metadata": {},
     "output_type": "execute_result"
    }
   ],
   "source": [
    "df_cur_f = stock.get_market_fundamental('20230222', '20230222', code)\n",
    "df_cur_f"
   ]
  },
  {
   "cell_type": "code",
   "execution_count": 22,
   "id": "23eb4216",
   "metadata": {},
   "outputs": [
    {
     "data": {
      "text/plain": [
       "4.77"
      ]
     },
     "execution_count": 22,
     "metadata": {},
     "output_type": "execute_result"
    }
   ],
   "source": [
    "cur_div = df_cur_f.DIV[0]\n",
    "cur_div"
   ]
  },
  {
   "cell_type": "code",
   "execution_count": 58,
   "id": "c7b60f67",
   "metadata": {},
   "outputs": [
    {
     "name": "stdout",
     "output_type": "stream",
     "text": [
      "4.769999980926514 \n"
     ]
    }
   ],
   "source": [
    "print(f'{cur_div, 2)} ')"
   ]
  },
  {
   "cell_type": "code",
   "execution_count": 23,
   "id": "76819ead",
   "metadata": {},
   "outputs": [],
   "source": [
    "def get_percentage(input, min, max):\n",
    "    return round((input - min) / (max - min) * 100)\n",
    "\n",
    "def calculate_buy_score(current_div_yield, div_min, div_max):\n",
    "    buy_score = get_percentage(current_div_yield, div_min, div_max)\n",
    "    return buy_score"
   ]
  },
  {
   "cell_type": "code",
   "execution_count": 50,
   "id": "c29c48e4",
   "metadata": {},
   "outputs": [],
   "source": []
  },
  {
   "cell_type": "code",
   "execution_count": 51,
   "id": "692c82bf",
   "metadata": {},
   "outputs": [
    {
     "data": {
      "text/plain": [
       "2.01"
      ]
     },
     "execution_count": 51,
     "metadata": {},
     "output_type": "execute_result"
    }
   ],
   "source": [
    "div_min = round(min(div_yields_without_zero_filtered), 2)\n",
    "div_min"
   ]
  },
  {
   "cell_type": "code",
   "execution_count": 52,
   "id": "5c5294ca",
   "metadata": {},
   "outputs": [
    {
     "data": {
      "text/plain": [
       "5.89"
      ]
     },
     "execution_count": 52,
     "metadata": {},
     "output_type": "execute_result"
    }
   ],
   "source": [
    "div_max = round(max(div_yields_without_zero_filtered), 2)\n",
    "div_max"
   ]
  },
  {
   "cell_type": "code",
   "execution_count": 49,
   "id": "cedf033a",
   "metadata": {},
   "outputs": [
    {
     "data": {
      "text/plain": [
       "71"
      ]
     },
     "execution_count": 49,
     "metadata": {},
     "output_type": "execute_result"
    }
   ],
   "source": [
    "calculate_buy_score(cur_div, div_min, div_max)"
   ]
  },
  {
   "cell_type": "code",
   "execution_count": 36,
   "id": "9998fb4e",
   "metadata": {},
   "outputs": [
    {
     "data": {
      "text/plain": [
       "1.9299999475479126"
      ]
     },
     "execution_count": 36,
     "metadata": {},
     "output_type": "execute_result"
    }
   ],
   "source": [
    "div_min = min(df_f.DIV[df_f.DIV > 0])\n",
    "div_min"
   ]
  },
  {
   "cell_type": "code",
   "execution_count": 38,
   "id": "66e42fea",
   "metadata": {},
   "outputs": [
    {
     "data": {
      "text/plain": [
       "7.130000114440918"
      ]
     },
     "execution_count": 38,
     "metadata": {},
     "output_type": "execute_result"
    }
   ],
   "source": [
    "div_max = max(df_f.DIV)\n",
    "div_max"
   ]
  },
  {
   "cell_type": "code",
   "execution_count": 30,
   "id": "dcb4ecdc",
   "metadata": {},
   "outputs": [
    {
     "data": {
      "text/plain": [
       "600"
      ]
     },
     "execution_count": 30,
     "metadata": {},
     "output_type": "execute_result"
    }
   ],
   "source": [
    "df_cur_f.DPS[0]"
   ]
  },
  {
   "cell_type": "code",
   "execution_count": 32,
   "id": "98a7d330",
   "metadata": {},
   "outputs": [
    {
     "data": {
      "text/plain": [
       "31088.083746442946"
      ]
     },
     "execution_count": 32,
     "metadata": {},
     "output_type": "execute_result"
    }
   ],
   "source": [
    "target_price = df_cur_f.DPS[0]/min(df_f.DIV[df_f.DIV > 0]) * 100\n",
    "target_price"
   ]
  },
  {
   "cell_type": "code",
   "execution_count": 33,
   "id": "513e0fa7",
   "metadata": {},
   "outputs": [
    {
     "data": {
      "text/plain": [
       "0.019299999475479127"
      ]
     },
     "execution_count": 33,
     "metadata": {},
     "output_type": "execute_result"
    }
   ],
   "source": [
    "\"\"\"역산\"\"\"\n",
    "df_cur_f.DPS[0]/target_price"
   ]
  },
  {
   "cell_type": "code",
   "execution_count": null,
   "id": "02692966",
   "metadata": {},
   "outputs": [],
   "source": []
  },
  {
   "cell_type": "code",
   "execution_count": 34,
   "id": "4db2e4cf",
   "metadata": {},
   "outputs": [
    {
     "data": {
      "text/plain": [
       "8415.147130008812"
      ]
     },
     "execution_count": 34,
     "metadata": {},
     "output_type": "execute_result"
    }
   ],
   "source": [
    "buy_price = df_cur_f.DPS[0]/max(df_f.DIV) * 100\n",
    "buy_price"
   ]
  },
  {
   "cell_type": "code",
   "execution_count": 39,
   "id": "fef5b613",
   "metadata": {},
   "outputs": [
    {
     "data": {
      "text/plain": [
       "55"
      ]
     },
     "execution_count": 39,
     "metadata": {},
     "output_type": "execute_result"
    }
   ],
   "source": [
    "calculate_buy_score(df_cur_f.DIV[0], div_min, div_max)"
   ]
  },
  {
   "cell_type": "markdown",
   "id": "a8ea324e",
   "metadata": {},
   "source": [
    "\"\"\"\n",
    "로우 패스 필터\n",
    "\"\"\""
   ]
  },
  {
   "cell_type": "code",
   "execution_count": null,
   "id": "5d06b667",
   "metadata": {},
   "outputs": [],
   "source": [
    "div_yields = savgol_filter(df_f.DIV, 51, 3)"
   ]
  },
  {
   "cell_type": "code",
   "execution_count": null,
   "id": "e65afdba",
   "metadata": {},
   "outputs": [],
   "source": [
    "min(div_yields)"
   ]
  },
  {
   "cell_type": "code",
   "execution_count": null,
   "id": "97f0dd1d",
   "metadata": {},
   "outputs": [],
   "source": [
    "\"\"\"\n",
    "주가 배당률 그리기\n",
    "\"\"\"\n",
    "fig, ax1 = plt.subplots()\n",
    "\n",
    "color = 'tab:red'\n",
    "ax1.set_xlabel('year')\n",
    "ax1.set_ylabel('price', color=color)\n",
    "ax1.plot(df_p['종가'], color=color)\n",
    "\n",
    "ax2 = ax1.twinx()\n",
    "\n",
    "color = 'tab:blue'\n",
    "ax2.set_ylabel('dividend yield', color=color)\n",
    "ax2.plot(df_f['DIV'], color=color)\n",
    "plt.show()"
   ]
  },
  {
   "cell_type": "code",
   "execution_count": null,
   "id": "31d75650",
   "metadata": {},
   "outputs": [],
   "source": []
  },
  {
   "cell_type": "code",
   "execution_count": null,
   "id": "be247a17",
   "metadata": {},
   "outputs": [],
   "source": [
    "df_cur_f = stock.get_market_fundamental('20230214', '20230214', code)\n",
    "df_cur_f"
   ]
  },
  {
   "cell_type": "code",
   "execution_count": null,
   "id": "b62031a1",
   "metadata": {},
   "outputs": [],
   "source": [
    "df_cur_p = stock.get_market_ohlcv('20230214', '20230214', code)\n",
    "df_cur_p"
   ]
  },
  {
   "cell_type": "code",
   "execution_count": null,
   "id": "ec92fa4e",
   "metadata": {},
   "outputs": [],
   "source": [
    "cur_price = df_cur_p.종가[0]\n",
    "cur_price"
   ]
  },
  {
   "cell_type": "code",
   "execution_count": null,
   "id": "00ab4027",
   "metadata": {},
   "outputs": [],
   "source": []
  },
  {
   "cell_type": "code",
   "execution_count": null,
   "id": "85448387",
   "metadata": {},
   "outputs": [],
   "source": [
    "div_min = min(div_yields)\n",
    "div_min"
   ]
  },
  {
   "cell_type": "code",
   "execution_count": null,
   "id": "4e55df3f",
   "metadata": {},
   "outputs": [],
   "source": [
    "div_max = max(div_yields)\n",
    "div_max"
   ]
  },
  {
   "cell_type": "code",
   "execution_count": null,
   "id": "5883c75a",
   "metadata": {},
   "outputs": [],
   "source": [
    "cur_dps = df_cur_f.DPS[0]\n",
    "cur_dps"
   ]
  },
  {
   "cell_type": "code",
   "execution_count": null,
   "id": "9e2fb7bd",
   "metadata": {},
   "outputs": [],
   "source": [
    "target_price = cur_dps/div_min * 100\n",
    "target_price"
   ]
  },
  {
   "cell_type": "code",
   "execution_count": null,
   "id": "667d7a4e",
   "metadata": {},
   "outputs": [],
   "source": [
    "buy_price = cur_div/div_max * 100\n",
    "buy_price"
   ]
  },
  {
   "cell_type": "code",
   "execution_count": null,
   "id": "376114de",
   "metadata": {},
   "outputs": [],
   "source": []
  },
  {
   "cell_type": "code",
   "execution_count": null,
   "id": "bcaf568c",
   "metadata": {},
   "outputs": [],
   "source": [
    "calculate_buy_score(df_cur_f.DIV[0], div_min, div_max)"
   ]
  },
  {
   "cell_type": "code",
   "execution_count": null,
   "id": "6db4d56a",
   "metadata": {},
   "outputs": [],
   "source": []
  },
  {
   "cell_type": "code",
   "execution_count": null,
   "id": "00b14652",
   "metadata": {},
   "outputs": [],
   "source": [
    "day = stock.get_nearest_business_day_in_a_week('20220610')\n",
    "day"
   ]
  },
  {
   "cell_type": "code",
   "execution_count": null,
   "id": "d507de50",
   "metadata": {},
   "outputs": [],
   "source": [
    "\"\"\"\n",
    "분석 기간\n",
    "\"\"\"\n",
    "start_year = '2012'\n",
    "end_year = '2021'\n",
    "\n",
    "\"\"\"\n",
    "NH 투자증권\n",
    "\"\"\"\n",
    "code = '005940'\n"
   ]
  },
  {
   "cell_type": "code",
   "execution_count": null,
   "id": "5688ac69",
   "metadata": {},
   "outputs": [],
   "source": [
    "\"\"\"\n",
    "매년 5월 31에 제일 가까운 영업일의 배당금 가져 오기\n",
    "\"\"\"\n",
    "dps_list = []\n",
    "for year in range(int(start_year)+1, int(end_year)+2):\n",
    "    #print(year)\n",
    "    last_business_day_of_may = stock.get_nearest_business_day_in_a_week(str(year)+'0531')\n",
    "    print(last_business_day_of_may)\n",
    "    df_annual_f = stock.get_market_fundamental(last_business_day_of_may, last_business_day_of_may, code)\n",
    "    display(df_annual_f)\n",
    "    dps_list.append(df_annual_f.DPS.values[0])\n",
    "    time.sleep(1)"
   ]
  },
  {
   "cell_type": "code",
   "execution_count": null,
   "id": "fd6c3146",
   "metadata": {},
   "outputs": [],
   "source": [
    "dps_list"
   ]
  },
  {
   "cell_type": "code",
   "execution_count": null,
   "id": "af784f54",
   "metadata": {},
   "outputs": [],
   "source": [
    "def getAnnualDPS(start_year, end_year):\n",
    "    dps_list = []\n",
    "    for year in range(int(start_year)+1, int(end_year)+2):\n",
    "        #print(year)\n",
    "        last_business_day_of_may = stock.get_nearest_business_day_in_a_week(str(year)+'0531')\n",
    "        #print(last_business_day_of_may)\n",
    "        df_annual_f = stock.get_market_fundamental(last_business_day_of_may, last_business_day_of_may, code)\n",
    "        #display(df_annual_f)\n",
    "        dps_list.append(df_annual_f.DPS.values[0])\n",
    "        time.sleep(1)\n",
    "    return dps_list"
   ]
  },
  {
   "cell_type": "code",
   "execution_count": null,
   "id": "700137f5",
   "metadata": {},
   "outputs": [],
   "source": [
    "annual_dps_list = getAnnualDPS(start_year, end_year)\n",
    "annual_dps_list"
   ]
  },
  {
   "cell_type": "code",
   "execution_count": null,
   "id": "c4ea7257",
   "metadata": {},
   "outputs": [],
   "source": [
    "years = range(int(start_year), int(end_year)+1)\n",
    "years"
   ]
  },
  {
   "cell_type": "code",
   "execution_count": null,
   "id": "d3de3fe3",
   "metadata": {
    "scrolled": true
   },
   "outputs": [],
   "source": [
    "plt.bar(years, annual_dps_list)\n",
    "plt.show()"
   ]
  },
  {
   "cell_type": "code",
   "execution_count": null,
   "id": "d9016526",
   "metadata": {},
   "outputs": [],
   "source": [
    "def getActualDivGrowth(divs):\n",
    "    div_history = divs.copy()\n",
    "    div_history.reverse()\n",
    "    div_growth_list = []\n",
    "    for div_cur, div_before in zip(div_history, div_history[1:]):\n",
    "        print(f'div_cur = {div_cur}, div_before = {div_before}')\n",
    "        if div_before == 0:\n",
    "            #print('div_before is 0')\n",
    "            break;\n",
    "\n",
    "        if div_cur >= div_before:\n",
    "            div_growth_list.append(div_cur)\n",
    "        else:\n",
    "            #print('div_before is more than div cur')\n",
    "            div_growth_list.append(div_cur)            \n",
    "            break\n",
    "\n",
    "    div_growth_list.reverse()\n",
    "    return len(div_growth_list) - 1, div_growth_list"
   ]
  },
  {
   "cell_type": "code",
   "execution_count": null,
   "id": "5419094e",
   "metadata": {},
   "outputs": [],
   "source": [
    "actual_div_growth_cnt, actual_div_growth_list = getActualDivGrowth(dps_list)\n",
    "actual_div_growth_cnt, actual_div_growth_list"
   ]
  },
  {
   "cell_type": "code",
   "execution_count": null,
   "id": "83ee68d7",
   "metadata": {},
   "outputs": [],
   "source": [
    "getCAGR(actual_div_growth_list)"
   ]
  },
  {
   "cell_type": "code",
   "execution_count": null,
   "id": "17570d3f",
   "metadata": {},
   "outputs": [],
   "source": []
  }
 ],
 "metadata": {
  "kernelspec": {
   "display_name": "Python 3 (ipykernel)",
   "language": "python",
   "name": "python3"
  },
  "language_info": {
   "codemirror_mode": {
    "name": "ipython",
    "version": 3
   },
   "file_extension": ".py",
   "mimetype": "text/x-python",
   "name": "python",
   "nbconvert_exporter": "python",
   "pygments_lexer": "ipython3",
   "version": "3.9.12"
  }
 },
 "nbformat": 4,
 "nbformat_minor": 5
}
