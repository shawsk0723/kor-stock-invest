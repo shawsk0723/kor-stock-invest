{
 "cells": [
  {
   "cell_type": "code",
   "execution_count": 1,
   "id": "368c49c4",
   "metadata": {},
   "outputs": [],
   "source": [
    "import numpy as np\n",
    "import pandas as pd\n",
    "from scipy.signal import savgol_filter\n",
    "from pykrx import stock\n",
    "import matplotlib.pyplot as plt\n",
    "import time\n",
    "plt.rcParams['font.family'] = 'Malgun Gothic'"
   ]
  },
  {
   "cell_type": "code",
   "execution_count": 2,
   "id": "a8180ffd",
   "metadata": {},
   "outputs": [],
   "source": [
    "\"\"\"\n",
    "분석 기간\n",
    "\"\"\"\n",
    "start_year = '2012'\n",
    "end_year = '2021'"
   ]
  },
  {
   "cell_type": "code",
   "execution_count": 3,
   "id": "98745d8f",
   "metadata": {},
   "outputs": [],
   "source": [
    "\"\"\"\n",
    "삼성증권\n",
    "\"\"\"\n",
    "code = '016360'"
   ]
  },
  {
   "cell_type": "code",
   "execution_count": 4,
   "id": "1132daaf",
   "metadata": {
    "scrolled": true
   },
   "outputs": [
    {
     "name": "stdout",
     "output_type": "stream",
     "text": [
      "20130531\n"
     ]
    },
    {
     "data": {
      "text/html": [
       "<div>\n",
       "<style scoped>\n",
       "    .dataframe tbody tr th:only-of-type {\n",
       "        vertical-align: middle;\n",
       "    }\n",
       "\n",
       "    .dataframe tbody tr th {\n",
       "        vertical-align: top;\n",
       "    }\n",
       "\n",
       "    .dataframe thead th {\n",
       "        text-align: right;\n",
       "    }\n",
       "</style>\n",
       "<table border=\"1\" class=\"dataframe\">\n",
       "  <thead>\n",
       "    <tr style=\"text-align: right;\">\n",
       "      <th></th>\n",
       "      <th>BPS</th>\n",
       "      <th>PER</th>\n",
       "      <th>PBR</th>\n",
       "      <th>EPS</th>\n",
       "      <th>DIV</th>\n",
       "      <th>DPS</th>\n",
       "    </tr>\n",
       "    <tr>\n",
       "      <th>날짜</th>\n",
       "      <th></th>\n",
       "      <th></th>\n",
       "      <th></th>\n",
       "      <th></th>\n",
       "      <th></th>\n",
       "      <th></th>\n",
       "    </tr>\n",
       "  </thead>\n",
       "  <tbody>\n",
       "    <tr>\n",
       "      <th>2013-05-31</th>\n",
       "      <td>42473</td>\n",
       "      <td>20.31</td>\n",
       "      <td>1.21</td>\n",
       "      <td>2521</td>\n",
       "      <td>1.37</td>\n",
       "      <td>700</td>\n",
       "    </tr>\n",
       "  </tbody>\n",
       "</table>\n",
       "</div>"
      ],
      "text/plain": [
       "              BPS    PER   PBR   EPS   DIV  DPS\n",
       "날짜                                             \n",
       "2013-05-31  42473  20.31  1.21  2521  1.37  700"
      ]
     },
     "metadata": {},
     "output_type": "display_data"
    },
    {
     "name": "stdout",
     "output_type": "stream",
     "text": [
      "20140530\n"
     ]
    },
    {
     "data": {
      "text/html": [
       "<div>\n",
       "<style scoped>\n",
       "    .dataframe tbody tr th:only-of-type {\n",
       "        vertical-align: middle;\n",
       "    }\n",
       "\n",
       "    .dataframe tbody tr th {\n",
       "        vertical-align: top;\n",
       "    }\n",
       "\n",
       "    .dataframe thead th {\n",
       "        text-align: right;\n",
       "    }\n",
       "</style>\n",
       "<table border=\"1\" class=\"dataframe\">\n",
       "  <thead>\n",
       "    <tr style=\"text-align: right;\">\n",
       "      <th></th>\n",
       "      <th>BPS</th>\n",
       "      <th>PER</th>\n",
       "      <th>PBR</th>\n",
       "      <th>EPS</th>\n",
       "      <th>DIV</th>\n",
       "      <th>DPS</th>\n",
       "    </tr>\n",
       "    <tr>\n",
       "      <th>날짜</th>\n",
       "      <th></th>\n",
       "      <th></th>\n",
       "      <th></th>\n",
       "      <th></th>\n",
       "      <th></th>\n",
       "      <th></th>\n",
       "    </tr>\n",
       "  </thead>\n",
       "  <tbody>\n",
       "    <tr>\n",
       "      <th>2014-05-30</th>\n",
       "      <td>43119</td>\n",
       "      <td>277.36</td>\n",
       "      <td>0.95</td>\n",
       "      <td>148</td>\n",
       "      <td>0.24</td>\n",
       "      <td>100</td>\n",
       "    </tr>\n",
       "  </tbody>\n",
       "</table>\n",
       "</div>"
      ],
      "text/plain": [
       "              BPS     PER   PBR  EPS   DIV  DPS\n",
       "날짜                                             \n",
       "2014-05-30  43119  277.36  0.95  148  0.24  100"
      ]
     },
     "metadata": {},
     "output_type": "display_data"
    },
    {
     "name": "stdout",
     "output_type": "stream",
     "text": [
      "20150529\n"
     ]
    },
    {
     "data": {
      "text/html": [
       "<div>\n",
       "<style scoped>\n",
       "    .dataframe tbody tr th:only-of-type {\n",
       "        vertical-align: middle;\n",
       "    }\n",
       "\n",
       "    .dataframe tbody tr th {\n",
       "        vertical-align: top;\n",
       "    }\n",
       "\n",
       "    .dataframe thead th {\n",
       "        text-align: right;\n",
       "    }\n",
       "</style>\n",
       "<table border=\"1\" class=\"dataframe\">\n",
       "  <thead>\n",
       "    <tr style=\"text-align: right;\">\n",
       "      <th></th>\n",
       "      <th>BPS</th>\n",
       "      <th>PER</th>\n",
       "      <th>PBR</th>\n",
       "      <th>EPS</th>\n",
       "      <th>DIV</th>\n",
       "      <th>DPS</th>\n",
       "    </tr>\n",
       "    <tr>\n",
       "      <th>날짜</th>\n",
       "      <th></th>\n",
       "      <th></th>\n",
       "      <th></th>\n",
       "      <th></th>\n",
       "      <th></th>\n",
       "      <th></th>\n",
       "    </tr>\n",
       "  </thead>\n",
       "  <tbody>\n",
       "    <tr>\n",
       "      <th>2015-05-29</th>\n",
       "      <td>44832</td>\n",
       "      <td>18.9</td>\n",
       "      <td>1.3</td>\n",
       "      <td>3090</td>\n",
       "      <td>1.11</td>\n",
       "      <td>650</td>\n",
       "    </tr>\n",
       "  </tbody>\n",
       "</table>\n",
       "</div>"
      ],
      "text/plain": [
       "              BPS   PER  PBR   EPS   DIV  DPS\n",
       "날짜                                           \n",
       "2015-05-29  44832  18.9  1.3  3090  1.11  650"
      ]
     },
     "metadata": {},
     "output_type": "display_data"
    },
    {
     "name": "stdout",
     "output_type": "stream",
     "text": [
      "20160531\n"
     ]
    },
    {
     "data": {
      "text/html": [
       "<div>\n",
       "<style scoped>\n",
       "    .dataframe tbody tr th:only-of-type {\n",
       "        vertical-align: middle;\n",
       "    }\n",
       "\n",
       "    .dataframe tbody tr th {\n",
       "        vertical-align: top;\n",
       "    }\n",
       "\n",
       "    .dataframe thead th {\n",
       "        text-align: right;\n",
       "    }\n",
       "</style>\n",
       "<table border=\"1\" class=\"dataframe\">\n",
       "  <thead>\n",
       "    <tr style=\"text-align: right;\">\n",
       "      <th></th>\n",
       "      <th>BPS</th>\n",
       "      <th>PER</th>\n",
       "      <th>PBR</th>\n",
       "      <th>EPS</th>\n",
       "      <th>DIV</th>\n",
       "      <th>DPS</th>\n",
       "    </tr>\n",
       "    <tr>\n",
       "      <th>날짜</th>\n",
       "      <th></th>\n",
       "      <th></th>\n",
       "      <th></th>\n",
       "      <th></th>\n",
       "      <th></th>\n",
       "      <th></th>\n",
       "    </tr>\n",
       "  </thead>\n",
       "  <tbody>\n",
       "    <tr>\n",
       "      <th>2016-05-31</th>\n",
       "      <td>46102</td>\n",
       "      <td>9.33</td>\n",
       "      <td>0.77</td>\n",
       "      <td>3821</td>\n",
       "      <td>2.81</td>\n",
       "      <td>1000</td>\n",
       "    </tr>\n",
       "  </tbody>\n",
       "</table>\n",
       "</div>"
      ],
      "text/plain": [
       "              BPS   PER   PBR   EPS   DIV   DPS\n",
       "날짜                                             \n",
       "2016-05-31  46102  9.33  0.77  3821  2.81  1000"
      ]
     },
     "metadata": {},
     "output_type": "display_data"
    },
    {
     "name": "stdout",
     "output_type": "stream",
     "text": [
      "20170531\n"
     ]
    },
    {
     "data": {
      "text/html": [
       "<div>\n",
       "<style scoped>\n",
       "    .dataframe tbody tr th:only-of-type {\n",
       "        vertical-align: middle;\n",
       "    }\n",
       "\n",
       "    .dataframe tbody tr th {\n",
       "        vertical-align: top;\n",
       "    }\n",
       "\n",
       "    .dataframe thead th {\n",
       "        text-align: right;\n",
       "    }\n",
       "</style>\n",
       "<table border=\"1\" class=\"dataframe\">\n",
       "  <thead>\n",
       "    <tr style=\"text-align: right;\">\n",
       "      <th></th>\n",
       "      <th>BPS</th>\n",
       "      <th>PER</th>\n",
       "      <th>PBR</th>\n",
       "      <th>EPS</th>\n",
       "      <th>DIV</th>\n",
       "      <th>DPS</th>\n",
       "    </tr>\n",
       "    <tr>\n",
       "      <th>날짜</th>\n",
       "      <th></th>\n",
       "      <th></th>\n",
       "      <th></th>\n",
       "      <th></th>\n",
       "      <th></th>\n",
       "      <th></th>\n",
       "    </tr>\n",
       "  </thead>\n",
       "  <tbody>\n",
       "    <tr>\n",
       "      <th>2017-05-31</th>\n",
       "      <td>48564</td>\n",
       "      <td>16.35</td>\n",
       "      <td>0.83</td>\n",
       "      <td>2455</td>\n",
       "      <td>1.62</td>\n",
       "      <td>650</td>\n",
       "    </tr>\n",
       "  </tbody>\n",
       "</table>\n",
       "</div>"
      ],
      "text/plain": [
       "              BPS    PER   PBR   EPS   DIV  DPS\n",
       "날짜                                             \n",
       "2017-05-31  48564  16.35  0.83  2455  1.62  650"
      ]
     },
     "metadata": {},
     "output_type": "display_data"
    },
    {
     "name": "stdout",
     "output_type": "stream",
     "text": [
      "20180531\n"
     ]
    },
    {
     "data": {
      "text/html": [
       "<div>\n",
       "<style scoped>\n",
       "    .dataframe tbody tr th:only-of-type {\n",
       "        vertical-align: middle;\n",
       "    }\n",
       "\n",
       "    .dataframe tbody tr th {\n",
       "        vertical-align: top;\n",
       "    }\n",
       "\n",
       "    .dataframe thead th {\n",
       "        text-align: right;\n",
       "    }\n",
       "</style>\n",
       "<table border=\"1\" class=\"dataframe\">\n",
       "  <thead>\n",
       "    <tr style=\"text-align: right;\">\n",
       "      <th></th>\n",
       "      <th>BPS</th>\n",
       "      <th>PER</th>\n",
       "      <th>PBR</th>\n",
       "      <th>EPS</th>\n",
       "      <th>DIV</th>\n",
       "      <th>DPS</th>\n",
       "    </tr>\n",
       "    <tr>\n",
       "      <th>날짜</th>\n",
       "      <th></th>\n",
       "      <th></th>\n",
       "      <th></th>\n",
       "      <th></th>\n",
       "      <th></th>\n",
       "      <th></th>\n",
       "    </tr>\n",
       "  </thead>\n",
       "  <tbody>\n",
       "    <tr>\n",
       "      <th>2018-05-31</th>\n",
       "      <td>49380</td>\n",
       "      <td>11.77</td>\n",
       "      <td>0.75</td>\n",
       "      <td>3135</td>\n",
       "      <td>2.71</td>\n",
       "      <td>1000</td>\n",
       "    </tr>\n",
       "  </tbody>\n",
       "</table>\n",
       "</div>"
      ],
      "text/plain": [
       "              BPS    PER   PBR   EPS   DIV   DPS\n",
       "날짜                                              \n",
       "2018-05-31  49380  11.77  0.75  3135  2.71  1000"
      ]
     },
     "metadata": {},
     "output_type": "display_data"
    },
    {
     "name": "stdout",
     "output_type": "stream",
     "text": [
      "20190531\n"
     ]
    },
    {
     "data": {
      "text/html": [
       "<div>\n",
       "<style scoped>\n",
       "    .dataframe tbody tr th:only-of-type {\n",
       "        vertical-align: middle;\n",
       "    }\n",
       "\n",
       "    .dataframe tbody tr th {\n",
       "        vertical-align: top;\n",
       "    }\n",
       "\n",
       "    .dataframe thead th {\n",
       "        text-align: right;\n",
       "    }\n",
       "</style>\n",
       "<table border=\"1\" class=\"dataframe\">\n",
       "  <thead>\n",
       "    <tr style=\"text-align: right;\">\n",
       "      <th></th>\n",
       "      <th>BPS</th>\n",
       "      <th>PER</th>\n",
       "      <th>PBR</th>\n",
       "      <th>EPS</th>\n",
       "      <th>DIV</th>\n",
       "      <th>DPS</th>\n",
       "    </tr>\n",
       "    <tr>\n",
       "      <th>날짜</th>\n",
       "      <th></th>\n",
       "      <th></th>\n",
       "      <th></th>\n",
       "      <th></th>\n",
       "      <th></th>\n",
       "      <th></th>\n",
       "    </tr>\n",
       "  </thead>\n",
       "  <tbody>\n",
       "    <tr>\n",
       "      <th>2019-05-31</th>\n",
       "      <td>52207</td>\n",
       "      <td>9.45</td>\n",
       "      <td>0.68</td>\n",
       "      <td>3741</td>\n",
       "      <td>3.96</td>\n",
       "      <td>1400</td>\n",
       "    </tr>\n",
       "  </tbody>\n",
       "</table>\n",
       "</div>"
      ],
      "text/plain": [
       "              BPS   PER   PBR   EPS   DIV   DPS\n",
       "날짜                                             \n",
       "2019-05-31  52207  9.45  0.68  3741  3.96  1400"
      ]
     },
     "metadata": {},
     "output_type": "display_data"
    },
    {
     "name": "stdout",
     "output_type": "stream",
     "text": [
      "20200529\n"
     ]
    },
    {
     "data": {
      "text/html": [
       "<div>\n",
       "<style scoped>\n",
       "    .dataframe tbody tr th:only-of-type {\n",
       "        vertical-align: middle;\n",
       "    }\n",
       "\n",
       "    .dataframe tbody tr th {\n",
       "        vertical-align: top;\n",
       "    }\n",
       "\n",
       "    .dataframe thead th {\n",
       "        text-align: right;\n",
       "    }\n",
       "</style>\n",
       "<table border=\"1\" class=\"dataframe\">\n",
       "  <thead>\n",
       "    <tr style=\"text-align: right;\">\n",
       "      <th></th>\n",
       "      <th>BPS</th>\n",
       "      <th>PER</th>\n",
       "      <th>PBR</th>\n",
       "      <th>EPS</th>\n",
       "      <th>DIV</th>\n",
       "      <th>DPS</th>\n",
       "    </tr>\n",
       "    <tr>\n",
       "      <th>날짜</th>\n",
       "      <th></th>\n",
       "      <th></th>\n",
       "      <th></th>\n",
       "      <th></th>\n",
       "      <th></th>\n",
       "      <th></th>\n",
       "    </tr>\n",
       "  </thead>\n",
       "  <tbody>\n",
       "    <tr>\n",
       "      <th>2020-05-29</th>\n",
       "      <td>55423</td>\n",
       "      <td>6.37</td>\n",
       "      <td>0.5</td>\n",
       "      <td>4388</td>\n",
       "      <td>6.08</td>\n",
       "      <td>1700</td>\n",
       "    </tr>\n",
       "  </tbody>\n",
       "</table>\n",
       "</div>"
      ],
      "text/plain": [
       "              BPS   PER  PBR   EPS   DIV   DPS\n",
       "날짜                                            \n",
       "2020-05-29  55423  6.37  0.5  4388  6.08  1700"
      ]
     },
     "metadata": {},
     "output_type": "display_data"
    },
    {
     "name": "stdout",
     "output_type": "stream",
     "text": [
      "20210531\n"
     ]
    },
    {
     "data": {
      "text/html": [
       "<div>\n",
       "<style scoped>\n",
       "    .dataframe tbody tr th:only-of-type {\n",
       "        vertical-align: middle;\n",
       "    }\n",
       "\n",
       "    .dataframe tbody tr th {\n",
       "        vertical-align: top;\n",
       "    }\n",
       "\n",
       "    .dataframe thead th {\n",
       "        text-align: right;\n",
       "    }\n",
       "</style>\n",
       "<table border=\"1\" class=\"dataframe\">\n",
       "  <thead>\n",
       "    <tr style=\"text-align: right;\">\n",
       "      <th></th>\n",
       "      <th>BPS</th>\n",
       "      <th>PER</th>\n",
       "      <th>PBR</th>\n",
       "      <th>EPS</th>\n",
       "      <th>DIV</th>\n",
       "      <th>DPS</th>\n",
       "    </tr>\n",
       "    <tr>\n",
       "      <th>날짜</th>\n",
       "      <th></th>\n",
       "      <th></th>\n",
       "      <th></th>\n",
       "      <th></th>\n",
       "      <th></th>\n",
       "      <th></th>\n",
       "    </tr>\n",
       "  </thead>\n",
       "  <tbody>\n",
       "    <tr>\n",
       "      <th>2021-05-31</th>\n",
       "      <td>59542</td>\n",
       "      <td>8.35</td>\n",
       "      <td>0.8</td>\n",
       "      <td>5686</td>\n",
       "      <td>4.64</td>\n",
       "      <td>2200</td>\n",
       "    </tr>\n",
       "  </tbody>\n",
       "</table>\n",
       "</div>"
      ],
      "text/plain": [
       "              BPS   PER  PBR   EPS   DIV   DPS\n",
       "날짜                                            \n",
       "2021-05-31  59542  8.35  0.8  5686  4.64  2200"
      ]
     },
     "metadata": {},
     "output_type": "display_data"
    },
    {
     "name": "stdout",
     "output_type": "stream",
     "text": [
      "20220531\n"
     ]
    },
    {
     "data": {
      "text/html": [
       "<div>\n",
       "<style scoped>\n",
       "    .dataframe tbody tr th:only-of-type {\n",
       "        vertical-align: middle;\n",
       "    }\n",
       "\n",
       "    .dataframe tbody tr th {\n",
       "        vertical-align: top;\n",
       "    }\n",
       "\n",
       "    .dataframe thead th {\n",
       "        text-align: right;\n",
       "    }\n",
       "</style>\n",
       "<table border=\"1\" class=\"dataframe\">\n",
       "  <thead>\n",
       "    <tr style=\"text-align: right;\">\n",
       "      <th></th>\n",
       "      <th>BPS</th>\n",
       "      <th>PER</th>\n",
       "      <th>PBR</th>\n",
       "      <th>EPS</th>\n",
       "      <th>DIV</th>\n",
       "      <th>DPS</th>\n",
       "    </tr>\n",
       "    <tr>\n",
       "      <th>날짜</th>\n",
       "      <th></th>\n",
       "      <th></th>\n",
       "      <th></th>\n",
       "      <th></th>\n",
       "      <th></th>\n",
       "      <th></th>\n",
       "    </tr>\n",
       "  </thead>\n",
       "  <tbody>\n",
       "    <tr>\n",
       "      <th>2022-05-31</th>\n",
       "      <td>68096</td>\n",
       "      <td>3.67</td>\n",
       "      <td>0.58</td>\n",
       "      <td>10810</td>\n",
       "      <td>9.58</td>\n",
       "      <td>3800</td>\n",
       "    </tr>\n",
       "  </tbody>\n",
       "</table>\n",
       "</div>"
      ],
      "text/plain": [
       "              BPS   PER   PBR    EPS   DIV   DPS\n",
       "날짜                                              \n",
       "2022-05-31  68096  3.67  0.58  10810  9.58  3800"
      ]
     },
     "metadata": {},
     "output_type": "display_data"
    }
   ],
   "source": [
    "\"\"\"\n",
    "매년 5월 31에 제일 가까운 영업일의 배당금 가져 오기\n",
    "\"\"\"\n",
    "dps_list = []\n",
    "for year in range(int(start_year)+1, int(end_year)+2):\n",
    "    #print(year)\n",
    "    last_business_day_of_may = stock.get_nearest_business_day_in_a_week(str(year)+'0531')\n",
    "    print(last_business_day_of_may)\n",
    "    df_annual_f = stock.get_market_fundamental(last_business_day_of_may, last_business_day_of_may, code)\n",
    "    display(df_annual_f)\n",
    "    dps_list.append(df_annual_f.DPS.values[0])\n",
    "    time.sleep(1)"
   ]
  },
  {
   "cell_type": "code",
   "execution_count": 38,
   "id": "6b7d9f34",
   "metadata": {},
   "outputs": [
    {
     "data": {
      "text/plain": [
       "[700, 100, 650, 1000, 650, 1000, 1400, 1700, 2200, 3800]"
      ]
     },
     "execution_count": 38,
     "metadata": {},
     "output_type": "execute_result"
    }
   ],
   "source": [
    "dps_list"
   ]
  },
  {
   "cell_type": "code",
   "execution_count": 5,
   "id": "262b32c5",
   "metadata": {},
   "outputs": [
    {
     "data": {
      "image/png": "[encoded data removed]",
      "text/plain": [
       "<Figure size 432x288 with 1 Axes>"
      ]
     },
     "metadata": {
      "needs_background": "light"
     },
     "output_type": "display_data"
    }
   ],
   "source": [
    "name = stock.get_market_ticker_name(code)\n",
    "\n",
    "plt.title(f'{name} - 연도별 배당금')\n",
    "plt.bar(range(int(start_year), int(end_year)+1), dps_list)\n",
    "plt.show()"
   ]
  },
  {
   "cell_type": "code",
   "execution_count": 34,
   "id": "5776eea9",
   "metadata": {},
   "outputs": [],
   "source": [
    "# function to add value labels\n",
    "def addlabels(x,y):\n",
    "    for i in range(len(x)):\n",
    "        plt.text(x[i], y[i]+5, y[i], ha = 'center')"
   ]
  },
  {
   "cell_type": "code",
   "execution_count": 35,
   "id": "3bb808c3",
   "metadata": {},
   "outputs": [],
   "source": [
    "years = [year for year in range(int(start_year), int(end_year)+1)]"
   ]
  },
  {
   "cell_type": "code",
   "execution_count": 36,
   "id": "32703b8e",
   "metadata": {},
   "outputs": [
    {
     "data": {
      "text/plain": [
       "[700, 100, 650, 1000, 650, 1000, 1400, 1700, 2200, 3800]"
      ]
     },
     "execution_count": 36,
     "metadata": {},
     "output_type": "execute_result"
    }
   ],
   "source": [
    "dps_list"
   ]
  },
  {
   "cell_type": "code",
   "execution_count": 37,
   "id": "70c01cde",
   "metadata": {},
   "outputs": [
    {
     "data": {
      "image/png": "[encoded data removed]",
      "text/plain": [
       "<Figure size 432x288 with 1 Axes>"
      ]
     },
     "metadata": {
      "needs_background": "light"
     },
     "output_type": "display_data"
    }
   ],
   "source": [
    "#name = stock.get_market_ticker_name(code)\n",
    "plt.title(f'{name} - 연도별 배당금')\n",
    "plt.bar(range(int(start_year), int(end_year)+1), dps_list)\n",
    "addlabels(range(int(start_year), int(end_year)+1), dps_list)\n",
    "\n",
    "#addlabels(years, dps_list)\n",
    "plt.show()"
   ]
  },
  {
   "cell_type": "markdown",
   "id": "dc176343",
   "metadata": {},
   "source": [
    "배당 성장 연수와 배당 성장률 구하기"
   ]
  },
  {
   "cell_type": "code",
   "execution_count": 39,
   "id": "f81eb2c0",
   "metadata": {},
   "outputs": [],
   "source": [
    "def getActualDivGrowth(divs):\n",
    "    div_history = divs.copy()\n",
    "    div_history.reverse()\n",
    "    div_growth_list = []\n",
    "    for div_cur, div_before in zip(div_history, div_history[1:]):\n",
    "        print(f'div_cur = {div_cur}, div_before = {div_before}')\n",
    "        if div_before == 0:\n",
    "            #print('div_before is 0')\n",
    "            break;\n",
    "\n",
    "        if div_cur >= div_before:\n",
    "            div_growth_list.append(div_cur)\n",
    "        else:\n",
    "            #print('div_before is more than div cur')\n",
    "            div_growth_list.append(div_cur)            \n",
    "            break\n",
    "\n",
    "    div_growth_list.reverse()\n",
    "    return len(div_growth_list) - 1, div_growth_list"
   ]
  },
  {
   "cell_type": "code",
   "execution_count": 40,
   "id": "033907c4",
   "metadata": {},
   "outputs": [
    {
     "name": "stdout",
     "output_type": "stream",
     "text": [
      "div_cur = 3800, div_before = 2200\n",
      "div_cur = 2200, div_before = 1700\n",
      "div_cur = 1700, div_before = 1400\n",
      "div_cur = 1400, div_before = 1000\n",
      "div_cur = 1000, div_before = 650\n",
      "div_cur = 650, div_before = 1000\n"
     ]
    },
    {
     "data": {
      "text/plain": [
       "(5, [650, 1000, 1400, 1700, 2200, 3800])"
      ]
     },
     "execution_count": 40,
     "metadata": {},
     "output_type": "execute_result"
    }
   ],
   "source": [
    "actual_div_growth_cnt, actual_div_growth_list = getActualDivGrowth(dps_list)\n",
    "actual_div_growth_cnt, actual_div_growth_list"
   ]
  },
  {
   "cell_type": "code",
   "execution_count": 41,
   "id": "62b2bae4",
   "metadata": {},
   "outputs": [],
   "source": [
    "def getCAGR(div_history):\n",
    "    cagr = (div_history[-1]/div_history[0]) ** (1/len(div_history)) - 1\n",
    "    return cagr"
   ]
  },
  {
   "cell_type": "code",
   "execution_count": 42,
   "id": "6ce9ad01",
   "metadata": {},
   "outputs": [
    {
     "data": {
      "text/plain": [
       "0.34218291622311514"
      ]
     },
     "execution_count": 42,
     "metadata": {},
     "output_type": "execute_result"
    }
   ],
   "source": [
    "cagr = getCAGR(actual_div_growth_list)\n",
    "cagr"
   ]
  },
  {
   "cell_type": "code",
   "execution_count": null,
   "id": "07ecbd0f",
   "metadata": {},
   "outputs": [],
   "source": []
  },
  {
   "cell_type": "code",
   "execution_count": null,
   "id": "03dfcfb8",
   "metadata": {},
   "outputs": [],
   "source": []
  },
  {
   "cell_type": "markdown",
   "id": "98062b3f",
   "metadata": {},
   "source": [
    "\"\"\"\n",
    "목표 주가 구하기\n",
    "\"\"\""
   ]
  },
  {
   "cell_type": "code",
   "execution_count": 43,
   "id": "118eafe2",
   "metadata": {},
   "outputs": [],
   "source": [
    "start_date = '20150501'\n",
    "end_date = '20230222'\n",
    "df_f = stock.get_market_fundamental(start_date, end_date, code, freq='d')"
   ]
  },
  {
   "cell_type": "code",
   "execution_count": 44,
   "id": "de620bf6",
   "metadata": {},
   "outputs": [
    {
     "data": {
      "text/html": [
       "<div>\n",
       "<style scoped>\n",
       "    .dataframe tbody tr th:only-of-type {\n",
       "        vertical-align: middle;\n",
       "    }\n",
       "\n",
       "    .dataframe tbody tr th {\n",
       "        vertical-align: top;\n",
       "    }\n",
       "\n",
       "    .dataframe thead th {\n",
       "        text-align: right;\n",
       "    }\n",
       "</style>\n",
       "<table border=\"1\" class=\"dataframe\">\n",
       "  <thead>\n",
       "    <tr style=\"text-align: right;\">\n",
       "      <th></th>\n",
       "      <th>BPS</th>\n",
       "      <th>PER</th>\n",
       "      <th>PBR</th>\n",
       "      <th>EPS</th>\n",
       "      <th>DIV</th>\n",
       "      <th>DPS</th>\n",
       "    </tr>\n",
       "    <tr>\n",
       "      <th>날짜</th>\n",
       "      <th></th>\n",
       "      <th></th>\n",
       "      <th></th>\n",
       "      <th></th>\n",
       "      <th></th>\n",
       "      <th></th>\n",
       "    </tr>\n",
       "  </thead>\n",
       "  <tbody>\n",
       "    <tr>\n",
       "      <th>2015-05-04</th>\n",
       "      <td>44832</td>\n",
       "      <td>20.45</td>\n",
       "      <td>1.41</td>\n",
       "      <td>3090</td>\n",
       "      <td>1.03</td>\n",
       "      <td>650</td>\n",
       "    </tr>\n",
       "    <tr>\n",
       "      <th>2015-05-06</th>\n",
       "      <td>44832</td>\n",
       "      <td>18.51</td>\n",
       "      <td>1.28</td>\n",
       "      <td>3090</td>\n",
       "      <td>1.14</td>\n",
       "      <td>650</td>\n",
       "    </tr>\n",
       "    <tr>\n",
       "      <th>2015-05-07</th>\n",
       "      <td>44832</td>\n",
       "      <td>19.00</td>\n",
       "      <td>1.31</td>\n",
       "      <td>3090</td>\n",
       "      <td>1.11</td>\n",
       "      <td>650</td>\n",
       "    </tr>\n",
       "    <tr>\n",
       "      <th>2015-05-08</th>\n",
       "      <td>44832</td>\n",
       "      <td>19.09</td>\n",
       "      <td>1.32</td>\n",
       "      <td>3090</td>\n",
       "      <td>1.10</td>\n",
       "      <td>650</td>\n",
       "    </tr>\n",
       "    <tr>\n",
       "      <th>2015-05-11</th>\n",
       "      <td>44832</td>\n",
       "      <td>20.32</td>\n",
       "      <td>1.40</td>\n",
       "      <td>3090</td>\n",
       "      <td>1.04</td>\n",
       "      <td>650</td>\n",
       "    </tr>\n",
       "    <tr>\n",
       "      <th>...</th>\n",
       "      <td>...</td>\n",
       "      <td>...</td>\n",
       "      <td>...</td>\n",
       "      <td>...</td>\n",
       "      <td>...</td>\n",
       "      <td>...</td>\n",
       "    </tr>\n",
       "    <tr>\n",
       "      <th>2023-02-16</th>\n",
       "      <td>68096</td>\n",
       "      <td>3.10</td>\n",
       "      <td>0.49</td>\n",
       "      <td>10810</td>\n",
       "      <td>11.33</td>\n",
       "      <td>3800</td>\n",
       "    </tr>\n",
       "    <tr>\n",
       "      <th>2023-02-17</th>\n",
       "      <td>68096</td>\n",
       "      <td>3.09</td>\n",
       "      <td>0.49</td>\n",
       "      <td>10810</td>\n",
       "      <td>11.36</td>\n",
       "      <td>3800</td>\n",
       "    </tr>\n",
       "    <tr>\n",
       "      <th>2023-02-20</th>\n",
       "      <td>68096</td>\n",
       "      <td>3.09</td>\n",
       "      <td>0.49</td>\n",
       "      <td>10810</td>\n",
       "      <td>11.36</td>\n",
       "      <td>3800</td>\n",
       "    </tr>\n",
       "    <tr>\n",
       "      <th>2023-02-21</th>\n",
       "      <td>68096</td>\n",
       "      <td>3.12</td>\n",
       "      <td>0.49</td>\n",
       "      <td>10810</td>\n",
       "      <td>11.28</td>\n",
       "      <td>3800</td>\n",
       "    </tr>\n",
       "    <tr>\n",
       "      <th>2023-02-22</th>\n",
       "      <td>68096</td>\n",
       "      <td>3.02</td>\n",
       "      <td>0.48</td>\n",
       "      <td>10810</td>\n",
       "      <td>11.64</td>\n",
       "      <td>3800</td>\n",
       "    </tr>\n",
       "  </tbody>\n",
       "</table>\n",
       "<p>1923 rows × 6 columns</p>\n",
       "</div>"
      ],
      "text/plain": [
       "              BPS    PER   PBR    EPS    DIV   DPS\n",
       "날짜                                                \n",
       "2015-05-04  44832  20.45  1.41   3090   1.03   650\n",
       "2015-05-06  44832  18.51  1.28   3090   1.14   650\n",
       "2015-05-07  44832  19.00  1.31   3090   1.11   650\n",
       "2015-05-08  44832  19.09  1.32   3090   1.10   650\n",
       "2015-05-11  44832  20.32  1.40   3090   1.04   650\n",
       "...           ...    ...   ...    ...    ...   ...\n",
       "2023-02-16  68096   3.10  0.49  10810  11.33  3800\n",
       "2023-02-17  68096   3.09  0.49  10810  11.36  3800\n",
       "2023-02-20  68096   3.09  0.49  10810  11.36  3800\n",
       "2023-02-21  68096   3.12  0.49  10810  11.28  3800\n",
       "2023-02-22  68096   3.02  0.48  10810  11.64  3800\n",
       "\n",
       "[1923 rows x 6 columns]"
      ]
     },
     "execution_count": 44,
     "metadata": {},
     "output_type": "execute_result"
    }
   ],
   "source": [
    "df_f"
   ]
  },
  {
   "cell_type": "code",
   "execution_count": 47,
   "id": "4f05be60",
   "metadata": {},
   "outputs": [
    {
     "data": {
      "image/png": "[encoded data removed]",
      "text/plain": [
       "<Figure size 432x288 with 1 Axes>"
      ]
     },
     "metadata": {
      "needs_background": "light"
     },
     "output_type": "display_data"
    }
   ],
   "source": [
    "div_yields = savgol_filter(df_f.DIV, 51, 3)\n",
    "\n",
    "plt.title(f'{name} - 시가배당률')\n",
    "plt.plot(df_f.index.to_list(), div_yields)\n",
    "plt.show()"
   ]
  },
  {
   "cell_type": "code",
   "execution_count": null,
   "id": "1f67dd44",
   "metadata": {},
   "outputs": [],
   "source": []
  },
  {
   "cell_type": "code",
   "execution_count": 48,
   "id": "9506fb18",
   "metadata": {},
   "outputs": [
    {
     "data": {
      "text/html": [
       "<div>\n",
       "<style scoped>\n",
       "    .dataframe tbody tr th:only-of-type {\n",
       "        vertical-align: middle;\n",
       "    }\n",
       "\n",
       "    .dataframe tbody tr th {\n",
       "        vertical-align: top;\n",
       "    }\n",
       "\n",
       "    .dataframe thead th {\n",
       "        text-align: right;\n",
       "    }\n",
       "</style>\n",
       "<table border=\"1\" class=\"dataframe\">\n",
       "  <thead>\n",
       "    <tr style=\"text-align: right;\">\n",
       "      <th></th>\n",
       "      <th>시가</th>\n",
       "      <th>고가</th>\n",
       "      <th>저가</th>\n",
       "      <th>종가</th>\n",
       "      <th>거래량</th>\n",
       "      <th>거래대금</th>\n",
       "      <th>등락률</th>\n",
       "    </tr>\n",
       "    <tr>\n",
       "      <th>날짜</th>\n",
       "      <th></th>\n",
       "      <th></th>\n",
       "      <th></th>\n",
       "      <th></th>\n",
       "      <th></th>\n",
       "      <th></th>\n",
       "      <th></th>\n",
       "    </tr>\n",
       "  </thead>\n",
       "  <tbody>\n",
       "    <tr>\n",
       "      <th>2015-05-04</th>\n",
       "      <td>64212</td>\n",
       "      <td>64406</td>\n",
       "      <td>61302</td>\n",
       "      <td>61302</td>\n",
       "      <td>559585</td>\n",
       "      <td>35944294300</td>\n",
       "      <td>-3.51</td>\n",
       "    </tr>\n",
       "    <tr>\n",
       "      <th>2015-05-06</th>\n",
       "      <td>60041</td>\n",
       "      <td>60041</td>\n",
       "      <td>54997</td>\n",
       "      <td>55482</td>\n",
       "      <td>1533532</td>\n",
       "      <td>89483350900</td>\n",
       "      <td>-9.49</td>\n",
       "    </tr>\n",
       "    <tr>\n",
       "      <th>2015-05-07</th>\n",
       "      <td>55385</td>\n",
       "      <td>57228</td>\n",
       "      <td>54221</td>\n",
       "      <td>56937</td>\n",
       "      <td>1108834</td>\n",
       "      <td>63795895500</td>\n",
       "      <td>2.62</td>\n",
       "    </tr>\n",
       "    <tr>\n",
       "      <th>2015-05-08</th>\n",
       "      <td>56937</td>\n",
       "      <td>57616</td>\n",
       "      <td>56161</td>\n",
       "      <td>57228</td>\n",
       "      <td>512919</td>\n",
       "      <td>30165021100</td>\n",
       "      <td>0.51</td>\n",
       "    </tr>\n",
       "    <tr>\n",
       "      <th>2015-05-11</th>\n",
       "      <td>59847</td>\n",
       "      <td>61884</td>\n",
       "      <td>59459</td>\n",
       "      <td>60914</td>\n",
       "      <td>915897</td>\n",
       "      <td>57566656700</td>\n",
       "      <td>6.44</td>\n",
       "    </tr>\n",
       "    <tr>\n",
       "      <th>...</th>\n",
       "      <td>...</td>\n",
       "      <td>...</td>\n",
       "      <td>...</td>\n",
       "      <td>...</td>\n",
       "      <td>...</td>\n",
       "      <td>...</td>\n",
       "      <td>...</td>\n",
       "    </tr>\n",
       "    <tr>\n",
       "      <th>2023-02-16</th>\n",
       "      <td>33150</td>\n",
       "      <td>33650</td>\n",
       "      <td>33150</td>\n",
       "      <td>33550</td>\n",
       "      <td>212991</td>\n",
       "      <td>7125313350</td>\n",
       "      <td>1.21</td>\n",
       "    </tr>\n",
       "    <tr>\n",
       "      <th>2023-02-17</th>\n",
       "      <td>33300</td>\n",
       "      <td>33700</td>\n",
       "      <td>33100</td>\n",
       "      <td>33450</td>\n",
       "      <td>120796</td>\n",
       "      <td>4043580300</td>\n",
       "      <td>-0.30</td>\n",
       "    </tr>\n",
       "    <tr>\n",
       "      <th>2023-02-20</th>\n",
       "      <td>33450</td>\n",
       "      <td>33650</td>\n",
       "      <td>33150</td>\n",
       "      <td>33450</td>\n",
       "      <td>138236</td>\n",
       "      <td>4621395750</td>\n",
       "      <td>0.00</td>\n",
       "    </tr>\n",
       "    <tr>\n",
       "      <th>2023-02-21</th>\n",
       "      <td>33350</td>\n",
       "      <td>33800</td>\n",
       "      <td>33150</td>\n",
       "      <td>33700</td>\n",
       "      <td>206236</td>\n",
       "      <td>6931099100</td>\n",
       "      <td>0.75</td>\n",
       "    </tr>\n",
       "    <tr>\n",
       "      <th>2023-02-22</th>\n",
       "      <td>33300</td>\n",
       "      <td>33350</td>\n",
       "      <td>32600</td>\n",
       "      <td>32650</td>\n",
       "      <td>340760</td>\n",
       "      <td>11187331600</td>\n",
       "      <td>-3.12</td>\n",
       "    </tr>\n",
       "  </tbody>\n",
       "</table>\n",
       "<p>1923 rows × 7 columns</p>\n",
       "</div>"
      ],
      "text/plain": [
       "               시가     고가     저가     종가      거래량         거래대금   등락률\n",
       "날짜                                                                \n",
       "2015-05-04  64212  64406  61302  61302   559585  35944294300 -3.51\n",
       "2015-05-06  60041  60041  54997  55482  1533532  89483350900 -9.49\n",
       "2015-05-07  55385  57228  54221  56937  1108834  63795895500  2.62\n",
       "2015-05-08  56937  57616  56161  57228   512919  30165021100  0.51\n",
       "2015-05-11  59847  61884  59459  60914   915897  57566656700  6.44\n",
       "...           ...    ...    ...    ...      ...          ...   ...\n",
       "2023-02-16  33150  33650  33150  33550   212991   7125313350  1.21\n",
       "2023-02-17  33300  33700  33100  33450   120796   4043580300 -0.30\n",
       "2023-02-20  33450  33650  33150  33450   138236   4621395750  0.00\n",
       "2023-02-21  33350  33800  33150  33700   206236   6931099100  0.75\n",
       "2023-02-22  33300  33350  32600  32650   340760  11187331600 -3.12\n",
       "\n",
       "[1923 rows x 7 columns]"
      ]
     },
     "execution_count": 48,
     "metadata": {},
     "output_type": "execute_result"
    }
   ],
   "source": [
    "df_p = stock.get_market_ohlcv(start_date, end_date, code)\n",
    "df_p"
   ]
  },
  {
   "cell_type": "code",
   "execution_count": 49,
   "id": "2dbb43f7",
   "metadata": {},
   "outputs": [
    {
     "data": {
      "image/png": "[encoded data removed]",
      "text/plain": [
       "<Figure size 432x288 with 1 Axes>"
      ]
     },
     "metadata": {
      "needs_background": "light"
     },
     "output_type": "display_data"
    }
   ],
   "source": [
    "close_prices = savgol_filter(df_p.종가, 51, 3)\n",
    "\n",
    "plt.title(f'{name} - 주가')\n",
    "plt.plot(df_f.index.to_list(), close_prices)\n",
    "plt.show()"
   ]
  },
  {
   "cell_type": "code",
   "execution_count": null,
   "id": "1f5743c2",
   "metadata": {},
   "outputs": [],
   "source": []
  },
  {
   "cell_type": "code",
   "execution_count": 50,
   "id": "b7001b43",
   "metadata": {},
   "outputs": [
    {
     "data": {
      "image/png": "[encoded data removed]",
      "text/plain": [
       "<Figure size 432x288 with 2 Axes>"
      ]
     },
     "metadata": {
      "needs_background": "light"
     },
     "output_type": "display_data"
    }
   ],
   "source": [
    "\"\"\"\n",
    "주가 배당률 그리기\n",
    "\"\"\"\n",
    "fig, ax1 = plt.subplots()\n",
    "\n",
    "color = 'tab:red'\n",
    "ax1.set_xlabel('year')\n",
    "ax1.set_ylabel('price', color=color)\n",
    "ax1.plot(close_prices, color=color)\n",
    "\n",
    "ax2 = ax1.twinx()\n",
    "\n",
    "color = 'tab:blue'\n",
    "ax2.set_ylabel('dividend yield', color=color)\n",
    "ax2.plot(div_yields, color=color)\n",
    "plt.title(f'[{name}] 주가 vs. 배당률')\n",
    "plt.show()"
   ]
  },
  {
   "cell_type": "code",
   "execution_count": null,
   "id": "104d0a22",
   "metadata": {},
   "outputs": [],
   "source": [
    "np.corrcoef(div_yields, close_prices)"
   ]
  },
  {
   "cell_type": "markdown",
   "id": "96df1135",
   "metadata": {},
   "source": [
    "\"\"\"\n",
    "매수점수 계산\n",
    "\"\"\""
   ]
  },
  {
   "cell_type": "code",
   "execution_count": 51,
   "id": "68139270",
   "metadata": {},
   "outputs": [
    {
     "data": {
      "text/html": [
       "<div>\n",
       "<style scoped>\n",
       "    .dataframe tbody tr th:only-of-type {\n",
       "        vertical-align: middle;\n",
       "    }\n",
       "\n",
       "    .dataframe tbody tr th {\n",
       "        vertical-align: top;\n",
       "    }\n",
       "\n",
       "    .dataframe thead th {\n",
       "        text-align: right;\n",
       "    }\n",
       "</style>\n",
       "<table border=\"1\" class=\"dataframe\">\n",
       "  <thead>\n",
       "    <tr style=\"text-align: right;\">\n",
       "      <th></th>\n",
       "      <th>BPS</th>\n",
       "      <th>PER</th>\n",
       "      <th>PBR</th>\n",
       "      <th>EPS</th>\n",
       "      <th>DIV</th>\n",
       "      <th>DPS</th>\n",
       "    </tr>\n",
       "    <tr>\n",
       "      <th>날짜</th>\n",
       "      <th></th>\n",
       "      <th></th>\n",
       "      <th></th>\n",
       "      <th></th>\n",
       "      <th></th>\n",
       "      <th></th>\n",
       "    </tr>\n",
       "  </thead>\n",
       "  <tbody>\n",
       "    <tr>\n",
       "      <th>2023-03-08</th>\n",
       "      <td>68096</td>\n",
       "      <td>2.93</td>\n",
       "      <td>0.46</td>\n",
       "      <td>10810</td>\n",
       "      <td>12.01</td>\n",
       "      <td>3800</td>\n",
       "    </tr>\n",
       "  </tbody>\n",
       "</table>\n",
       "</div>"
      ],
      "text/plain": [
       "              BPS   PER   PBR    EPS    DIV   DPS\n",
       "날짜                                               \n",
       "2023-03-08  68096  2.93  0.46  10810  12.01  3800"
      ]
     },
     "execution_count": 51,
     "metadata": {},
     "output_type": "execute_result"
    }
   ],
   "source": [
    "df_cur_f = stock.get_market_fundamental('20230308', '20230308', code)\n",
    "df_cur_f"
   ]
  },
  {
   "cell_type": "code",
   "execution_count": 52,
   "id": "23eb4216",
   "metadata": {},
   "outputs": [
    {
     "data": {
      "text/plain": [
       "12.01"
      ]
     },
     "execution_count": 52,
     "metadata": {},
     "output_type": "execute_result"
    }
   ],
   "source": [
    "cur_div = df_cur_f.DIV[0]\n",
    "cur_div"
   ]
  },
  {
   "cell_type": "code",
   "execution_count": 61,
   "id": "e25ca098",
   "metadata": {},
   "outputs": [
    {
     "data": {
      "text/plain": [
       "3800"
      ]
     },
     "execution_count": 61,
     "metadata": {},
     "output_type": "execute_result"
    }
   ],
   "source": [
    "cur_dps = dps_list[-1]\n",
    "cur_dps "
   ]
  },
  {
   "cell_type": "code",
   "execution_count": null,
   "id": "7900f987",
   "metadata": {},
   "outputs": [],
   "source": []
  },
  {
   "cell_type": "code",
   "execution_count": 63,
   "id": "66c1c78a",
   "metadata": {},
   "outputs": [
    {
     "data": {
      "text/plain": [
       "1.063628"
      ]
     },
     "execution_count": 63,
     "metadata": {},
     "output_type": "execute_result"
    }
   ],
   "source": [
    "div_min = min(div_yields)\n",
    "div_min"
   ]
  },
  {
   "cell_type": "code",
   "execution_count": 64,
   "id": "52548111",
   "metadata": {},
   "outputs": [
    {
     "data": {
      "text/plain": [
       "357267.78055756114"
      ]
     },
     "execution_count": 64,
     "metadata": {},
     "output_type": "execute_result"
    }
   ],
   "source": [
    "target_price = cur_dps/div_min * 100\n",
    "target_price"
   ]
  },
  {
   "cell_type": "code",
   "execution_count": 65,
   "id": "51e9c778",
   "metadata": {},
   "outputs": [
    {
     "data": {
      "text/plain": [
       "12.1823"
      ]
     },
     "execution_count": 65,
     "metadata": {},
     "output_type": "execute_result"
    }
   ],
   "source": [
    "div_max = max(div_yields)\n",
    "div_max"
   ]
  },
  {
   "cell_type": "code",
   "execution_count": null,
   "id": "ff6a1d2c",
   "metadata": {},
   "outputs": [],
   "source": []
  },
  {
   "cell_type": "code",
   "execution_count": 67,
   "id": "727350ef",
   "metadata": {},
   "outputs": [
    {
     "data": {
      "image/png": "[encoded data removed]",
      "text/plain": [
       "<Figure size 432x288 with 2 Axes>"
      ]
     },
     "metadata": {
      "needs_background": "light"
     },
     "output_type": "display_data"
    }
   ],
   "source": [
    "\"\"\"\n",
    "주가 배당률 그리기\n",
    "\"\"\"\n",
    "fig, ax1 = plt.subplots()\n",
    "\n",
    "color = 'tab:red'\n",
    "ax1.set_xlabel('year')\n",
    "ax1.set_ylabel('price', color=color)\n",
    "ax1.plot(close_prices, color=color)\n",
    "\n",
    "ax2 = ax1.twinx()\n",
    "\n",
    "color = 'tab:blue'\n",
    "ax2.set_ylabel('dividend yield', color=color)\n",
    "ax2.plot(div_yields, color=color)\n",
    "\n",
    "ax2.axhline(y=div_min, color='y', linestyle='--', label='min div yield')\n",
    "ax2.axhline(y=div_max, color='r', linestyle='--', label='max div yield')\n",
    "ax2.axhline(y=div_yields[-1], color='g', linestyle='--', label='current div yield')\n",
    "\n",
    "plt.legend(loc='upper left', framealpha=1.0)\n",
    "plt.title(f'[{name}] 주가 vs. 배당률')\n",
    "plt.show()"
   ]
  },
  {
   "cell_type": "code",
   "execution_count": null,
   "id": "423e3da0",
   "metadata": {},
   "outputs": [],
   "source": []
  },
  {
   "cell_type": "code",
   "execution_count": 53,
   "id": "76819ead",
   "metadata": {},
   "outputs": [],
   "source": [
    "def get_percentage(input, min, max):\n",
    "    return round((input - min) / (max - min) * 100)\n",
    "\n",
    "def calculate_buy_score(current_div_yield, div_min, div_max):\n",
    "    buy_score = get_percentage(current_div_yield, div_min, div_max)\n",
    "    return buy_score"
   ]
  },
  {
   "cell_type": "code",
   "execution_count": null,
   "id": "cedf033a",
   "metadata": {},
   "outputs": [],
   "source": [
    "calculate_buy_score(cur_div, min(div_yields), max(div_yields))"
   ]
  },
  {
   "cell_type": "code",
   "execution_count": null,
   "id": "9998fb4e",
   "metadata": {},
   "outputs": [],
   "source": [
    "min(df_f.DIV)"
   ]
  },
  {
   "cell_type": "code",
   "execution_count": null,
   "id": "8c43a100",
   "metadata": {},
   "outputs": [],
   "source": [
    "div_min = \n",
    "div_min"
   ]
  },
  {
   "cell_type": "code",
   "execution_count": null,
   "id": "dcb4ecdc",
   "metadata": {},
   "outputs": [],
   "source": [
    "df_cur_f.DPS[0]"
   ]
  },
  {
   "cell_type": "code",
   "execution_count": null,
   "id": "02692966",
   "metadata": {},
   "outputs": [],
   "source": []
  },
  {
   "cell_type": "code",
   "execution_count": 58,
   "id": "cfe73690",
   "metadata": {},
   "outputs": [
    {
     "data": {
      "text/plain": [
       "1.063628"
      ]
     },
     "execution_count": 58,
     "metadata": {},
     "output_type": "execute_result"
    }
   ],
   "source": [
    "div_min = min(div_yields)\n",
    "div_min"
   ]
  },
  {
   "cell_type": "code",
   "execution_count": 56,
   "id": "4e55df3f",
   "metadata": {},
   "outputs": [
    {
     "data": {
      "text/plain": [
       "12.1823"
      ]
     },
     "execution_count": 56,
     "metadata": {},
     "output_type": "execute_result"
    }
   ],
   "source": []
  },
  {
   "cell_type": "code",
   "execution_count": null,
   "id": "5883c75a",
   "metadata": {},
   "outputs": [],
   "source": [
    "cur_dps = df_cur_f.DPS[0]\n",
    "cur_dps"
   ]
  },
  {
   "cell_type": "code",
   "execution_count": null,
   "id": "9e2fb7bd",
   "metadata": {},
   "outputs": [],
   "source": [
    "target_price = cur_dps/div_min * 100\n",
    "target_price"
   ]
  },
  {
   "cell_type": "code",
   "execution_count": null,
   "id": "667d7a4e",
   "metadata": {},
   "outputs": [],
   "source": [
    "buy_price = cur_div/div_max * 100\n",
    "buy_price"
   ]
  },
  {
   "cell_type": "code",
   "execution_count": null,
   "id": "376114de",
   "metadata": {},
   "outputs": [],
   "source": []
  },
  {
   "cell_type": "code",
   "execution_count": null,
   "id": "bcaf568c",
   "metadata": {},
   "outputs": [],
   "source": [
    "calculate_buy_score(df_cur_f.DIV[0], div_min, div_max)"
   ]
  },
  {
   "cell_type": "code",
   "execution_count": null,
   "id": "6db4d56a",
   "metadata": {},
   "outputs": [],
   "source": []
  },
  {
   "cell_type": "code",
   "execution_count": null,
   "id": "00b14652",
   "metadata": {},
   "outputs": [],
   "source": [
    "day = stock.get_nearest_business_day_in_a_week('20220610')\n",
    "day"
   ]
  },
  {
   "cell_type": "code",
   "execution_count": null,
   "id": "d507de50",
   "metadata": {},
   "outputs": [],
   "source": [
    "\"\"\"\n",
    "분석 기간\n",
    "\"\"\"\n",
    "start_year = '2012'\n",
    "end_year = '2021'\n",
    "\n",
    "\"\"\"\n",
    "NH 투자증권\n",
    "\"\"\"\n",
    "code = '005940'\n"
   ]
  },
  {
   "cell_type": "code",
   "execution_count": null,
   "id": "5688ac69",
   "metadata": {},
   "outputs": [],
   "source": [
    "\"\"\"\n",
    "매년 5월 31에 제일 가까운 영업일의 배당금 가져 오기\n",
    "\"\"\"\n",
    "dps_list = []\n",
    "for year in range(int(start_year)+1, int(end_year)+2):\n",
    "    #print(year)\n",
    "    last_business_day_of_may = stock.get_nearest_business_day_in_a_week(str(year)+'0531')\n",
    "    print(last_business_day_of_may)\n",
    "    df_annual_f = stock.get_market_fundamental(last_business_day_of_may, last_business_day_of_may, code)\n",
    "    display(df_annual_f)\n",
    "    dps_list.append(df_annual_f.DPS.values[0])\n",
    "    time.sleep(1)"
   ]
  },
  {
   "cell_type": "code",
   "execution_count": null,
   "id": "fd6c3146",
   "metadata": {},
   "outputs": [],
   "source": [
    "dps_list"
   ]
  },
  {
   "cell_type": "code",
   "execution_count": null,
   "id": "af784f54",
   "metadata": {},
   "outputs": [],
   "source": [
    "def getAnnualDPS(start_year, end_year):\n",
    "    dps_list = []\n",
    "    for year in range(int(start_year)+1, int(end_year)+2):\n",
    "        #print(year)\n",
    "        last_business_day_of_may = stock.get_nearest_business_day_in_a_week(str(year)+'0531')\n",
    "        #print(last_business_day_of_may)\n",
    "        df_annual_f = stock.get_market_fundamental(last_business_day_of_may, last_business_day_of_may, code)\n",
    "        #display(df_annual_f)\n",
    "        dps_list.append(df_annual_f.DPS.values[0])\n",
    "        time.sleep(1)\n",
    "    return dps_list"
   ]
  },
  {
   "cell_type": "code",
   "execution_count": null,
   "id": "700137f5",
   "metadata": {},
   "outputs": [],
   "source": [
    "annual_dps_list = getAnnualDPS(start_year, end_year)\n",
    "annual_dps_list"
   ]
  },
  {
   "cell_type": "code",
   "execution_count": null,
   "id": "c4ea7257",
   "metadata": {},
   "outputs": [],
   "source": [
    "years = range(int(start_year), int(end_year)+1)\n",
    "years"
   ]
  },
  {
   "cell_type": "code",
   "execution_count": null,
   "id": "d3de3fe3",
   "metadata": {
    "scrolled": true
   },
   "outputs": [],
   "source": [
    "plt.bar(years, annual_dps_list)\n",
    "plt.show()"
   ]
  },
  {
   "cell_type": "code",
   "execution_count": null,
   "id": "d9016526",
   "metadata": {},
   "outputs": [],
   "source": [
    "def getActualDivGrowth(divs):\n",
    "    div_history = divs.copy()\n",
    "    div_history.reverse()\n",
    "    div_growth_list = []\n",
    "    for div_cur, div_before in zip(div_history, div_history[1:]):\n",
    "        print(f'div_cur = {div_cur}, div_before = {div_before}')\n",
    "        if div_before == 0:\n",
    "            #print('div_before is 0')\n",
    "            break;\n",
    "\n",
    "        if div_cur >= div_before:\n",
    "            div_growth_list.append(div_cur)\n",
    "        else:\n",
    "            #print('div_before is more than div cur')\n",
    "            div_growth_list.append(div_cur)            \n",
    "            break\n",
    "\n",
    "    div_growth_list.reverse()\n",
    "    return len(div_growth_list) - 1, div_growth_list"
   ]
  },
  {
   "cell_type": "code",
   "execution_count": null,
   "id": "5419094e",
   "metadata": {},
   "outputs": [],
   "source": [
    "actual_div_growth_cnt, actual_div_growth_list = getActualDivGrowth(dps_list)\n",
    "actual_div_growth_cnt, actual_div_growth_list"
   ]
  },
  {
   "cell_type": "code",
   "execution_count": null,
   "id": "83ee68d7",
   "metadata": {},
   "outputs": [],
   "source": [
    "getCAGR(actual_div_growth_list)"
   ]
  },
  {
   "cell_type": "code",
   "execution_count": null,
   "id": "17570d3f",
   "metadata": {},
   "outputs": [],
   "source": []
  }
 ],
 "metadata": {
  "kernelspec": {
   "display_name": "Python 3 (ipykernel)",
   "language": "python",
   "name": "python3"
  },
  "language_info": {
   "codemirror_mode": {
    "name": "ipython",
    "version": 3
   },
   "file_extension": ".py",
   "mimetype": "text/x-python",
   "name": "python",
   "nbconvert_exporter": "python",
   "pygments_lexer": "ipython3",
   "version": "3.9.12"
  }
 },
 "nbformat": 4,
 "nbformat_minor": 5
}
