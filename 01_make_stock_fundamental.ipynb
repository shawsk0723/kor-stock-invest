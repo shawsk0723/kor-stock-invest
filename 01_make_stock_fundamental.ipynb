{
 "cells": [
  {
   "cell_type": "code",
   "execution_count": 46,
   "id": "8dbdde1f",
   "metadata": {},
   "outputs": [],
   "source": [
    "import pandas as pd\n",
    "from pykrx import stock"
   ]
  },
  {
   "cell_type": "code",
   "execution_count": 57,
   "id": "8f2e8387",
   "metadata": {},
   "outputs": [],
   "source": [
    "ticker = '005930'"
   ]
  },
  {
   "cell_type": "code",
   "execution_count": 58,
   "id": "a4fb8fd1",
   "metadata": {},
   "outputs": [],
   "source": [
    "latest_date = '20230203'\n",
    "start_date = latest_date\n",
    "end_date = latest_date"
   ]
  },
  {
   "cell_type": "code",
   "execution_count": 60,
   "id": "438ab120",
   "metadata": {
    "scrolled": true
   },
   "outputs": [
    {
     "data": {
      "text/html": [
       "<div>\n",
       "<style scoped>\n",
       "    .dataframe tbody tr th:only-of-type {\n",
       "        vertical-align: middle;\n",
       "    }\n",
       "\n",
       "    .dataframe tbody tr th {\n",
       "        vertical-align: top;\n",
       "    }\n",
       "\n",
       "    .dataframe thead th {\n",
       "        text-align: right;\n",
       "    }\n",
       "</style>\n",
       "<table border=\"1\" class=\"dataframe\">\n",
       "  <thead>\n",
       "    <tr style=\"text-align: right;\">\n",
       "      <th></th>\n",
       "      <th>BPS</th>\n",
       "      <th>PER</th>\n",
       "      <th>PBR</th>\n",
       "      <th>EPS</th>\n",
       "      <th>DIV</th>\n",
       "      <th>DPS</th>\n",
       "    </tr>\n",
       "    <tr>\n",
       "      <th>날짜</th>\n",
       "      <th></th>\n",
       "      <th></th>\n",
       "      <th></th>\n",
       "      <th></th>\n",
       "      <th></th>\n",
       "      <th></th>\n",
       "    </tr>\n",
       "  </thead>\n",
       "  <tbody>\n",
       "    <tr>\n",
       "      <th>2023-02-03</th>\n",
       "      <td>43611</td>\n",
       "      <td>11.04</td>\n",
       "      <td>1.46</td>\n",
       "      <td>5777</td>\n",
       "      <td>2.26</td>\n",
       "      <td>1444</td>\n",
       "    </tr>\n",
       "  </tbody>\n",
       "</table>\n",
       "</div>"
      ],
      "text/plain": [
       "              BPS    PER   PBR   EPS   DIV   DPS\n",
       "날짜                                              \n",
       "2023-02-03  43611  11.04  1.46  5777  2.26  1444"
      ]
     },
     "execution_count": 60,
     "metadata": {},
     "output_type": "execute_result"
    }
   ],
   "source": [
    "df_stock = stock.get_market_fundamental(latest_date, latest_date, ticker)\n",
    "df_stock"
   ]
  },
  {
   "cell_type": "code",
   "execution_count": 61,
   "id": "3a3963a2",
   "metadata": {},
   "outputs": [
    {
     "data": {
      "text/html": [
       "<div>\n",
       "<style scoped>\n",
       "    .dataframe tbody tr th:only-of-type {\n",
       "        vertical-align: middle;\n",
       "    }\n",
       "\n",
       "    .dataframe tbody tr th {\n",
       "        vertical-align: top;\n",
       "    }\n",
       "\n",
       "    .dataframe thead th {\n",
       "        text-align: right;\n",
       "    }\n",
       "</style>\n",
       "<table border=\"1\" class=\"dataframe\">\n",
       "  <thead>\n",
       "    <tr style=\"text-align: right;\">\n",
       "      <th></th>\n",
       "      <th>BPS</th>\n",
       "      <th>PER</th>\n",
       "      <th>PBR</th>\n",
       "      <th>EPS</th>\n",
       "      <th>DIV</th>\n",
       "      <th>DPS</th>\n",
       "    </tr>\n",
       "  </thead>\n",
       "  <tbody>\n",
       "    <tr>\n",
       "      <th>2023-02-03</th>\n",
       "      <td>43611</td>\n",
       "      <td>11.04</td>\n",
       "      <td>1.46</td>\n",
       "      <td>5777</td>\n",
       "      <td>2.26</td>\n",
       "      <td>1444</td>\n",
       "    </tr>\n",
       "  </tbody>\n",
       "</table>\n",
       "</div>"
      ],
      "text/plain": [
       "              BPS    PER   PBR   EPS   DIV   DPS\n",
       "2023-02-03  43611  11.04  1.46  5777  2.26  1444"
      ]
     },
     "execution_count": 61,
     "metadata": {},
     "output_type": "execute_result"
    }
   ],
   "source": [
    "df_stock.index.name =None\n",
    "df_stock"
   ]
  },
  {
   "cell_type": "code",
   "execution_count": 62,
   "id": "aac9f464",
   "metadata": {},
   "outputs": [
    {
     "data": {
      "text/html": [
       "<div>\n",
       "<style scoped>\n",
       "    .dataframe tbody tr th:only-of-type {\n",
       "        vertical-align: middle;\n",
       "    }\n",
       "\n",
       "    .dataframe tbody tr th {\n",
       "        vertical-align: top;\n",
       "    }\n",
       "\n",
       "    .dataframe thead th {\n",
       "        text-align: right;\n",
       "    }\n",
       "</style>\n",
       "<table border=\"1\" class=\"dataframe\">\n",
       "  <thead>\n",
       "    <tr style=\"text-align: right;\">\n",
       "      <th></th>\n",
       "      <th>BPS</th>\n",
       "      <th>PER</th>\n",
       "      <th>PBR</th>\n",
       "      <th>EPS</th>\n",
       "      <th>DIV</th>\n",
       "      <th>DPS</th>\n",
       "    </tr>\n",
       "  </thead>\n",
       "  <tbody>\n",
       "    <tr>\n",
       "      <th>005930</th>\n",
       "      <td>43611</td>\n",
       "      <td>11.04</td>\n",
       "      <td>1.46</td>\n",
       "      <td>5777</td>\n",
       "      <td>2.26</td>\n",
       "      <td>1444</td>\n",
       "    </tr>\n",
       "  </tbody>\n",
       "</table>\n",
       "</div>"
      ],
      "text/plain": [
       "          BPS    PER   PBR   EPS   DIV   DPS\n",
       "005930  43611  11.04  1.46  5777  2.26  1444"
      ]
     },
     "execution_count": 62,
     "metadata": {},
     "output_type": "execute_result"
    }
   ],
   "source": [
    "df_stock.index = [ticker]\n",
    "df_stock"
   ]
  },
  {
   "cell_type": "code",
   "execution_count": 63,
   "id": "60336cef",
   "metadata": {},
   "outputs": [
    {
     "data": {
      "text/plain": [
       "'삼성전자'"
      ]
     },
     "execution_count": 63,
     "metadata": {},
     "output_type": "execute_result"
    }
   ],
   "source": [
    "name = stock.get_market_ticker_name(ticker)\n",
    "name"
   ]
  },
  {
   "cell_type": "code",
   "execution_count": 64,
   "id": "ae012a13",
   "metadata": {},
   "outputs": [
    {
     "data": {
      "text/html": [
       "<div>\n",
       "<style scoped>\n",
       "    .dataframe tbody tr th:only-of-type {\n",
       "        vertical-align: middle;\n",
       "    }\n",
       "\n",
       "    .dataframe tbody tr th {\n",
       "        vertical-align: top;\n",
       "    }\n",
       "\n",
       "    .dataframe thead th {\n",
       "        text-align: right;\n",
       "    }\n",
       "</style>\n",
       "<table border=\"1\" class=\"dataframe\">\n",
       "  <thead>\n",
       "    <tr style=\"text-align: right;\">\n",
       "      <th></th>\n",
       "      <th>Name</th>\n",
       "      <th>BPS</th>\n",
       "      <th>PER</th>\n",
       "      <th>PBR</th>\n",
       "      <th>EPS</th>\n",
       "      <th>DIV</th>\n",
       "      <th>DPS</th>\n",
       "    </tr>\n",
       "  </thead>\n",
       "  <tbody>\n",
       "    <tr>\n",
       "      <th>005930</th>\n",
       "      <td>삼성전자</td>\n",
       "      <td>43611</td>\n",
       "      <td>11.04</td>\n",
       "      <td>1.46</td>\n",
       "      <td>5777</td>\n",
       "      <td>2.26</td>\n",
       "      <td>1444</td>\n",
       "    </tr>\n",
       "  </tbody>\n",
       "</table>\n",
       "</div>"
      ],
      "text/plain": [
       "        Name    BPS    PER   PBR   EPS   DIV   DPS\n",
       "005930  삼성전자  43611  11.04  1.46  5777  2.26  1444"
      ]
     },
     "execution_count": 64,
     "metadata": {},
     "output_type": "execute_result"
    }
   ],
   "source": [
    "df_stock.insert(0, 'Name', name)\n",
    "df_stock"
   ]
  },
  {
   "cell_type": "code",
   "execution_count": null,
   "id": "721a0a48",
   "metadata": {},
   "outputs": [],
   "source": []
  },
  {
   "cell_type": "code",
   "execution_count": 66,
   "id": "e889b498",
   "metadata": {},
   "outputs": [],
   "source": [
    "def get_stock_fundamental(date, ticker):\n",
    "    # 펀더멘탈 정보 읽어 오기\n",
    "    df_stock = stock.get_market_fundamental(date, date, ticker)\n",
    "    # 인덱스 이름 제거\n",
    "    df_stock.index.name = None\n",
    "    # 인덱스를 티커로 변경\n",
    "    df_stock.index = [ticker]\n",
    "    # 이름 읽어 오기\n",
    "    name = stock.get_market_ticker_name(ticker)\n",
    "    # 첫 번째 열에 삽입하기\n",
    "    df_stock.insert(0, 'Name', name)\n",
    "    # 주식 데이터 리턴\n",
    "    return df_stock"
   ]
  },
  {
   "cell_type": "code",
   "execution_count": 67,
   "id": "bbcd0574",
   "metadata": {},
   "outputs": [
    {
     "data": {
      "text/html": [
       "<div>\n",
       "<style scoped>\n",
       "    .dataframe tbody tr th:only-of-type {\n",
       "        vertical-align: middle;\n",
       "    }\n",
       "\n",
       "    .dataframe tbody tr th {\n",
       "        vertical-align: top;\n",
       "    }\n",
       "\n",
       "    .dataframe thead th {\n",
       "        text-align: right;\n",
       "    }\n",
       "</style>\n",
       "<table border=\"1\" class=\"dataframe\">\n",
       "  <thead>\n",
       "    <tr style=\"text-align: right;\">\n",
       "      <th></th>\n",
       "      <th>Name</th>\n",
       "      <th>BPS</th>\n",
       "      <th>PER</th>\n",
       "      <th>PBR</th>\n",
       "      <th>EPS</th>\n",
       "      <th>DIV</th>\n",
       "      <th>DPS</th>\n",
       "    </tr>\n",
       "  </thead>\n",
       "  <tbody>\n",
       "    <tr>\n",
       "      <th>005930</th>\n",
       "      <td>삼성전자</td>\n",
       "      <td>43611</td>\n",
       "      <td>11.04</td>\n",
       "      <td>1.46</td>\n",
       "      <td>5777</td>\n",
       "      <td>2.26</td>\n",
       "      <td>1444</td>\n",
       "    </tr>\n",
       "  </tbody>\n",
       "</table>\n",
       "</div>"
      ],
      "text/plain": [
       "        Name    BPS    PER   PBR   EPS   DIV   DPS\n",
       "005930  삼성전자  43611  11.04  1.46  5777  2.26  1444"
      ]
     },
     "execution_count": 67,
     "metadata": {},
     "output_type": "execute_result"
    }
   ],
   "source": [
    "df_stock = get_stock_fundamental('20230203', '005930')\n",
    "df_stock"
   ]
  },
  {
   "cell_type": "code",
   "execution_count": null,
   "id": "89e76eae",
   "metadata": {},
   "outputs": [],
   "source": []
  },
  {
   "cell_type": "code",
   "execution_count": null,
   "id": "b8fa2cf3",
   "metadata": {},
   "outputs": [],
   "source": []
  }
 ],
 "metadata": {
  "kernelspec": {
   "display_name": "Python 3 (ipykernel)",
   "language": "python",
   "name": "python3"
  },
  "language_info": {
   "codemirror_mode": {
    "name": "ipython",
    "version": 3
   },
   "file_extension": ".py",
   "mimetype": "text/x-python",
   "name": "python",
   "nbconvert_exporter": "python",
   "pygments_lexer": "ipython3",
   "version": "3.9.12"
  }
 },
 "nbformat": 4,
 "nbformat_minor": 5
}
