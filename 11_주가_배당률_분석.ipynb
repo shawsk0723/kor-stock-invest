{
 "cells": [
  {
   "cell_type": "code",
   "execution_count": 57,
   "id": "368c49c4",
   "metadata": {},
   "outputs": [],
   "source": [
    "import numpy as np\n",
    "import pandas as pd\n",
    "from scipy.signal import savgol_filter\n",
    "from pykrx import stock\n",
    "import matplotlib.pyplot as plt\n",
    "plt.rcParams['font.family'] = 'Malgun Gothic'"
   ]
  },
  {
   "cell_type": "code",
   "execution_count": 10,
   "id": "a8180ffd",
   "metadata": {},
   "outputs": [],
   "source": [
    "\"\"\"\n",
    "분석 기간\n",
    "\"\"\"\n",
    "start_date = '20170101'\n",
    "end_date = '20221231'"
   ]
  },
  {
   "cell_type": "code",
   "execution_count": 11,
   "id": "98745d8f",
   "metadata": {},
   "outputs": [],
   "source": [
    "\"\"\"\n",
    "분석 기업 -> 삼성전기\n",
    "\"\"\"\n",
    "code = '009150'"
   ]
  },
  {
   "cell_type": "code",
   "execution_count": 12,
   "id": "614902ab",
   "metadata": {},
   "outputs": [],
   "source": [
    "df_f = stock.get_market_fundamental(start_date, end_date, code, freq='y')"
   ]
  },
  {
   "cell_type": "code",
   "execution_count": 13,
   "id": "289c160b",
   "metadata": {},
   "outputs": [
    {
     "data": {
      "text/html": [
       "<div>\n",
       "<style scoped>\n",
       "    .dataframe tbody tr th:only-of-type {\n",
       "        vertical-align: middle;\n",
       "    }\n",
       "\n",
       "    .dataframe tbody tr th {\n",
       "        vertical-align: top;\n",
       "    }\n",
       "\n",
       "    .dataframe thead th {\n",
       "        text-align: right;\n",
       "    }\n",
       "</style>\n",
       "<table border=\"1\" class=\"dataframe\">\n",
       "  <thead>\n",
       "    <tr style=\"text-align: right;\">\n",
       "      <th></th>\n",
       "      <th>BPS</th>\n",
       "      <th>PER</th>\n",
       "      <th>PBR</th>\n",
       "      <th>EPS</th>\n",
       "      <th>DIV</th>\n",
       "      <th>DPS</th>\n",
       "    </tr>\n",
       "    <tr>\n",
       "      <th>날짜</th>\n",
       "      <th></th>\n",
       "      <th></th>\n",
       "      <th></th>\n",
       "      <th></th>\n",
       "      <th></th>\n",
       "      <th></th>\n",
       "    </tr>\n",
       "  </thead>\n",
       "  <tbody>\n",
       "    <tr>\n",
       "      <th>2017-12-31</th>\n",
       "      <td>54408</td>\n",
       "      <td>345.89</td>\n",
       "      <td>0.93</td>\n",
       "      <td>146</td>\n",
       "      <td>0.99</td>\n",
       "      <td>500</td>\n",
       "    </tr>\n",
       "    <tr>\n",
       "      <th>2018-12-31</th>\n",
       "      <td>54640</td>\n",
       "      <td>523.32</td>\n",
       "      <td>1.85</td>\n",
       "      <td>193</td>\n",
       "      <td>0.50</td>\n",
       "      <td>500</td>\n",
       "    </tr>\n",
       "    <tr>\n",
       "      <th>2019-12-31</th>\n",
       "      <td>54531</td>\n",
       "      <td>46.75</td>\n",
       "      <td>1.83</td>\n",
       "      <td>2139</td>\n",
       "      <td>0.75</td>\n",
       "      <td>750</td>\n",
       "    </tr>\n",
       "    <tr>\n",
       "      <th>2020-12-31</th>\n",
       "      <td>62126</td>\n",
       "      <td>14.57</td>\n",
       "      <td>2.04</td>\n",
       "      <td>8685</td>\n",
       "      <td>0.79</td>\n",
       "      <td>1000</td>\n",
       "    </tr>\n",
       "    <tr>\n",
       "      <th>2021-12-31</th>\n",
       "      <td>68106</td>\n",
       "      <td>26.45</td>\n",
       "      <td>2.64</td>\n",
       "      <td>6806</td>\n",
       "      <td>0.61</td>\n",
       "      <td>1100</td>\n",
       "    </tr>\n",
       "    <tr>\n",
       "      <th>2022-12-31</th>\n",
       "      <td>74385</td>\n",
       "      <td>24.33</td>\n",
       "      <td>2.61</td>\n",
       "      <td>7993</td>\n",
       "      <td>0.72</td>\n",
       "      <td>1400</td>\n",
       "    </tr>\n",
       "  </tbody>\n",
       "</table>\n",
       "</div>"
      ],
      "text/plain": [
       "              BPS     PER   PBR   EPS   DIV   DPS\n",
       "날짜                                               \n",
       "2017-12-31  54408  345.89  0.93   146  0.99   500\n",
       "2018-12-31  54640  523.32  1.85   193  0.50   500\n",
       "2019-12-31  54531   46.75  1.83  2139  0.75   750\n",
       "2020-12-31  62126   14.57  2.04  8685  0.79  1000\n",
       "2021-12-31  68106   26.45  2.64  6806  0.61  1100\n",
       "2022-12-31  74385   24.33  2.61  7993  0.72  1400"
      ]
     },
     "execution_count": 13,
     "metadata": {},
     "output_type": "execute_result"
    }
   ],
   "source": [
    "df_f"
   ]
  },
  {
   "cell_type": "code",
   "execution_count": null,
   "id": "b8f7e0f9",
   "metadata": {},
   "outputs": [],
   "source": [
    "df_f = df_f.DPS"
   ]
  },
  {
   "cell_type": "code",
   "execution_count": null,
   "id": "0dc76bfa",
   "metadata": {},
   "outputs": [],
   "source": []
  },
  {
   "cell_type": "code",
   "execution_count": 16,
   "id": "118eafe2",
   "metadata": {},
   "outputs": [],
   "source": [
    "df_f = stock.get_market_fundamental(start_date, end_date, code, freq='d')"
   ]
  },
  {
   "cell_type": "code",
   "execution_count": 17,
   "id": "de620bf6",
   "metadata": {},
   "outputs": [
    {
     "data": {
      "text/html": [
       "<div>\n",
       "<style scoped>\n",
       "    .dataframe tbody tr th:only-of-type {\n",
       "        vertical-align: middle;\n",
       "    }\n",
       "\n",
       "    .dataframe tbody tr th {\n",
       "        vertical-align: top;\n",
       "    }\n",
       "\n",
       "    .dataframe thead th {\n",
       "        text-align: right;\n",
       "    }\n",
       "</style>\n",
       "<table border=\"1\" class=\"dataframe\">\n",
       "  <thead>\n",
       "    <tr style=\"text-align: right;\">\n",
       "      <th></th>\n",
       "      <th>BPS</th>\n",
       "      <th>PER</th>\n",
       "      <th>PBR</th>\n",
       "      <th>EPS</th>\n",
       "      <th>DIV</th>\n",
       "      <th>DPS</th>\n",
       "    </tr>\n",
       "    <tr>\n",
       "      <th>날짜</th>\n",
       "      <th></th>\n",
       "      <th></th>\n",
       "      <th></th>\n",
       "      <th></th>\n",
       "      <th></th>\n",
       "      <th></th>\n",
       "    </tr>\n",
       "  </thead>\n",
       "  <tbody>\n",
       "    <tr>\n",
       "      <th>2017-01-02</th>\n",
       "      <td>54408</td>\n",
       "      <td>345.89</td>\n",
       "      <td>0.93</td>\n",
       "      <td>146</td>\n",
       "      <td>0.99</td>\n",
       "      <td>500</td>\n",
       "    </tr>\n",
       "    <tr>\n",
       "      <th>2017-01-03</th>\n",
       "      <td>54408</td>\n",
       "      <td>356.85</td>\n",
       "      <td>0.96</td>\n",
       "      <td>146</td>\n",
       "      <td>0.96</td>\n",
       "      <td>500</td>\n",
       "    </tr>\n",
       "    <tr>\n",
       "      <th>2017-01-04</th>\n",
       "      <td>54408</td>\n",
       "      <td>354.11</td>\n",
       "      <td>0.95</td>\n",
       "      <td>146</td>\n",
       "      <td>0.97</td>\n",
       "      <td>500</td>\n",
       "    </tr>\n",
       "    <tr>\n",
       "      <th>2017-01-05</th>\n",
       "      <td>54408</td>\n",
       "      <td>356.16</td>\n",
       "      <td>0.96</td>\n",
       "      <td>146</td>\n",
       "      <td>0.96</td>\n",
       "      <td>500</td>\n",
       "    </tr>\n",
       "    <tr>\n",
       "      <th>2017-01-06</th>\n",
       "      <td>54408</td>\n",
       "      <td>355.48</td>\n",
       "      <td>0.95</td>\n",
       "      <td>146</td>\n",
       "      <td>0.96</td>\n",
       "      <td>500</td>\n",
       "    </tr>\n",
       "    <tr>\n",
       "      <th>...</th>\n",
       "      <td>...</td>\n",
       "      <td>...</td>\n",
       "      <td>...</td>\n",
       "      <td>...</td>\n",
       "      <td>...</td>\n",
       "      <td>...</td>\n",
       "    </tr>\n",
       "    <tr>\n",
       "      <th>2022-12-23</th>\n",
       "      <td>88937</td>\n",
       "      <td>11.35</td>\n",
       "      <td>1.51</td>\n",
       "      <td>11811</td>\n",
       "      <td>1.57</td>\n",
       "      <td>2100</td>\n",
       "    </tr>\n",
       "    <tr>\n",
       "      <th>2022-12-26</th>\n",
       "      <td>88937</td>\n",
       "      <td>11.35</td>\n",
       "      <td>1.51</td>\n",
       "      <td>11811</td>\n",
       "      <td>1.57</td>\n",
       "      <td>2100</td>\n",
       "    </tr>\n",
       "    <tr>\n",
       "      <th>2022-12-27</th>\n",
       "      <td>88937</td>\n",
       "      <td>11.26</td>\n",
       "      <td>1.50</td>\n",
       "      <td>11811</td>\n",
       "      <td>1.58</td>\n",
       "      <td>2100</td>\n",
       "    </tr>\n",
       "    <tr>\n",
       "      <th>2022-12-28</th>\n",
       "      <td>88937</td>\n",
       "      <td>11.35</td>\n",
       "      <td>1.51</td>\n",
       "      <td>11811</td>\n",
       "      <td>1.57</td>\n",
       "      <td>2100</td>\n",
       "    </tr>\n",
       "    <tr>\n",
       "      <th>2022-12-29</th>\n",
       "      <td>88937</td>\n",
       "      <td>11.05</td>\n",
       "      <td>1.47</td>\n",
       "      <td>11811</td>\n",
       "      <td>1.61</td>\n",
       "      <td>2100</td>\n",
       "    </tr>\n",
       "  </tbody>\n",
       "</table>\n",
       "<p>1475 rows × 6 columns</p>\n",
       "</div>"
      ],
      "text/plain": [
       "              BPS     PER   PBR    EPS   DIV   DPS\n",
       "날짜                                                \n",
       "2017-01-02  54408  345.89  0.93    146  0.99   500\n",
       "2017-01-03  54408  356.85  0.96    146  0.96   500\n",
       "2017-01-04  54408  354.11  0.95    146  0.97   500\n",
       "2017-01-05  54408  356.16  0.96    146  0.96   500\n",
       "2017-01-06  54408  355.48  0.95    146  0.96   500\n",
       "...           ...     ...   ...    ...   ...   ...\n",
       "2022-12-23  88937   11.35  1.51  11811  1.57  2100\n",
       "2022-12-26  88937   11.35  1.51  11811  1.57  2100\n",
       "2022-12-27  88937   11.26  1.50  11811  1.58  2100\n",
       "2022-12-28  88937   11.35  1.51  11811  1.57  2100\n",
       "2022-12-29  88937   11.05  1.47  11811  1.61  2100\n",
       "\n",
       "[1475 rows x 6 columns]"
      ]
     },
     "execution_count": 17,
     "metadata": {},
     "output_type": "execute_result"
    }
   ],
   "source": [
    "df_f"
   ]
  },
  {
   "cell_type": "code",
   "execution_count": 58,
   "id": "4132ddfc",
   "metadata": {},
   "outputs": [
    {
     "data": {
      "image/png": "[encoded data removed]",
      "text/plain": [
       "<Figure size 432x288 with 1 Axes>"
      ]
     },
     "metadata": {
      "needs_background": "light"
     },
     "output_type": "display_data"
    }
   ],
   "source": [
    "df_f.DIV.plot()\n",
    "plt.show()"
   ]
  },
  {
   "cell_type": "code",
   "execution_count": 54,
   "id": "e8f9f044",
   "metadata": {},
   "outputs": [],
   "source": [
    "div_yields = savgol_filter(df_f.DIV, 51, 3)"
   ]
  },
  {
   "cell_type": "code",
   "execution_count": 60,
   "id": "4f05be60",
   "metadata": {},
   "outputs": [
    {
     "data": {
      "image/png": "[encoded data removed]",
      "text/plain": [
       "<Figure size 432x288 with 1 Axes>"
      ]
     },
     "metadata": {
      "needs_background": "light"
     },
     "output_type": "display_data"
    }
   ],
   "source": [
    "plt.plot(df_f.index.to_list(), div_yields)\n",
    "plt.show()"
   ]
  },
  {
   "cell_type": "code",
   "execution_count": null,
   "id": "1f67dd44",
   "metadata": {},
   "outputs": [],
   "source": []
  },
  {
   "cell_type": "code",
   "execution_count": 21,
   "id": "9506fb18",
   "metadata": {},
   "outputs": [
    {
     "data": {
      "text/html": [
       "<div>\n",
       "<style scoped>\n",
       "    .dataframe tbody tr th:only-of-type {\n",
       "        vertical-align: middle;\n",
       "    }\n",
       "\n",
       "    .dataframe tbody tr th {\n",
       "        vertical-align: top;\n",
       "    }\n",
       "\n",
       "    .dataframe thead th {\n",
       "        text-align: right;\n",
       "    }\n",
       "</style>\n",
       "<table border=\"1\" class=\"dataframe\">\n",
       "  <thead>\n",
       "    <tr style=\"text-align: right;\">\n",
       "      <th></th>\n",
       "      <th>시가</th>\n",
       "      <th>고가</th>\n",
       "      <th>저가</th>\n",
       "      <th>종가</th>\n",
       "      <th>거래량</th>\n",
       "      <th>거래대금</th>\n",
       "      <th>등락률</th>\n",
       "    </tr>\n",
       "    <tr>\n",
       "      <th>날짜</th>\n",
       "      <th></th>\n",
       "      <th></th>\n",
       "      <th></th>\n",
       "      <th></th>\n",
       "      <th></th>\n",
       "      <th></th>\n",
       "      <th></th>\n",
       "    </tr>\n",
       "  </thead>\n",
       "  <tbody>\n",
       "    <tr>\n",
       "      <th>2017-01-02</th>\n",
       "      <td>50400</td>\n",
       "      <td>50800</td>\n",
       "      <td>49850</td>\n",
       "      <td>50500</td>\n",
       "      <td>264982</td>\n",
       "      <td>13383635250</td>\n",
       "      <td>-0.59</td>\n",
       "    </tr>\n",
       "    <tr>\n",
       "      <th>2017-01-03</th>\n",
       "      <td>51000</td>\n",
       "      <td>52300</td>\n",
       "      <td>50800</td>\n",
       "      <td>52100</td>\n",
       "      <td>545167</td>\n",
       "      <td>28309849400</td>\n",
       "      <td>3.17</td>\n",
       "    </tr>\n",
       "    <tr>\n",
       "      <th>2017-01-04</th>\n",
       "      <td>51800</td>\n",
       "      <td>52100</td>\n",
       "      <td>51300</td>\n",
       "      <td>51700</td>\n",
       "      <td>355343</td>\n",
       "      <td>18374772700</td>\n",
       "      <td>-0.77</td>\n",
       "    </tr>\n",
       "    <tr>\n",
       "      <th>2017-01-05</th>\n",
       "      <td>51900</td>\n",
       "      <td>52400</td>\n",
       "      <td>51500</td>\n",
       "      <td>52000</td>\n",
       "      <td>281546</td>\n",
       "      <td>14593472800</td>\n",
       "      <td>0.58</td>\n",
       "    </tr>\n",
       "    <tr>\n",
       "      <th>2017-01-06</th>\n",
       "      <td>52200</td>\n",
       "      <td>52800</td>\n",
       "      <td>51800</td>\n",
       "      <td>51900</td>\n",
       "      <td>265249</td>\n",
       "      <td>13815623000</td>\n",
       "      <td>-0.19</td>\n",
       "    </tr>\n",
       "    <tr>\n",
       "      <th>...</th>\n",
       "      <td>...</td>\n",
       "      <td>...</td>\n",
       "      <td>...</td>\n",
       "      <td>...</td>\n",
       "      <td>...</td>\n",
       "      <td>...</td>\n",
       "      <td>...</td>\n",
       "    </tr>\n",
       "    <tr>\n",
       "      <th>2022-12-23</th>\n",
       "      <td>135500</td>\n",
       "      <td>136500</td>\n",
       "      <td>133000</td>\n",
       "      <td>134000</td>\n",
       "      <td>264355</td>\n",
       "      <td>35521446000</td>\n",
       "      <td>-2.90</td>\n",
       "    </tr>\n",
       "    <tr>\n",
       "      <th>2022-12-26</th>\n",
       "      <td>134000</td>\n",
       "      <td>135500</td>\n",
       "      <td>133500</td>\n",
       "      <td>134000</td>\n",
       "      <td>211353</td>\n",
       "      <td>28455979500</td>\n",
       "      <td>0.00</td>\n",
       "    </tr>\n",
       "    <tr>\n",
       "      <th>2022-12-27</th>\n",
       "      <td>135000</td>\n",
       "      <td>136000</td>\n",
       "      <td>132000</td>\n",
       "      <td>133000</td>\n",
       "      <td>422061</td>\n",
       "      <td>56195883500</td>\n",
       "      <td>-0.75</td>\n",
       "    </tr>\n",
       "    <tr>\n",
       "      <th>2022-12-28</th>\n",
       "      <td>132000</td>\n",
       "      <td>135000</td>\n",
       "      <td>131500</td>\n",
       "      <td>134000</td>\n",
       "      <td>311238</td>\n",
       "      <td>41447023500</td>\n",
       "      <td>0.75</td>\n",
       "    </tr>\n",
       "    <tr>\n",
       "      <th>2022-12-29</th>\n",
       "      <td>133000</td>\n",
       "      <td>133500</td>\n",
       "      <td>130000</td>\n",
       "      <td>130500</td>\n",
       "      <td>280030</td>\n",
       "      <td>36745738500</td>\n",
       "      <td>-2.61</td>\n",
       "    </tr>\n",
       "  </tbody>\n",
       "</table>\n",
       "<p>1475 rows × 7 columns</p>\n",
       "</div>"
      ],
      "text/plain": [
       "                시가      고가      저가      종가     거래량         거래대금   등락률\n",
       "날짜                                                                   \n",
       "2017-01-02   50400   50800   49850   50500  264982  13383635250 -0.59\n",
       "2017-01-03   51000   52300   50800   52100  545167  28309849400  3.17\n",
       "2017-01-04   51800   52100   51300   51700  355343  18374772700 -0.77\n",
       "2017-01-05   51900   52400   51500   52000  281546  14593472800  0.58\n",
       "2017-01-06   52200   52800   51800   51900  265249  13815623000 -0.19\n",
       "...            ...     ...     ...     ...     ...          ...   ...\n",
       "2022-12-23  135500  136500  133000  134000  264355  35521446000 -2.90\n",
       "2022-12-26  134000  135500  133500  134000  211353  28455979500  0.00\n",
       "2022-12-27  135000  136000  132000  133000  422061  56195883500 -0.75\n",
       "2022-12-28  132000  135000  131500  134000  311238  41447023500  0.75\n",
       "2022-12-29  133000  133500  130000  130500  280030  36745738500 -2.61\n",
       "\n",
       "[1475 rows x 7 columns]"
      ]
     },
     "execution_count": 21,
     "metadata": {},
     "output_type": "execute_result"
    }
   ],
   "source": [
    "df_p = stock.get_market_ohlcv(start_date, end_date, code)\n",
    "df_p"
   ]
  },
  {
   "cell_type": "code",
   "execution_count": 87,
   "id": "2dbb43f7",
   "metadata": {},
   "outputs": [
    {
     "data": {
      "image/png": "[encoded data removed]",
      "text/plain": [
       "<Figure size 432x288 with 1 Axes>"
      ]
     },
     "metadata": {
      "needs_background": "light"
     },
     "output_type": "display_data"
    }
   ],
   "source": [
    "df_p.종가.plot()\n",
    "plt.show()"
   ]
  },
  {
   "cell_type": "code",
   "execution_count": 25,
   "id": "db096919",
   "metadata": {},
   "outputs": [
    {
     "data": {
      "image/png": "[encoded data removed]",
      "text/plain": [
       "<Figure size 432x288 with 2 Axes>"
      ]
     },
     "metadata": {
      "needs_background": "light"
     },
     "output_type": "display_data"
    }
   ],
   "source": [
    "\"\"\"\n",
    "주가 배당률 그리기\n",
    "\"\"\"\n",
    "fig, ax1 = plt.subplots()\n",
    "\n",
    "color = 'tab:red'\n",
    "ax1.set_xlabel('year')\n",
    "ax1.set_ylabel('price', color=color)\n",
    "ax1.plot(df_p['종가'], color=color)\n",
    "\n",
    "ax2 = ax1.twinx()\n",
    "\n",
    "color = 'tab:blue'\n",
    "ax2.set_ylabel('dividend yield', color=color)\n",
    "ax2.plot(df_f['DIV'], color=color)\n",
    "plt.show()"
   ]
  },
  {
   "cell_type": "code",
   "execution_count": 27,
   "id": "37f8374a",
   "metadata": {},
   "outputs": [
    {
     "data": {
      "text/plain": [
       "array([[ 1.        , -0.03576827],\n",
       "       [-0.03576827,  1.        ]])"
      ]
     },
     "execution_count": 27,
     "metadata": {},
     "output_type": "execute_result"
    }
   ],
   "source": [
    "np.corrcoef(df_p['종가'], df_f['DIV'])"
   ]
  },
  {
   "cell_type": "markdown",
   "id": "a8ea324e",
   "metadata": {},
   "source": [
    "\"\"\"\n",
    "로우 패스 필터\n",
    "\"\"\""
   ]
  },
  {
   "cell_type": "code",
   "execution_count": null,
   "id": "5d06b667",
   "metadata": {},
   "outputs": [],
   "source": [
    "div_yields = savgol_filter(df_f.DIV, 51, 3)"
   ]
  },
  {
   "cell_type": "code",
   "execution_count": null,
   "id": "e65afdba",
   "metadata": {},
   "outputs": [],
   "source": []
  },
  {
   "cell_type": "code",
   "execution_count": 76,
   "id": "be247a17",
   "metadata": {},
   "outputs": [
    {
     "data": {
      "text/html": [
       "<div>\n",
       "<style scoped>\n",
       "    .dataframe tbody tr th:only-of-type {\n",
       "        vertical-align: middle;\n",
       "    }\n",
       "\n",
       "    .dataframe tbody tr th {\n",
       "        vertical-align: top;\n",
       "    }\n",
       "\n",
       "    .dataframe thead th {\n",
       "        text-align: right;\n",
       "    }\n",
       "</style>\n",
       "<table border=\"1\" class=\"dataframe\">\n",
       "  <thead>\n",
       "    <tr style=\"text-align: right;\">\n",
       "      <th></th>\n",
       "      <th>BPS</th>\n",
       "      <th>PER</th>\n",
       "      <th>PBR</th>\n",
       "      <th>EPS</th>\n",
       "      <th>DIV</th>\n",
       "      <th>DPS</th>\n",
       "    </tr>\n",
       "    <tr>\n",
       "      <th>날짜</th>\n",
       "      <th></th>\n",
       "      <th></th>\n",
       "      <th></th>\n",
       "      <th></th>\n",
       "      <th></th>\n",
       "      <th></th>\n",
       "    </tr>\n",
       "  </thead>\n",
       "  <tbody>\n",
       "    <tr>\n",
       "      <th>2023-02-14</th>\n",
       "      <td>88937</td>\n",
       "      <td>12.27</td>\n",
       "      <td>1.63</td>\n",
       "      <td>11811</td>\n",
       "      <td>1.45</td>\n",
       "      <td>2100</td>\n",
       "    </tr>\n",
       "  </tbody>\n",
       "</table>\n",
       "</div>"
      ],
      "text/plain": [
       "              BPS    PER   PBR    EPS   DIV   DPS\n",
       "날짜                                               \n",
       "2023-02-14  88937  12.27  1.63  11811  1.45  2100"
      ]
     },
     "execution_count": 76,
     "metadata": {},
     "output_type": "execute_result"
    }
   ],
   "source": [
    "df_cur_f = stock.get_market_fundamental('20230214', '20230214', code)\n",
    "df_cur_f"
   ]
  },
  {
   "cell_type": "code",
   "execution_count": 77,
   "id": "b62031a1",
   "metadata": {},
   "outputs": [
    {
     "data": {
      "text/html": [
       "<div>\n",
       "<style scoped>\n",
       "    .dataframe tbody tr th:only-of-type {\n",
       "        vertical-align: middle;\n",
       "    }\n",
       "\n",
       "    .dataframe tbody tr th {\n",
       "        vertical-align: top;\n",
       "    }\n",
       "\n",
       "    .dataframe thead th {\n",
       "        text-align: right;\n",
       "    }\n",
       "</style>\n",
       "<table border=\"1\" class=\"dataframe\">\n",
       "  <thead>\n",
       "    <tr style=\"text-align: right;\">\n",
       "      <th></th>\n",
       "      <th>시가</th>\n",
       "      <th>고가</th>\n",
       "      <th>저가</th>\n",
       "      <th>종가</th>\n",
       "      <th>거래량</th>\n",
       "      <th>거래대금</th>\n",
       "      <th>등락률</th>\n",
       "    </tr>\n",
       "    <tr>\n",
       "      <th>날짜</th>\n",
       "      <th></th>\n",
       "      <th></th>\n",
       "      <th></th>\n",
       "      <th></th>\n",
       "      <th></th>\n",
       "      <th></th>\n",
       "      <th></th>\n",
       "    </tr>\n",
       "  </thead>\n",
       "  <tbody>\n",
       "    <tr>\n",
       "      <th>2023-02-14</th>\n",
       "      <td>145400</td>\n",
       "      <td>146900</td>\n",
       "      <td>144200</td>\n",
       "      <td>144900</td>\n",
       "      <td>236461</td>\n",
       "      <td>34347094700</td>\n",
       "      <td>0.21</td>\n",
       "    </tr>\n",
       "  </tbody>\n",
       "</table>\n",
       "</div>"
      ],
      "text/plain": [
       "                시가      고가      저가      종가     거래량         거래대금   등락률\n",
       "날짜                                                                   \n",
       "2023-02-14  145400  146900  144200  144900  236461  34347094700  0.21"
      ]
     },
     "execution_count": 77,
     "metadata": {},
     "output_type": "execute_result"
    }
   ],
   "source": [
    "df_cur_p = stock.get_market_ohlcv('20230214', '20230214', code)\n",
    "df_cur_p"
   ]
  },
  {
   "cell_type": "code",
   "execution_count": 78,
   "id": "ec92fa4e",
   "metadata": {},
   "outputs": [
    {
     "data": {
      "text/plain": [
       "144900"
      ]
     },
     "execution_count": 78,
     "metadata": {},
     "output_type": "execute_result"
    }
   ],
   "source": [
    "cur_price = df_cur_p.종가[0]\n",
    "cur_price"
   ]
  },
  {
   "cell_type": "code",
   "execution_count": null,
   "id": "00ab4027",
   "metadata": {},
   "outputs": [],
   "source": []
  },
  {
   "cell_type": "code",
   "execution_count": 79,
   "id": "85448387",
   "metadata": {},
   "outputs": [
    {
     "data": {
      "text/plain": [
       "0.44035766"
      ]
     },
     "execution_count": 79,
     "metadata": {},
     "output_type": "execute_result"
    }
   ],
   "source": [
    "div_min = min(div_yields)\n",
    "div_min"
   ]
  },
  {
   "cell_type": "code",
   "execution_count": 80,
   "id": "4e55df3f",
   "metadata": {},
   "outputs": [
    {
     "data": {
      "text/plain": [
       "1.8028383"
      ]
     },
     "execution_count": 80,
     "metadata": {},
     "output_type": "execute_result"
    }
   ],
   "source": [
    "div_max = max(div_yields)\n",
    "div_max"
   ]
  },
  {
   "cell_type": "code",
   "execution_count": 81,
   "id": "5883c75a",
   "metadata": {},
   "outputs": [
    {
     "data": {
      "text/plain": [
       "2100"
      ]
     },
     "execution_count": 81,
     "metadata": {},
     "output_type": "execute_result"
    }
   ],
   "source": [
    "cur_div = df_cur_f.DPS[0]\n",
    "cur_div"
   ]
  },
  {
   "cell_type": "code",
   "execution_count": 83,
   "id": "9e2fb7bd",
   "metadata": {},
   "outputs": [
    {
     "data": {
      "text/plain": [
       "476885.08983279654"
      ]
     },
     "execution_count": 83,
     "metadata": {},
     "output_type": "execute_result"
    }
   ],
   "source": [
    "target_price = cur_div/div_min * 100\n",
    "target_price"
   ]
  },
  {
   "cell_type": "code",
   "execution_count": 84,
   "id": "667d7a4e",
   "metadata": {},
   "outputs": [
    {
     "data": {
      "text/plain": [
       "116482.9907538723"
      ]
     },
     "execution_count": 84,
     "metadata": {},
     "output_type": "execute_result"
    }
   ],
   "source": [
    "buy_price = cur_div/div_max * 100\n",
    "buy_price"
   ]
  },
  {
   "cell_type": "code",
   "execution_count": 85,
   "id": "376114de",
   "metadata": {},
   "outputs": [],
   "source": [
    "def get_percentage(input, min, max):\n",
    "    return round((input - min) / (max - min) * 100)\n",
    "\n",
    "def calculate_buy_score(current_div_yield, div_min, div_max):\n",
    "    buy_score = get_percentage(current_div_yield, div_min, div_max)\n",
    "    return buy_score"
   ]
  },
  {
   "cell_type": "code",
   "execution_count": 86,
   "id": "bcaf568c",
   "metadata": {},
   "outputs": [
    {
     "data": {
      "text/plain": [
       "74"
      ]
     },
     "execution_count": 86,
     "metadata": {},
     "output_type": "execute_result"
    }
   ],
   "source": [
    "calculate_buy_score(df_cur_f.DIV[0], div_min, div_max)"
   ]
  },
  {
   "cell_type": "code",
   "execution_count": null,
   "id": "6db4d56a",
   "metadata": {},
   "outputs": [],
   "source": []
  }
 ],
 "metadata": {
  "kernelspec": {
   "display_name": "Python 3 (ipykernel)",
   "language": "python",
   "name": "python3"
  },
  "language_info": {
   "codemirror_mode": {
    "name": "ipython",
    "version": 3
   },
   "file_extension": ".py",
   "mimetype": "text/x-python",
   "name": "python",
   "nbconvert_exporter": "python",
   "pygments_lexer": "ipython3",
   "version": "3.9.12"
  }
 },
 "nbformat": 4,
 "nbformat_minor": 5
}
